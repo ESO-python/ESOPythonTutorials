{
 "cells": [
  {
   "cell_type": "markdown",
   "metadata": {},
   "source": [
    "## Making graphics via code ##\n",
    "\n",
    "[tikz](www.texample.net/tikz) is a nice option.  It has [many guis](http://tex.stackexchange.com/questions/146704/gui-for-pgf-tikz).  No one here has much experience with it."
   ]
  },
  {
   "cell_type": "markdown",
   "metadata": {},
   "source": [
    "## Connecting to remote displays: ##\n",
    "\n",
    "xpra: screen for X  https://www.xpra.org/\n",
    "\n",
    " * also compresses better than regular X-forwarding\n",
    "\n",
    "nxmachine: non-free version (maybe less good)\n"
   ]
  },
  {
   "cell_type": "markdown",
   "metadata": {},
   "source": [
    "Also for remote machines when you don't want to see what's displayed:\n",
    "\n",
    "\"X virtual frame buffer\":\n",
    "\n",
    "```\n",
    "$ Xvfb :15 &\n",
    "$ # do gui things here: they will not be displayed onscreen\n",
    "```"
   ]
  },
  {
   "cell_type": "markdown",
   "metadata": {},
   "source": [
    "###Terminals on remote machines:###\n",
    "\n",
    " * screen:  https://www.gnu.org/software/screen/\n",
    "    * help: ctrl-a ?\n",
    "    * configuration: ~/.screenrc\n",
    " * tmux: terminal multiplexer https://tmux.github.io/\n",
    "    * help: \n",
    " * byobu http://byobu.co/\n",
    "    * help:"
   ]
  },
  {
   "cell_type": "markdown",
   "metadata": {},
   "source": [
    "## SSH tunneling ##\n",
    "\n",
    "A few methods:\n",
    "\n",
    "1. Set up everything in your `~/.ssh.config` file:\n",
    "\n",
    "```\n",
    "    host myhostname\n",
    "    user myusername\n",
    "    HostName ahostname.domainname.org\n",
    "    LocalForward 2022 computer1.domainname.org:22\n",
    "    LocalForward 2024 computer2.domainname.org:22\n",
    "\n",
    "    host computer1\n",
    "    HostName localhost\n",
    "    Port 2022\n",
    "    # ForwardX11 Yes   # optionally, always X-forward\n",
    "    User myusername\n",
    "```\n",
    "\n",
    "Then you would use it like so:\n",
    "\n",
    "```\n",
    "# open the tunnel\n",
    "ssh myhostname   # can use ssh -f myhostname to send this to the background\n",
    "# ssh into your machine!\n",
    "ssh computer1\n",
    "# copy files from remote machine to local\n",
    "rsync computer1:/path/to/stuff .\n",
    "```\n",
    "\n",
    "2. Or you can manually specify machine names and ports:\n",
    "   \n",
    "```   \n",
    "   ssh -N -f -C -L 2022:computer1:22 myusername@ahostname.domain.org\n",
    "   ssh -p 2022 myusername@localhost\n",
    "   rsync -e 'ssh -p 2022' aginsbur@localhost:/path/to/stuff .\n",
    "```\n",
    "\n",
    "This is clearly less convenient.  \n",
    "\n",
    "TODO: figure out how to configure #1 so that you can do `ssh myhostname` (within the network) or (outside the network with tunneling on)"
   ]
  },
  {
   "cell_type": "markdown",
   "metadata": {},
   "source": [
    "More questions:\n",
    "\n",
    "-where do you put notebooks?\n",
    "\n",
    "   (discussion question - we're looking for answers)\n",
    "\n",
    "-how do you remote-connect to notebooks?  (need a clean set of instructions)\n",
    "\n",
    "\n",
    "-how can access all machines on a network & get stats (df -h, cat /proc/cpuinfo, etc.) and get formatted output?\n",
    "\n",
    " * ssh, exec commands, catch output\n",
    " * probably need awk/perl/python parsing script\n",
    " * or use nagios (monitoring platform)\n",
    " * fabric (good for simple stuff)\n",
    " * cssh?"
   ]
  },
  {
   "cell_type": "markdown",
   "metadata": {},
   "source": [
    "mosh = mobile shell, designed for high-latency networks https://mosh.mit.edu/\n",
    "\n",
    " * useful when connecting from paranal, for example\n",
    " * immediate feedback on what you've typed"
   ]
  }
 ],
 "metadata": {
  "kernelspec": {
   "display_name": "Python 3",
   "language": "python",
   "name": "python3"
  },
  "language_info": {
   "codemirror_mode": {
    "name": "ipython",
    "version": 3
   },
   "file_extension": ".py",
   "mimetype": "text/x-python",
   "name": "python",
   "nbconvert_exporter": "python",
   "pygments_lexer": "ipython3",
   "version": "3.5.1"
  }
 },
 "nbformat": 4,
 "nbformat_minor": 0
}
