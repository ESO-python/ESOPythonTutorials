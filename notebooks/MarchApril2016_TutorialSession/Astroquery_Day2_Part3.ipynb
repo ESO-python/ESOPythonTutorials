{
 "cells": [
  {
   "cell_type": "code",
   "execution_count": 9,
   "metadata": {
    "collapsed": false
   },
   "outputs": [
    {
     "name": "stdout",
     "output_type": "stream",
     "text": [
      "Requirement already satisfied (use --upgrade to upgrade): astroquery in /Users/adam/anaconda/envs/esopython2016/lib/python3.5/site-packages\n",
      "Requirement already satisfied (use --upgrade to upgrade): beautifulsoup4>=4.3.2 in /Users/adam/anaconda/envs/esopython2016/lib/python3.5/site-packages (from astroquery)\n",
      "Requirement already satisfied (use --upgrade to upgrade): keyring>=4.0 in /Users/adam/anaconda/envs/esopython2016/lib/python3.5/site-packages (from astroquery)\n",
      "Requirement already satisfied (use --upgrade to upgrade): requests>=2.4.3 in /Users/adam/anaconda/envs/esopython2016/lib/python3.5/site-packages (from astroquery)\n",
      "Requirement already satisfied (use --upgrade to upgrade): html5lib>=0.999 in /Users/adam/anaconda/envs/esopython2016/lib/python3.5/site-packages (from astroquery)\n",
      "Requirement already satisfied (use --upgrade to upgrade): astropy>=0.4.1 in /Users/adam/anaconda/envs/esopython2016/lib/python3.5/site-packages (from astroquery)\n",
      "Requirement already satisfied (use --upgrade to upgrade): six in /Users/adam/anaconda/envs/esopython2016/lib/python3.5/site-packages (from html5lib>=0.999->astroquery)\n",
      "Requirement already satisfied (use --upgrade to upgrade): numpy>=1.6.0 in /Users/adam/anaconda/envs/esopython2016/lib/python3.5/site-packages (from astropy>=0.4.1->astroquery)\n"
     ]
    }
   ],
   "source": [
    "%%bash\n",
    "pip install astroquery"
   ]
  },
  {
   "cell_type": "code",
   "execution_count": 10,
   "metadata": {
    "collapsed": false
   },
   "outputs": [],
   "source": [
    "from astroquery.eso import Eso\n",
    "from astropy import coordinates\n",
    "from astropy import units as u"
   ]
  },
  {
   "cell_type": "code",
   "execution_count": 11,
   "metadata": {
    "collapsed": false
   },
   "outputs": [],
   "source": [
    "rslt = Eso.query_instrument('naco',target='Sgr A*')"
   ]
  },
  {
   "cell_type": "code",
   "execution_count": 12,
   "metadata": {
    "collapsed": false
   },
   "outputs": [],
   "source": [
    "coords = coordinates.SkyCoord(rslt['Target Ra Dec'], unit=(u.hour, u.deg))"
   ]
  },
  {
   "cell_type": "code",
   "execution_count": 13,
   "metadata": {
    "collapsed": false
   },
   "outputs": [
    {
     "data": {
      "text/plain": [
       "<SkyCoord (ICRS): (ra, dec) in deg\n",
       "    [(266.41658333, -29.00666667), (266.41483333, -29.00661111),\n",
       "     (266.4145, -29.00755556), (266.41725, -29.00911111),\n",
       "     (266.41695833, -29.00708333), (266.41620833, -29.00677778),\n",
       "     (266.41641667, -29.00883333), (266.41554167, -29.00858333),\n",
       "     (266.41433333, -29.00858333), (266.41733333, -29.00638889),\n",
       "     (266.41675, -29.00775), (266.41616667, -29.00661111),\n",
       "     (266.415625, -29.008), (266.41529167, -29.00677778),\n",
       "     (266.41779167, -29.00725), (266.416, -29.00872222),\n",
       "     (266.41733333, -29.00861111), (266.41820833, -29.00897222),\n",
       "     (266.41704167, -29.00661111), (266.418125, -29.00813889),\n",
       "     (266.41833333, -29.00658333), (266.41670833, -29.00786111),\n",
       "     (266.41666667, -29.00908333), (266.415625, -29.00763889),\n",
       "     (266.415625, -29.0065), (266.41633333, -29.00722222),\n",
       "     (266.4175, -29.00741667), (266.415375, -29.00913889),\n",
       "     (266.41825, -29.00897222), (266.41645833, -29.00647222),\n",
       "     (266.416375, -29.00630556), (266.41779167, -29.00563889),\n",
       "     (266.41745833, -29.00666667), (266.41654167, -29.00711111),\n",
       "     (266.41591667, -29.00511111), (266.415125, -29.00722222),\n",
       "     (266.41533333, -29.00588889), (266.41691667, -29.00572222),\n",
       "     (266.41720833, -29.005), (266.417875, -29.00752778),\n",
       "     (266.414875, -29.00511111), (266.41645833, -29.00630556),\n",
       "     (266.41770833, -29.00561111), (266.41741667, -29.00666667),\n",
       "     (266.416875, -29.00766667), (266.41595833, -29.00694444),\n",
       "     (266.41508333, -29.00722222), (266.41583333, -29.00552778),\n",
       "     (266.41508333, -29.00638889), (266.41641667, -29.00508333)]>"
      ]
     },
     "execution_count": 13,
     "metadata": {},
     "output_type": "execute_result"
    }
   ],
   "source": [
    "coords"
   ]
  },
  {
   "cell_type": "code",
   "execution_count": 14,
   "metadata": {
    "collapsed": false
   },
   "outputs": [
    {
     "data": {
      "text/plain": [
       "[<matplotlib.lines.Line2D at 0x10ee25b38>]"
      ]
     },
     "execution_count": 14,
     "metadata": {},
     "output_type": "execute_result"
    },
    {
     "data": {
      "image/png": "[encoded data removed]",
      "text/plain": [
       "<matplotlib.figure.Figure at 0x10db656a0>"
      ]
     },
     "metadata": {},
     "output_type": "display_data"
    }
   ],
   "source": [
    "%matplotlib inline\n",
    "import pylab as pl\n",
    "pl.plot(coords.ra.deg, coords.dec.deg, '.')"
   ]
  },
  {
   "cell_type": "code",
   "execution_count": 15,
   "metadata": {
    "collapsed": false
   },
   "outputs": [
    {
     "name": "stderr",
     "output_type": "stream",
     "text": [
      "/Users/adam/anaconda/envs/esopython2016/lib/python3.5/site-packages/matplotlib/artist.py:221: MatplotlibDeprecationWarning: This has been deprecated in mpl 1.5, please use the\n",
      "axes property.  A removal date has not been set.\n",
      "  warnings.warn(_get_axes_msg, mplDeprecation, stacklevel=1)\n"
     ]
    },
    {
     "name": "stdout",
     "output_type": "stream",
     "text": [
      "INFO: Auto-setting vmin to  4.221e+02 [aplpy.core]\n"
     ]
    },
    {
     "name": "stderr",
     "output_type": "stream",
     "text": [
      "WARNING: FITSFixedWarning: LONPOLE2= 180.000000000 /lonpole \n",
      "invalid alternate code, keyword resembles LONPOLEa but isn't. [astropy.wcs.wcs]\n",
      "WARNING: FITSFixedWarning: LATPOLE2= 0.00000000000 /latpole \n",
      "invalid alternate code, keyword resembles LATPOLEa but isn't. [astropy.wcs.wcs]\n"
     ]
    },
    {
     "data": {
      "image/png": "[encoded data removed]",
      "text/plain": [
       "<matplotlib.figure.Figure at 0x10c4b3dd8>"
      ]
     },
     "metadata": {},
     "output_type": "display_data"
    }
   ],
   "source": [
    "import aplpy\n",
    "F = aplpy.FITSFigure('gc_2mass_k.fits')\n",
    "F.show_grayscale(vmax=1000)\n",
    "F.show_contour('gc_bolocam_gps.fits', convention='calabretta')\n",
    "F.show_markers(coords.ra.deg, coords.dec.deg)\n",
    "sgrastar = coordinates.SkyCoord.from_name('Sgr A*')\n",
    "F.recenter(sgrastar.ra.deg, sgrastar.dec.deg, radius=0.01)"
   ]
  },
  {
   "cell_type": "code",
   "execution_count": 16,
   "metadata": {
    "collapsed": true
   },
   "outputs": [],
   "source": [
    "# load table from previous section"
   ]
  },
  {
   "cell_type": "code",
   "execution_count": 17,
   "metadata": {
    "collapsed": true
   },
   "outputs": [],
   "source": [
    "# crossmatch with... 2mass"
   ]
  },
  {
   "cell_type": "code",
   "execution_count": 18,
   "metadata": {
    "collapsed": true
   },
   "outputs": [],
   "source": [
    "from astroquery.irsa import Irsa"
   ]
  },
  {
   "cell_type": "code",
   "execution_count": 19,
   "metadata": {
    "collapsed": false
   },
   "outputs": [
    {
     "data": {
      "text/plain": [
       "{'a1763t2': 'Abell 1763 Source Catalog',\n",
       " 'a1763t3': 'Abell 1763 MIPS 70 micron Catalog',\n",
       " 'acmccat': 'ACMC Catalog',\n",
       " 'acs_iphot_sep07': 'COSMOS ACS I-band photometry catalog September 2007',\n",
       " 'akari_fis': 'Akari/FIS Bright Source Catalogue',\n",
       " 'akari_irc': 'Akari/IRC Point Source Catalogue',\n",
       " 'astsight': 'IRAS Minor Planet Survey',\n",
       " 'bolocam_gps_v1_0_1': 'BOLOCAM Galactic Plane Survey Catalog',\n",
       " 'bolocamdist': 'BOLOCAM Galactic Plane Survey Distance Catalog',\n",
       " 'bolocamv21': 'BOLOCAM Galactic Plane Survey Catalog v2.1',\n",
       " 'brava': 'BRAVA Catalog',\n",
       " 'cf_info': '2MASS Calibration Merged Point Source Information Table',\n",
       " 'cf_link': '2MASS Calibration Merged Point Source Link Table',\n",
       " 'chandra_160_cat_f05': \"SWIRE CDFS Region 160um Fall '05 SWIRE Spitzer Catalog\",\n",
       " 'chandra_24_cat_f05': \"SWIRE CDFS Region 24um Fall '05 Spitzer Catalog\",\n",
       " 'chandra_70_cat_f05': \"SWIRE CDFS Region 70um Fall '05 Spitzer Catalog\",\n",
       " 'chandra_cat_f05': \"SWIRE CDFS Region Fall '05  Spitzer Catalog\",\n",
       " 'clash36_v2': 'CLASH 3.6 micron Catalog',\n",
       " 'clash45_v2': 'CLASH 4.5 micron Catalog',\n",
       " 'clash58_v2': 'CLASH 5.8 micron Catalog',\n",
       " 'clash80_v2': 'CLASH 80 micron Catalog',\n",
       " 'coadd_dat': '2MASS Survey Atlas Image Info',\n",
       " 'coadd_dat_6x2': '2MASS 6X w/LMC/SMC Atlas Image Info',\n",
       " 'coadd_dat_c': '2MASS Calibration Atlas Image Info',\n",
       " 'coadd_dat_sc': '2MASS LMC/SMC Calibration Atlas Image Info',\n",
       " 'columns': 'Available columns at NASA/IPAC Infrared Science Archive',\n",
       " 'com_pccs1_030': 'Planck PCCS 30GHz Catalog',\n",
       " 'com_pccs1_044': 'Planck PCCS 44GHz Catalog',\n",
       " 'com_pccs1_070': 'Planck PCCS 70GHz Catalog',\n",
       " 'com_pccs1_100': 'Planck PCCS 100GHz Catalog',\n",
       " 'com_pccs1_143': 'Planck PCCS 143GHz Catalog',\n",
       " 'com_pccs1_217': 'Planck PCCS 217GHz Catalog',\n",
       " 'com_pccs1_353': 'Planck PCCS 353GHz Catalog',\n",
       " 'com_pccs1_545': 'Planck PCCS 545GHz Catalog',\n",
       " 'com_pccs1_857': 'Planck PCCS 857GHz Catalog',\n",
       " 'com_pccs1_sz_mmf1': 'Planck Sunyaev-Zeldovich Cluster MMF1 List',\n",
       " 'com_pccs1_sz_mmf3': 'Planck Sunyaev-Zeldovich Cluster MMF3 List',\n",
       " 'com_pccs1_sz_pws': 'Planck Sunyaev-Zeldovich Cluster PwS List',\n",
       " 'com_pccs1_sz_union2': 'Planck Sunyaev-Zeldovich Cluster UNION List v2.1',\n",
       " 'com_pccs2_030': 'Planck PCCS2 30GHz Catalog',\n",
       " 'com_pccs2_044': 'Planck PCCS2 44GHz Catalog',\n",
       " 'com_pccs2_070': 'Planck PCCS2 70GHz Catalog',\n",
       " 'com_pccs2_100': 'Planck PCCS2 100GHz Catalog',\n",
       " 'com_pccs2_143': 'Planck PCCS2 143GHz Catalog',\n",
       " 'com_pccs2_217': 'Planck PCCS2 217GHz Catalog',\n",
       " 'com_pccs2_353': 'Planck PCCS2 353GHz Catalog',\n",
       " 'com_pccs2_545': 'Planck PCCS2 545GHz Catalog',\n",
       " 'com_pccs2_857': 'Planck PCCS2 857GHz Catalog',\n",
       " 'com_pccs2_gcc': 'Planck Catalog of Galactic Cold Clumps',\n",
       " 'com_pccs2_sz_mmf1': 'Planck PR2 Sunyaev-Zeldovich Cluster MMF1 List',\n",
       " 'com_pccs2_sz_mmf3': 'Planck PR2 Sunyaev-Zeldovich Cluster MMF3 List',\n",
       " 'com_pccs2_sz_pws': 'Planck PR2 Sunyaev-Zeldovich Cluster PwS List',\n",
       " 'com_pccs2_sz_union': 'Planck PR2 Sunyaev-Zeldovich Cluster UNION List',\n",
       " 'com_pccs2e_100': 'Planck PCCS2E 100GHz Catalog (lower reliability)',\n",
       " 'com_pccs2e_143': 'Planck PCCS2E 143GHz Catalog (lower reliability)',\n",
       " 'com_pccs2e_217': 'Planck PCCS2E 217GHz Catalog (lower reliability)',\n",
       " 'com_pccs2e_353': 'Planck PCCS2E 353GHz Catalog (lower reliability)',\n",
       " 'com_pccs2e_545': 'Planck PCCS2E 545GHz Catalog (lower reliability)',\n",
       " 'com_pccs2e_857': 'Planck PCCS2E 857GHz Catalog (lower reliability)',\n",
       " 'comsight': 'IRAS Asteroid and Comet Survey',\n",
       " 'cosmos327': 'COSMOS VLA 327 MHz Catalog',\n",
       " 'cosmos_chandra_bsc21': 'Chandra-COSMOS Bright Source Catalog v2.1',\n",
       " 'cosmos_ib_phot': 'COSMOS Intermediate and Broad Band Photometry Catalog 2008',\n",
       " 'cosmos_morph_cassata_1_1': 'COSMOS Cassata Morphology Catalog v1.1',\n",
       " 'cosmos_morph_col_1': 'COSMOS Zamojski Morphology Catalog v1.0',\n",
       " 'cosmos_morph_tasca_1_1': 'COSMOS Tasca Morphology Catalog v1.1',\n",
       " 'cosmos_morph_zurich_1': 'COSMOS Zurich Structure and Morphology Catalog v1.0',\n",
       " 'cosmos_phot': 'COSMOS Photometry Catalog January 2006',\n",
       " 'cosmos_vla_deep_may2010': 'COSMOS VLA Deep Catalog May 2010',\n",
       " 'cosmos_xgal': 'COSMOS X-ray Group Member Catalog',\n",
       " 'cosmos_xgroups': 'COSMOS X-ray Group Catalog',\n",
       " 'cosmos_xmm_2': 'COSMOS XMM Point-like Source Catalog v2.0',\n",
       " 'cosmos_zphot_mag25': 'COSMOS Photometric Redshift Catalog Fall 2008 (README - mag 25 limited)',\n",
       " 'csi2264t1': 'CSI 2264 Object Table',\n",
       " 'csi2264t2': 'CSI 2264 CoRoT Light Curves',\n",
       " 'csi2264t3': 'CSI 2264 Spitzer Light Curves',\n",
       " 'cygx_arch': 'Cygnus-X Archive',\n",
       " 'cygx_cat': 'Cygnus-X Catalog',\n",
       " 'deepcal_src': '2MASS Combined  Calibration Field Source Table',\n",
       " 'deepglimpsea': 'Deep GLIMPSE Archive (more complete, less reliable)',\n",
       " 'deepglimpsec': 'Deep GLIMPSE Catalog (highly reliable)',\n",
       " 'denis3': 'DENIS 3rd Release (Sep. 2005)',\n",
       " 'dr4_MM': \"C2D Fall '07 Millimeter (MM) Sources Catalog (OPH, PER, SER Clouds)\",\n",
       " 'dr4_clouds_full': \"C2D Fall '07 Full CLOUDS Catalog (CHA_II, LUP, OPH, PER, SER)\",\n",
       " 'dr4_clouds_hrel': \"C2D Fall '07 High Reliability (HREL) CLOUDS Catalog (CHA_II, LUP, OPH, PER, SER)\",\n",
       " 'dr4_clouds_ysoc': \"C2D Fall '07 candidate Young Stellar Objects (YSO) CLOUDS Catalog (CHA_II, LUP, OPH, PER, SER)\",\n",
       " 'dr4_cores_full': \"C2D Fall '07 Full CORES Catalog\",\n",
       " 'dr4_cores_hrel': \"C2D Fall '07 High Reliability (HREL) CORES Catalog\",\n",
       " 'dr4_cores_ysoc': \"C2D Fall '07 candidate Young Stellar Objects (YSO) CORES Catalog\",\n",
       " 'dr4_off_cloud_full': \"C2D Fall '07 Full OFF-CLOUD Catalog (CHA_II, LUP, OPH, PER, SER)\",\n",
       " 'dr4_off_cloud_hrel': \"C2D Fall '07 High Reliability (HREL) OFF-CLOUD Catalog (CHA_II, LUP, OPH, PER, SER)\",\n",
       " 'dr4_off_cloud_ysoc': \"C2D Fall '07 candidate Young Stellar Objects (YSO) OFF-CLOUD Catalog (CHA_II, LUP, OPH, PER, SER)\",\n",
       " 'dr4_stars_full': \"C2D Fall '07 Full STARS Catalog\",\n",
       " 'dr4_stars_hrel': \"C2D Fall '07 High Reliability (HREL) STARS Catalog\",\n",
       " 'dr4_stars_ysoc': \"C2D Fall '07 candidate Young Stellar Objects (YSO) STARS Catalog\",\n",
       " 'dr4_trans1_full': \"C2D Fall '07 Perseus Epoch 1 Transient Sources FULL Catalog\",\n",
       " 'dr4_trans2_full': \"C2D Fall '07 Perseus Epoch 2 Transient Sources FULL Catalog\",\n",
       " 'dunes': 'DUNES Catalog',\n",
       " 'dustingsfull': 'DUSTiNGS Full Catalog',\n",
       " 'dustingsgsc': 'DUSTiNGS Good Source Catalog',\n",
       " 'ecc': 'Planck Early Cold Core Source List (ECC)',\n",
       " 'ecf_info': '2MASS Calibration Merged Extended Source Information Table',\n",
       " 'ecf_link': '2MASS Calibration Merged Extended Source Link Table',\n",
       " 'elaisn1_160_cat_s05': \"SWIRE ELAIS N1 Region 160um Spring '05 Spitzer Catalog\",\n",
       " 'elaisn1_24_cat_s05': \"SWIRE ELAIS N1 Region 24um Spring '05 Spitzer Catalog\",\n",
       " 'elaisn1_70_cat_s05': \"SWIRE ELAIS N1 Region 70um Spring '05 Spitzer Catalog\",\n",
       " 'elaisn1_cat_s05': \"SWIRE ELAIS N1 Region Spring '05 Spitzer Catalog\",\n",
       " 'elaisn2_160_cat_s05': \"SWIRE ELAIS N2 Region 160um Spring '05 Spitzer Catalog\",\n",
       " 'elaisn2_24_cat_s05': \"SWIRE ELAIS N2 Region 24um Spring '05 Spitzer Catalog\",\n",
       " 'elaisn2_70_cat_s05': \"SWIRE ELAIS N2 Region 70um Spring '05 Spitzer Catalog\",\n",
       " 'elaisn2_cat_s05': \"SWIRE ELAIS N2 Region Spring '05 Spitzer Catalog\",\n",
       " 'elaiss1_160_cat_f05': \"SWIRE ELAIS S1 Region 160um Fall '05 Spitzer Catalog\",\n",
       " 'elaiss1_24_cat_f05': \"SWIRE ELAIS S1 Region 24um Fall '05 Spitzer Catalog\",\n",
       " 'elaiss1_70_cat_f05': \"SWIRE ELAIS S1 Region 70um Fall '05 Spitzer Catalog\",\n",
       " 'elaiss1_cat_f05': \"SWIRE ELAIS S1 Region Fall '05 SWIRE Spitzer Catalog\",\n",
       " 'ercsc_f030_e': 'Planck ERCSC 30GHz Catalog',\n",
       " 'ercsc_f044_e': 'Planck ERCSC 44GHz Catalog',\n",
       " 'ercsc_f070_e': 'Planck ERCSC 70GHz Catalog',\n",
       " 'ercsc_f100_e': 'Planck ERCSC 100GHz Catalog',\n",
       " 'ercsc_f143_e': 'Planck ERCSC 143GHz Catalog',\n",
       " 'ercsc_f217_e': 'Planck ERCSC 217GHz Catalog',\n",
       " 'ercsc_f353_e': 'Planck ERCSC 353GHz Catalog',\n",
       " 'ercsc_f545_e': 'Planck ERCSC 545GHz Catalog',\n",
       " 'ercsc_f857_e': 'Planck ERCSC 857GHz Catalog',\n",
       " 'escf_info': '2MASS LMC/SMC Calibration Merged Extended Source Information Table',\n",
       " 'escf_link': '2MASS LMC/SMC Calibration Merged Extended Source Link Table',\n",
       " 'esixxf_info': '2MASS 6X w/LMC/SMC Merged Extended Source Information Table',\n",
       " 'esixxf_link': '2MASS 6X w/LMC/SMC Merged Extended Source Link Table',\n",
       " 'esz': 'Planck Early Sunyaev-Zeldovich Cluster List (ESZ)',\n",
       " 'ewsdbf_info': '2MASS Survey Merged Extended Source Information Table',\n",
       " 'ewsdbf_link': '2MASS Survey Merged Extended Source Link Table',\n",
       " 'ext_src_6x2': '2MASS 6X w/LMC/SMC Extended Source Working Database / Catalog ( Read Me! )',\n",
       " 'ext_src_c': '2MASS Calibration Extended Source Working Database',\n",
       " 'ext_src_cat': '2MASS Second Incremental Release Extended Source Catalog (XSC)',\n",
       " 'ext_src_cat1': '2MASS First Incremental Release Extended Source Catalog (XSC)',\n",
       " 'ext_src_rej': '2MASS Survey Extended Source Reject Table',\n",
       " 'ext_src_sc': '2MASS LMC/SMC Calibration Extended Source Working Database',\n",
       " 'exts_samp_cat': '2MASS Sampler Extended Source Catalog (XSC)',\n",
       " 'feps_phot': 'FEPS Photometry Catalog',\n",
       " 'fls_release_v2_mmt_spectra': 'FLS MMT/Hectospec Spectroscopic Catalog (V2)',\n",
       " 'fls_release_v2_photom': 'FLS SDSS and MIPS Astrometric and Photometric Catalog (V2)',\n",
       " 'fls_release_v2_sdss_spectra': 'FLS SDSS Spectroscopic Catalog (V2)',\n",
       " 'fp_coadd_dat': '2MASS All-Sky Survey Atlas Image Info',\n",
       " 'fp_psc': '2MASS All-Sky Point Source Catalog (PSC)',\n",
       " 'fp_scan_dat': '2MASS All-Sky Survey Scan Info (Read Me!)',\n",
       " 'fp_xsc': '2MASS All-Sky Extended Source Catalog (XSC)',\n",
       " 'galcen_psc': 'Point Source in a Spitzer/IRAC Survey of the Galactic Center (Ramirez et al. 2008)',\n",
       " 'galex_emphot_v3': 'GALEX/COSMOS Prior-based Photometry Catalog June 2008',\n",
       " 'glimpse2_v2arc': \"GLIMPSE II Spring '08 Archive (more complete, less reliable)\",\n",
       " 'glimpse2_v2cat': \"GLIMPSE II Spring '08 Catalog (highly reliable)\",\n",
       " 'glimpse2ep1a08': \"GLIMPSE II Epoch 1 December '08 Archive (more complete, less reliable)\",\n",
       " 'glimpse2ep1c08': \"GLIMPSE II Epoch 1 December '08 Catalog (highly reliable)\",\n",
       " 'glimpse2ep2a09': \"GLIMPSE II Epoch 2 November '09 Archive (more complete, less reliable)\",\n",
       " 'glimpse2ep2mra09': \"GLIMPSE II Epoch 2 November '09 More Reliable Archive (more reliable)\",\n",
       " 'glimpse2sub': 'GLIMPSEII Subarray Source List',\n",
       " 'glimpse360a': 'GLIMPSE360 Archive (more complete, less reliable)',\n",
       " 'glimpse360c': 'GLIMPSE360 Catalog (highly reliable)',\n",
       " 'glimpse3d_v1cat_tbl': 'GLIMPSE 3D, 2007-2009 Catalog (highly reliable)',\n",
       " 'glimpse3d_v2arc': 'GLIMPSE 3D, 2007-2009 Archive (more complete, less reliable),(Erratum)',\n",
       " 'glimpse3dep1a': 'GLIMPSE 3D Epoch 1 Archive (more complete, less reliable)',\n",
       " 'glimpse3dep1c': 'GLIMPSE 3D Epoch 1 Catalog (highly reliable)',\n",
       " 'glimpse3dep2a': 'GLIMPSE 3D Epoch 2 Archive (more complete, less reliable)',\n",
       " 'glimpse3dep2mra': 'GLIMPSE 3D Epoch 2 More Reliable Archive (more complete, less reliable)',\n",
       " 'glimpse_s07': \"GLIMPSE I Spring '07 Catalog (highly reliable)\",\n",
       " 'glimpse_s07_ar': \"GLIMPSE I Spring '07 Archive (more complete, less reliable)\",\n",
       " 'glimpsesmoga': 'SMOG Archive (more complete, less reliable)',\n",
       " 'glimpsesmogc': 'SMOG Catalog (highly reliable)',\n",
       " 'goods_mips24': 'GOODS-S MIPS 24 micron Photometry Catalog',\n",
       " 'goodsn_mips24': 'GOODS-N MIPS 24 micron Photometry Catalog',\n",
       " 'heritagel100': 'HERITAGE LMC PACS 100 micron Catalog',\n",
       " 'heritagel160': 'HERITAGE LMC PACS 160 micron Catalog',\n",
       " 'heritagel250': 'HERITAGE LMC SPIRE 250 micron Catalog',\n",
       " 'heritagel350': 'HERITAGE LMC SPIRE 350 micron Catalog',\n",
       " 'heritagel500': 'HERITAGE LMC SPIRE 500 micron Catalog',\n",
       " 'heritagelclass': 'HERITAGE LMC Band-Matched Classification Table',\n",
       " 'heritagelphot': 'HERITAGE LMC Band-Matched Catalog',\n",
       " 'heritages100': 'HERITAGE SMC PACS 100 micron Catalog',\n",
       " 'heritages160': 'HERITAGE SMC PACS 160 micron Catalog',\n",
       " 'heritages250': 'HERITAGE SMC SPIRE 250 micron Catalog',\n",
       " 'heritages350': 'HERITAGE SMC SPIRE 350 micron Catalog',\n",
       " 'heritages500': 'HERITAGE SMC SPIRE 500 micron Catalog',\n",
       " 'heritagesclass': 'HERITAGE SMC Band-Matched Classification Table',\n",
       " 'heritagesphot': 'HERITAGE SMC Band-Matched Catalog',\n",
       " 'hgoodsn': 'GOODS North Catalog',\n",
       " 'hgoodss': 'GOODS South Catalog',\n",
       " 'iras_ao': 'IRAS Additional Observations (AO) Catalog',\n",
       " 'irascatalog': 'IRAS 1.2-Jy Redshift Survey',\n",
       " 'irasfsc': 'IRAS Faint Source Catalog v2.0 (FSC)',\n",
       " 'irasfscr': 'IRAS Faint Source Catalog Rejects',\n",
       " 'irasgal': 'IRAS Cataloged Galaxies and Quasars',\n",
       " 'iraspsc': 'IRAS Point Source Catalog v2.1 (PSC)',\n",
       " 'iraspsch': 'IRAS PSC joined with HCON and WSDB',\n",
       " 'iraspscr': 'IRAS Point Source Catalog Rejects',\n",
       " 'iraspscw': 'IRAS PSC joined with WSDB',\n",
       " 'irasssc': 'IRAS Serendipitous Survey Catalog',\n",
       " 'irassss': 'IRAS Small Scale Structure Catalog',\n",
       " 'irs_enhv211': 'IRS Enhanced Products',\n",
       " 'key_columns': 'Available Key Columns at NASA/IPAC Infrared Science Archive',\n",
       " 'keys': 'Available Keys at NASA/IPAC Infrared Science Archive',\n",
       " 'lga_v2': 'The 2MASS Large Galaxy Atlas',\n",
       " 'lockman_160_cat_s05': \"SWIRE Lockman Region 160um Spring '05 Spitzer Catalog\",\n",
       " 'lockman_24_cat_s05': \"SWIRE Lockman Region 24um Spring '05 Spitzer Catalog\",\n",
       " 'lockman_70_cat_s05': \"SWIRE Lockman Region 70um Spring '05 Spitzer Catalog\",\n",
       " 'lockman_cat_s05': \"SWIRE Lockman Region Spring '05 SWIRE Spitzer Catalog\",\n",
       " 'mipsgala': 'MIPSGAL Archive',\n",
       " 'mipsgalc': 'MIPSGAL Catalog',\n",
       " 'mipslg': 'MIPS Local Galaxies Catalog',\n",
       " 'morphology_2005': 'COSMOS Morphology Catalog 2005',\n",
       " 'msxc6': 'The Midcourse Space Experiment (MSXC6)',\n",
       " 'msxc6_rej': 'The Midcourse Space Experiment (MSXC6) Rejects',\n",
       " 'musyc_phot': 'MUSYC Photometry Catalog',\n",
       " 'musyc_photz': 'MUSYC Photometric Redshift Catalog',\n",
       " 'neowiser_p1ba_mch': 'NEOWISE-R Known Solar System Object Possible Association List ( Caution )',\n",
       " 'neowiser_p1bl_lod': 'NEOWISE-R Single Exposure (L1b) Scan Inventory Table',\n",
       " 'neowiser_p1bm_frm': 'NEOWISE-R Single Exposure (L1b) Image Inventory Table',\n",
       " 'neowiser_p1bs_frm': 'NEOWISE-R Single Exposure (L1b) Frame Metadata Table',\n",
       " 'neowiser_p1bs_psd': 'NEOWISE-R Single Exposure (L1b) Source Table',\n",
       " 'pep100': 'PEP PACS 100 micron Catalog',\n",
       " 'pep160': 'PEP PACS 160 micron Catalog',\n",
       " 'pep250': 'PEP SPIRE 250 micron Catalog',\n",
       " 'pep350': 'PEP SPIRE 350 micron Catalog',\n",
       " 'pep500': 'PEP SPIRE 500 micron Catalog',\n",
       " 'peplh24': 'PEP Lockman Hole MIPS 24 micron Comparison Catalog',\n",
       " 'pepprior': 'PEP PACS Extractions Using MIPS 24 micron Priors Catalog',\n",
       " 'pepxid': 'PEP PACS and MIPS Cross-IDs Catalog',\n",
       " 'ppmxl': 'PPMXL: A Proper Motion Catalog Combining USNO-B and 2MASS',\n",
       " 'prelim_2band_p1ba_mch': 'WISE Preliminary Post-Cryo Solar System Object Possible Association List ( Caution , Superseded)',\n",
       " 'prelim_2band_p1bl_lod': 'WISE Preliminary Post-Cryo Single Exposure (L1b) Scan Inventory Table (Superseded)',\n",
       " 'prelim_2band_p1bm_frm': 'WISE Preliminary Post-Cryo Single Exposure (L1b) Image Inventory Table (Superseded)',\n",
       " 'prelim_2band_p1bs_frm': 'WISE Preliminary Post-Cryo Single Exposure (L1b) Frame Metadata Table (Superseded)',\n",
       " 'prelim_2band_p1bs_psd': 'WISE Preliminary Post-Cryo Single Exposure (L1b)  Source Table (Superseded)',\n",
       " 'prelim_p1ba_mch': 'WISE Preliminary Release Known Solar System Object Possible Association List ( Caution , Superseded)',\n",
       " 'prelim_p1bm_frm': 'WISE Preliminary Release Single Exposure (L1b) Image Inventory Table (Superseded)',\n",
       " 'prelim_p1bs_frm': 'WISE Preliminary Release Single Exposure (L1b) Frame Metadata Table (Superseded)',\n",
       " 'prelim_p1bs_psd': 'WISE Preliminary Release Single Exposure (L1b) Source Table (Superseded)',\n",
       " 'prelim_p3al_lod': 'WISE Preliminary Release Atlas Inventory Table (Superseded)',\n",
       " 'prelim_p3am_cdd': 'WISE Preliminary Release Atlas Image Inventory Table (Superseded)',\n",
       " 'prelim_p3am_xrf': 'WISE Preliminary Release Frame Cross-Reference Table (Superseded)',\n",
       " 'prelim_p3as_cdd': 'WISE Preliminary Release Atlas Metadata Table (Superseded)',\n",
       " 'prelim_p3as_psd': 'WISE Preliminary Release Source Catalog (Superseded)',\n",
       " 'pscan_dat': '2MASS Survey Scan Info',\n",
       " 'pscan_dat_6x2': '2MASS 6X w/LMC/SMC Scan Info',\n",
       " 'pscan_dat_c': '2MASS Calibration Scan Info',\n",
       " 'pscan_dat_sc': '2MASS LMC/SMC Calibration Scan Info',\n",
       " 'pt_src_6x2': '2MASS 6X w/LMC/SMC Point Source Working Database /Catalog ( Read Me! )',\n",
       " 'pt_src_c': '2MASS Calibration Point Source Working Database',\n",
       " 'pt_src_cat': '2MASS Second Incremental Release Point Source Catalog (PSC)',\n",
       " 'pt_src_cat1': '2MASS First Incremental Release Point Source Catalog (PSC)',\n",
       " 'pt_src_rej': '2MASS Survey Point Source Reject Table',\n",
       " 'pt_src_sc': '2MASS LMC/SMC Calibration Point Source Working Database',\n",
       " 'ptfphotcalcat': 'PTF Photometric Calibrator Catalog',\n",
       " 'pts_samp_cat': '2MASS Sampler Point Source Catalog (PSC)',\n",
       " 's4gcat': 'Spitzer Survey of Stellar Structure in Galaxies (S4G)',\n",
       " 'safires160': 'Spitzer Archival Far-Infrared Extragalactic Survey (SAFIRES) MIPS 160 micron Catalog',\n",
       " 'safires70': 'Spitzer Archival Far-Infrared Extragalactic Survey (SAFIRES) MIPS 70 micron Catalog',\n",
       " 'sage_ar_irac': 'SAGE IRAC Single Frame + Mosaic Photometry Archive (more complete, less reliable)',\n",
       " 'sage_ar_irac_e1e2': 'SAGE IRAC Epoch 1 and Epoch 2 Archive (more complete, less reliable)',\n",
       " 'sage_ar_irac_match': 'SAGE IRAC Matched Epoch Catalog (more complete, less reliable)',\n",
       " 'sage_ar_irac_off': 'SAGE IRAC Offset Position Epoch 1 and Epoch 2 Archive (more complete, less reliable)',\n",
       " 'sage_cat_irac': 'SAGE IRAC Single Frame + Mosaic Photometry Catalog  (more reliable)',\n",
       " 'sage_cat_irac_e1e2': 'SAGE IRAC Epoch 1 and Epoch 2 Catalog  (more reliable)',\n",
       " 'sage_cat_irac_match': 'SAGE IRAC Matched Epoch Archive (more reliable)',\n",
       " 'sage_cat_irac_off': 'SAGE IRAC Offset Position Epoch 1 and Epoch 2 Catalog (more reliable)',\n",
       " 'sage_cat_m160': 'SAGE MIPS 160 um Combined Epoch Catalog (more reliable)',\n",
       " 'sage_cat_m24': 'SAGE MIPS 24 um Epoch 1 and Epoch 2 Catalog  (more reliable)',\n",
       " 'sage_cat_m24_match': 'SAGE MIPS 24 um Matched Epoch Catalog (more reliable)',\n",
       " 'sage_cat_m70': 'SAGE MIPS 70 um Combined Epoch Catalog (more reliable)',\n",
       " 'sage_full_m160': 'SAGE MIPS 160 um Combined Epoch Catalog (more complete, less reliable)',\n",
       " 'sage_full_m24': 'SAGE MIPS 24 um Epoch 1 and Epoch 2 Full List (more complete, less reliable)',\n",
       " 'sage_full_m24_match': 'SAGE MIPS 24 um Matched Epoch Full List (more complete, less reliable)',\n",
       " 'sage_full_m70': 'SAGE MIPS 70 um Combined Epoch Full List (more complete, less reliable)',\n",
       " 'sagearciracv2': \"SAGE Winter '08 IRAC Epoch 1 and Epoch 2 Archive (more complete, less reliable)\",\n",
       " 'sagecatiracv2': \"SAGE Winter '08 IRAC Epoch 1 and Epoch 2 Catalog (more reliable)\",\n",
       " 'sagecatmips24v2': \"SAGE Winter '08 MIPS 24 um Epoch 1 and Epoch 2 Catalog  (more reliable)\",\n",
       " 'sagefull': 'SAGE-Var LMC Full Catalog',\n",
       " 'sagesmc_iraca': 'SAGE-SMC IRAC Epoch 0, Epoch 1, and Epoch 2 Archive (less reliable)',\n",
       " 'sagesmc_iracadr3': 'SAGE-SMC IRAC Single Frame + Mosaic Photometry Archive v1.5',\n",
       " 'sagesmc_iracc': 'SAGE-SMC IRAC Epoch 0, Epoch 1, and Epoch 2 Catalog (more reliable)',\n",
       " 'sagesmc_iraccdr3': 'SAGE-SMC IRAC Single Frame + Mosaic Photometry Catalog v1.5',\n",
       " 'sagesmc_iracep1a': 'SAGE-SMC IRAC Epoch 1 Archive  (less reliable)',\n",
       " 'sagesmc_iracep1c': 'SAGE-SMC IRAC Epoch 1 Catalog (more reliable)',\n",
       " 'sagesmc_mips160c': 'SAGE-SMC MIPS 160um Combined Epoch Catalog (more reliable)',\n",
       " 'sagesmc_mips160f': 'SAGE-SMC MIPS 160um Combined Epoch Full List (more complete, less reliable)',\n",
       " 'sagesmc_mips24c': 'SAGE-SMC MIPS 24 um Epoch 0, Epoch 1, and Epoch 2 Catalog  (more reliable)',\n",
       " 'sagesmc_mips24ep1c': 'SAGE-SMC MIPS 24um Epoch 1 Catalog (more reliable)',\n",
       " 'sagesmc_mips24ep1f': 'SAGE-SMC MIPS 24um Epoch 1 Full List (less  reliable)',\n",
       " 'sagesmc_mips24f': 'SAGE-SMC MIPS 24 um Epoch 0, Epoch 1, and Epoch 2 Full List (more complete, less reliable)',\n",
       " 'sagesmc_mips70c': 'SAGE-SMC MIPS 70um Combined Epoch Catalog (more reliable)',\n",
       " 'sagesmc_mips70f': 'SAGE-SMC MIPS 70um Combined Epoch Full List (more complete, less reliable)',\n",
       " 'sagesmcfull': 'SAGE-Var SMC Full Catalog',\n",
       " 'sagesmcvar': 'SAGE-Var SMC Variable Catalog',\n",
       " 'sagevar': 'SAGE-Var LMC Variable Catalog',\n",
       " 'sass_v3': 'SASS October 2011 Catalog',\n",
       " 'scan_dat': '2MASS First Incremental Release Survey Scan Info',\n",
       " 'scan_dat_2': '2MASS Second Incremental Release Survey Scan Info',\n",
       " 'scf_info': '2MASS LMC/SMC Calibration Merged Point Source Information Table',\n",
       " 'scf_link': '2MASS LMC/SMC Calibration Merged Point Source Link Table',\n",
       " 'schemas': 'Available schemas at NASA/IPAC Infrared Science Archive',\n",
       " 'scosmos_irac_0407': 'S-COSMOS IRAC 4-channel Photometry Catalog June 2007 (README)',\n",
       " 'scosmos_mips_160_v3': 'S-COSMOS MIPS 160um Photometry Catalog v3 Jan 2009',\n",
       " 'scosmos_mips_24_go2': 'S-COSMOS MIPS 24um MAIN Photometry Catalog June 2007 ((Aug 2008: Important Flux-correction Note))',\n",
       " 'scosmos_mips_24_go2_deep': 'S-COSMOS MIPS 24um DEEP Photometry Catalog June 2007 ((Aug 2008: Important Flux-correction Note))',\n",
       " 'scosmos_mips_24_go3': 'S-COSMOS MIPS 24 Photometry Catalog October 2008',\n",
       " 'scosmos_mips_70_v3': 'S-COSMOS MIPS 70um Photometry Catalog v3 Jan 2009',\n",
       " 'sdwfs_ch1_epoch1': \"SDWFS Aug '09 DR1.1 IRAC 3.6um-Selected 3x30sec Coadd, epoch 1 (Jan '04)\",\n",
       " 'sdwfs_ch1_epoch2': \"SDWFS Aug '09 DR1.1 IRAC 3.6um-Selected 3x30sec Coadd, epoch 2 (Aug '07)\",\n",
       " 'sdwfs_ch1_epoch3': \"SDWFS Aug '09 DR1.1 IRAC 3.6um-Selected 3x30sec Coadd, epoch 3 (Feb '08)\",\n",
       " 'sdwfs_ch1_epoch4': \"SDWFS Aug '09 DR1.1 IRAC 3.6um-Selected 3x30sec Coadd, epoch 4 (Mar '08)\",\n",
       " 'sdwfs_ch1_stack': \"SDWFS Aug'09 DR1.1 IRAC 3.6um-Selected Total Coadd Stack\",\n",
       " 'sdwfs_ch2_epoch1': \"SDWFS Aug '09 DR1.1 IRAC 4.5um-Selected 3x30sec Coadd, epoch 1 (Jan '04)\",\n",
       " 'sdwfs_ch2_epoch2': \"SDWFS Aug '09 DR1.1 IRAC 4.5um-Selected 3x30sec Coadd, epoch 2 (Aug '07)\",\n",
       " 'sdwfs_ch2_epoch3': \"SDWFS Aug '09 DR1.1 IRAC 4.5um-Selected 3x30sec Coadd, epoch 3 (Feb '08)\",\n",
       " 'sdwfs_ch2_epoch4': \"SDWFS Aug '09 DR1.1 IRAC 4.5um-Selected 3x30sec Coadd, epoch 4 (Mar '08)\",\n",
       " 'sdwfs_ch2_stack': \"SDWFS Aug '09 DR1.1 IRAC 4.5um-Selected Total Coadd Stack\",\n",
       " 'sdwfs_ch3_epoch1': \"SDWFS Aug '09 DR1.1 IRAC 5.8um-Selected 3x30sec Coadd, epoch 1 (Jan '04)\",\n",
       " 'sdwfs_ch3_epoch2': \"SDWFS Aug '09 DR1.1 IRAC 5.8um-Selected 3x30sec Coadd, epoch 2 (Aug '07)\",\n",
       " 'sdwfs_ch3_epoch3': \"SDWFS Aug '09 DR1.1 IRAC 5.8um-Selected 3x30sec Coadd, epoch 3 (Feb '08)\",\n",
       " 'sdwfs_ch3_epoch4': \"SDWFS Aug '09 DR1.1 IRAC 5.8um-Selected 3x30sec Coadd, epoch 4 (Mar '08)\",\n",
       " 'sdwfs_ch3_stack': \"SDWFS Aug '09 DR1.1 IRAC 5.8um-Selected Total Coadd Stack\",\n",
       " 'sdwfs_ch4_epoch1': \"SDWFS Aug '09 DR1.1 IRAC 8.0um-Selected 3x30sec Coadd, epoch 1 (Jan '04)\",\n",
       " 'sdwfs_ch4_epoch2': \"SDWFS Aug '09 DR1.1 IRAC 8.0um-Selected 3x30sec Coadd, epoch 2 (Aug '07)\",\n",
       " 'sdwfs_ch4_epoch3': \"SDWFS Aug '09 DR1.1 IRAC 8.0um-Selected 3x30sec Coadd, epoch 3 (Feb '08)\",\n",
       " 'sdwfs_ch4_epoch4': \"SDWFS Aug '09 DR1.1 IRAC 8.0um-Selected 3x30sec Coadd, epoch 4 (Mar '08)\",\n",
       " 'sdwfs_ch4_stack': \"SDWFS Aug '09 DR1.1 IRAC 8.0um-Selected Total Coadd Stack\",\n",
       " 'sdwfs_lcurve': 'SDWFS Light Curve Catalog',\n",
       " 'sdwfs_var': 'SDWFS Variability Catalog',\n",
       " 'sepirac': 'SEP IRAC-based Multiwavelength Photometric Catalog',\n",
       " 'sepm24': 'SEP MIPS 24 micron Point Source Catalog',\n",
       " 'sepm70': 'SEP MIPS 70 micron Point Source Catalog',\n",
       " 'sepmext': 'SEP MIPS Extended Source Catalog',\n",
       " 'servscdfsi1': 'SERVS CDFS 3.6 micron Catalog',\n",
       " 'servscdfsi12': 'SERVS CDFS 2-band Catalog (highly reliable)',\n",
       " 'servscdfsi2': 'SERVS CDFS 4.5 micron Catalog',\n",
       " 'servseni1': 'SERVS ELAIS N1 3.6 micron Catalog',\n",
       " 'servseni12': 'SERVS ELAIS N1 2-band Catalog (highly reliable)',\n",
       " 'servseni2': 'SERVS ELAIS N1 4.5 micron Catalog',\n",
       " 'servsesi1': 'SERVS ELAIS S1 3.6 micron Catalog',\n",
       " 'servsesi12': 'SERVS ELAIS S1 2-band Catalog (highly reliable)',\n",
       " 'servsesi2': 'SERVS ELAIS S1 4.5 micron Catalog',\n",
       " 'servslhi1': 'SERVS Lockman Hole 3.6 micron Catalog',\n",
       " 'servslhi12': 'SERVS Lockman Hole 2-band Catalog (highly reliable)',\n",
       " 'servslhi2': 'SERVS Lockman Hole 4.5 micron Catalog',\n",
       " 'servsxmmi1': 'SERVS XMM-LSS 3.6 micron Catalog',\n",
       " 'servsxmmi12': 'SERVS XMM-LSS 2-band Catalog (highly reliable)',\n",
       " 'servsxmmi2': 'SERVS XMM-LSS 4.5 micron Catalog',\n",
       " 'shelacomb': 'SHELA Combined Epoch IRAC Catalog',\n",
       " 'shelaep1': 'SHELA Epoch 1 IRAC Catalog',\n",
       " 'shelaep2': 'SHELA Epoch 2 IRAC Catalog',\n",
       " 'shelaep3': 'SHELA Epoch 3 IRAC Catalog',\n",
       " 'shelasdss': 'SHELA-SDSS Stripe 82 Catalog',\n",
       " 'simple': 'SIMPLE Photometry Catalog',\n",
       " 'sixxf_info': '2MASS 6X w/LMC/SMC Merged Point Source Information Table',\n",
       " 'sixxf_link': '2MASS 6X w/LMC/SMC Merged Point Source Link Table',\n",
       " 'slicovv2': 'SEIP IRAC Coverage Table',\n",
       " 'slmcovv2': 'SEIP MIPS Coverage Table',\n",
       " 'slphotdr4': 'SEIP Source List',\n",
       " 'sltracev2': 'SEIP Traceback Table',\n",
       " 'spuds_irac': 'SpUDS IRAC Catalog',\n",
       " 'spuds_mips': 'SpUDS MIPS Catalog',\n",
       " 'ssdf1': 'SSDF IRAC Ch1 Catalog',\n",
       " 'ssdf2': 'SSDF IRAC Ch2 Catalog',\n",
       " 'ssid2': 'SAGE-Spec ID Search',\n",
       " 'summary': 'IRAS Large Galaxies Catalog',\n",
       " 'swire_lhisod': 'SWIRE Lockman Hole ISOCAM Deep Field Catalog',\n",
       " 'swire_lhisos': 'SWIRE Lockman Hole ISOCAM Shallow Field Catalog',\n",
       " 'tables': 'Available tables at NASA/IPAC Infrared Science Archive',\n",
       " 'taurus_2008_2_1': 'Taurus Catalog October 2008 v2.1',\n",
       " 'ucac4_sources': 'USNO CCD Astrograph Catalog (UCAC4)',\n",
       " 'urat1': 'The First USNO Robotic Astrometric Telescope Catalog (URAT1)',\n",
       " 'usno_b1': 'USNO-B1 (United States Naval Observatory B1.0 Catalog)',\n",
       " 'velcara': 'Vela-Carina Archive (more complete, less reliable)',\n",
       " 'velcarc': 'Vela-Carina Catalog (highly reliable)',\n",
       " 'wise_allsky_2band_p1ba_mch': 'WISE Post-Cryo Single Exposure (L1b)  Known SSO Possible Association List ( Caution )',\n",
       " 'wise_allsky_2band_p1bl_lod': 'WISE Post-Cryo Single Exposure (L1b) Scan Inventory Table',\n",
       " 'wise_allsky_2band_p1bm_frm': 'WISE Post-Cryo Single Exposure (L1b) Image Inventory Table',\n",
       " 'wise_allsky_2band_p1bs_frm': 'WISE Post-Cryo Single Exposure (L1b) Frame Metadata Table',\n",
       " 'wise_allsky_2band_p1bs_psd': 'WISE Post-Cryo Single Exposure (L1b) Source Table',\n",
       " 'wise_allsky_3band_p1ba_mch': 'WISE 3-Band Cryo Known Solar System Object Possible Association List ( Caution )',\n",
       " 'wise_allsky_3band_p1bl_lod': 'WISE 3-Band Cryo Single Exposure (L1b) Scan Inventory Table',\n",
       " 'wise_allsky_3band_p1bm_frm': 'WISE 3-Band Cryo Single Exposure (L1b) Image Inventory Table',\n",
       " 'wise_allsky_3band_p1bs_frm': 'WISE 3-Band Cryo Single Exposure (L1b) Frame Metadata Table',\n",
       " 'wise_allsky_3band_p1bs_psd': 'WISE 3-Band Cryo Single Exposure (L1b) Source Table',\n",
       " 'wise_allsky_3band_p3al_lod': 'WISE 3-Band Cryo Atlas Inventory Table',\n",
       " 'wise_allsky_3band_p3am_cdd': 'WISE 3-Band Cryo Atlas Image Inventory Table',\n",
       " 'wise_allsky_3band_p3am_xrf': 'WISE 3-Band Cryo Frame Cross-Reference Table',\n",
       " 'wise_allsky_3band_p3as_cdd': 'WISE 3-Band Cryo Atlas Metadata Table',\n",
       " 'wise_allsky_3band_p3as_psd': 'WISE 3-Band Cryo Source Working Database ( Readme)',\n",
       " 'wise_allsky_4band_p1ba_mch': 'WISE All-Sky Known Solar System Object Possible Association List ( Caution )',\n",
       " 'wise_allsky_4band_p1bl_lod': 'WISE All-Sky Single Exposure (L1b) Scan Inventory Table',\n",
       " 'wise_allsky_4band_p1bm_frm': 'WISE All-Sky Single Exposure (L1b) Image Inventory Table',\n",
       " 'wise_allsky_4band_p1bs_frm': 'WISE All-Sky Single Exposure (L1b) Frame Metadata Table',\n",
       " 'wise_allsky_4band_p1bs_psd': 'WISE All-Sky Single Exposure (L1b) Source Table',\n",
       " 'wise_allsky_4band_p3al_lod': 'WISE All-Sky Atlas Inventory Table',\n",
       " 'wise_allsky_4band_p3am_cdd': 'WISE All-Sky Atlas Image Inventory Table',\n",
       " 'wise_allsky_4band_p3am_xrf': 'WISE All-Sky Frame Cross-Reference Table',\n",
       " 'wise_allsky_4band_p3as_cdd': 'WISE All-Sky Atlas Metadata Table',\n",
       " 'wise_allsky_4band_p3as_psd': 'WISE All-Sky Source Catalog',\n",
       " 'wise_allsky_4band_p3as_psr': 'WISE All-Sky Reject Table',\n",
       " 'wise_allwise_p3al_lod': 'AllWISE Atlas Inventory Table',\n",
       " 'wise_allwise_p3am_cdd': 'AllWISE Atlas Image Inventory Table',\n",
       " 'wise_allwise_p3am_xrf': 'AllWISE Frame Cross-Reference Table',\n",
       " 'wise_allwise_p3as_cdd': 'AllWISE Atlas Metadata Table',\n",
       " 'wise_allwise_p3as_mep': 'AllWISE Multiepoch Photometry Table',\n",
       " 'wise_allwise_p3as_psd': 'AllWISE Source Catalog',\n",
       " 'wise_allwise_p3as_psr': 'AllWISE Reject Table',\n",
       " 'wise_prelim_p1bl_lod': 'WISE Preliminary Release Single Exposure (L1b) Scan Inventory Table (Superseded)',\n",
       " 'wsdb_info': '2MASS Survey Merged Point Source Information Table',\n",
       " 'wsdb_link': '2MASS Survey Merged Point Source Link Table',\n",
       " 'xfls_i1m': 'Extragalactic FLS IRAC Channel 1 Main Field Catalog',\n",
       " 'xfls_i1v': 'Extragalactic FLS IRAC Channel 1 Verification Field Catalog',\n",
       " 'xfls_i2m': 'Extragalactic FLS IRAC Channel 2 Main Field Catalog',\n",
       " 'xfls_i2v': 'Extragalactic FLS IRAC Channel 2 Verification Field Catalog',\n",
       " 'xfls_i3m': 'Extragalactic FLS IRAC Channel 3 Main Field Catalog',\n",
       " 'xfls_i3v': 'Extragalactic FLS IRAC Channel 3 Verification Field Catalog',\n",
       " 'xfls_i4m': 'Extragalactic FLS IRAC Channel 4 Main Field Catalog',\n",
       " 'xfls_i4v': 'Extragalactic FLS IRAC Channel 4 Verification Field Catalog',\n",
       " 'xfls_iallm': 'Extragalactic FLS IRAC Bandmerged Main Field Catalog',\n",
       " 'xfls_iallv': 'Extragalactic FLS IRAC Bandmerged Verification Field Catalog',\n",
       " 'xfls_kpno': 'Extragalactic FLS KPNO R-band Source List',\n",
       " 'xfls_m1t2': 'Extragalactic FLS MIPS 24 micron Extended Source Catalog',\n",
       " 'xfls_m1t4': 'Extragalactic FLS MIPS 24 micron Calibration Star Catalog',\n",
       " 'xfls_m1t5': 'Extragalactic FLS MIPS 24 micron Point Source Catalog',\n",
       " 'xfls_m2': 'Extragalactic FLS MIPS 70 micron Catalog',\n",
       " 'xfls_m3': 'Extragalactic FLS MIPS 160 micron Catalog',\n",
       " 'xfls_w2': 'Extragalactic FLS WIYN/Hydra Spectroscopic Catalog',\n",
       " 'xfls_w3': 'Extragalactic FLS WIYN/Hydra Line Strength and Equivalent Width Catalog',\n",
       " 'xfls_w4': 'Extragalactic FLS WIYN/Hydra Line Ratios and Extinction Catalog',\n",
       " 'xmm_160_cat_s05': \"SWIRE XMM_LSS Region 160um Spring '05 Spitzer Catalog\",\n",
       " 'xmm_24_cat_s05': \"SWIRE XMM_LSS Region 24um Spring '05 Spitzer Catalog\",\n",
       " 'xmm_70_cat_s05': \"SWIRE XMM_LSS Region 70um Spring '05 Spitzer Catalog\",\n",
       " 'xmm_cat_s05': \"SWIRE XMM_LSS Region Spring '05 Spitzer Catalog\",\n",
       " 'ysoggd1215lc': 'YSOVAR GGD 12-15 Light Curve Table',\n",
       " 'ysoggd1215obj': 'YSOVAR GGD 12-15 Object Table',\n",
       " 'ysoi20050lc': 'YSOVAR IRAS 20050+2720 Light Curve Table',\n",
       " 'ysoi20050obj': 'YSOVAR IRAS 20050+2720 Object Table',\n",
       " 'ysol1688lc': 'YSOVAR L1688 Light Curve Table',\n",
       " 'ysol1688obj': 'YSOVAR L1688 Object Table',\n",
       " 'yson1333lc': 'YSOVAR NGC1333 Light Curve Table',\n",
       " 'yson1333obj': 'YSOVAR NGC1333 Object Table'}"
      ]
     },
     "execution_count": 19,
     "metadata": {},
     "output_type": "execute_result"
    }
   ],
   "source": [
    "Irsa.list_catalogs()"
   ]
  },
  {
   "cell_type": "code",
   "execution_count": 20,
   "metadata": {
    "collapsed": false
   },
   "outputs": [
    {
     "data": {
      "text/html": [
       "&lt;Table masked=True length=500&gt;\n",
       "<table id=\"table4537893328\">\n",
       "<thead><tr><th>ra</th><th>dec</th><th>clon</th><th>clat</th><th>err_maj</th><th>err_min</th><th>err_ang</th><th>designation</th><th>j_m</th><th>j_msig</th><th>h_m</th><th>h_msig</th><th>k_m</th><th>k_msig</th><th>rd_flg</th><th>bl_flg</th><th>cc_flg</th><th>extd_flg</th><th>mp_flg</th><th>id_opt</th><th>b_m_opt</th><th>r_m_opt</th><th>dist_opt</th><th>phi_opt</th><th>nopt_mchs</th><th>dist</th><th>angle</th><th>id</th></tr></thead>\n",
       "<thead><tr><th>deg</th><th>deg</th><th></th><th></th><th>arcs</th><th>arcs</th><th>deg</th><th></th><th>mag</th><th>mag</th><th>mag</th><th>mag</th><th>mag</th><th>mag</th><th></th><th></th><th></th><th></th><th></th><th></th><th>mag</th><th>mag</th><th>arcs</th><th>deg</th><th></th><th>arcs</th><th>deg</th><th></th></tr></thead>\n",
       "<thead><tr><th>float64</th><th>float64</th><th>object</th><th>object</th><th>float64</th><th>float64</th><th>int32</th><th>object</th><th>float64</th><th>float64</th><th>float64</th><th>float64</th><th>float64</th><th>float64</th><th>object</th><th>object</th><th>object</th><th>int32</th><th>int32</th><th>object</th><th>float64</th><th>float64</th><th>float64</th><th>int32</th><th>int32</th><th>float64</th><th>float64</th><th>object</th></tr></thead>\n",
       "<tr><td>266.541</td><td>-28.941</td><td>17h46m09.85s</td><td>-28d56m27.33s</td><td>0.13</td><td>0.13</td><td>90</td><td>1746098-285627</td><td>13.709</td><td>0.027</td><td>13.159000000000001</td><td>0.062</td><td>12.868</td><td>--</td><td>220</td><td>110</td><td>000</td><td>0</td><td>0</td><td></td><td>--</td><td>--</td><td>--</td><td>--</td><td>0</td><td>459.33338199999997</td><td>58.420993000000003</td><td>0</td></tr>\n",
       "<tr><td>266.539</td><td>-28.939</td><td>17h46m09.27s</td><td>-28d56m21.04s</td><td>0.13</td><td>0.13</td><td>90</td><td>1746092-285621</td><td>13.92</td><td>--</td><td>12.699999999999999</td><td>0.043999999999999997</td><td>10.49</td><td>0.036999999999999998</td><td>022</td><td>011</td><td>000</td><td>0</td><td>0</td><td></td><td>--</td><td>--</td><td>--</td><td>--</td><td>0</td><td>456.28099500000002</td><td>57.248691000000001</td><td>1</td></tr>\n",
       "<tr><td>266.539</td><td>-28.933</td><td>17h46m09.44s</td><td>-28d55m59.05s</td><td>0.13</td><td>0.13</td><td>90</td><td>1746094-285559</td><td>15.788</td><td>--</td><td>12.417999999999999</td><td>0.050000000000000003</td><td>10.247999999999999</td><td>0.041000000000000002</td><td>022</td><td>011</td><td>000</td><td>0</td><td>0</td><td></td><td>--</td><td>--</td><td>--</td><td>--</td><td>0</td><td>470.31552099999999</td><td>55.138218000000002</td><td>2</td></tr>\n",
       "<tr><td>266.542</td><td>-28.934</td><td>17h46m10.05s</td><td>-28d56m02.59s</td><td>0.14999999999999999</td><td>0.14999999999999999</td><td>90</td><td>1746100-285602</td><td>14.343999999999999</td><td>0.031</td><td>14.471</td><td>--</td><td>12.868</td><td>--</td><td>200</td><td>100</td><td>000</td><td>0</td><td>0</td><td>U</td><td>18.100000000000001</td><td>15.9</td><td>0.02</td><td>82</td><td>1</td><td>474.96516400000002</td><td>56.045482999999997</td><td>3</td></tr>\n",
       "<tr><td>266.535</td><td>-28.937</td><td>17h46m08.50s</td><td>-28d56m13.33s</td><td>0.14999999999999999</td><td>0.14999999999999999</td><td>90</td><td>1746084-285613</td><td>16.152999999999999</td><td>0.16200000000000001</td><td>12.058999999999999</td><td>0.032000000000000001</td><td>10.144</td><td>0.047</td><td>222</td><td>111</td><td>BBC</td><td>0</td><td>0</td><td></td><td>--</td><td>--</td><td>--</td><td>--</td><td>0</td><td>452.05897099999999</td><td>55.728765000000003</td><td>4</td></tr>\n",
       "<tr><td>266.535</td><td>-28.935</td><td>17h46m08.43s</td><td>-28d56m06.89s</td><td>0.13</td><td>0.13</td><td>90</td><td>1746084-285606</td><td>17.212</td><td>--</td><td>12.978999999999999</td><td>0.067000000000000004</td><td>10.943</td><td>0.042000000000000003</td><td>022</td><td>011</td><td>000</td><td>0</td><td>0</td><td></td><td>--</td><td>--</td><td>--</td><td>--</td><td>0</td><td>454.981067</td><td>54.994160999999998</td><td>5</td></tr>\n",
       "<tr><td>266.538</td><td>-28.938</td><td>17h46m09.09s</td><td>-28d56m16.60s</td><td>0.13</td><td>0.13</td><td>90</td><td>1746090-285616</td><td>15.949</td><td>--</td><td>12.242000000000001</td><td>0.048000000000000001</td><td>9.7810000000000006</td><td>0.044999999999999998</td><td>022</td><td>011</td><td>00C</td><td>0</td><td>0</td><td></td><td>--</td><td>--</td><td>--</td><td>--</td><td>0</td><td>456.69620300000003</td><td>56.617438999999997</td><td>6</td></tr>\n",
       "<tr><td>266.541</td><td>-28.938</td><td>17h46m09.83s</td><td>-28d56m15.78s</td><td>0.13</td><td>0.13</td><td>90</td><td>1746098-285615</td><td>17.518999999999998</td><td>--</td><td>12.279999999999999</td><td>0.029999999999999999</td><td>10.356</td><td>0.029000000000000001</td><td>022</td><td>011</td><td>000</td><td>0</td><td>0</td><td></td><td>--</td><td>--</td><td>--</td><td>--</td><td>0</td><td>465.33253999999999</td><td>57.196688000000002</td><td>7</td></tr>\n",
       "<tr><td>266.539</td><td>-28.935</td><td>17h46m09.40s</td><td>-28d56m07.08s</td><td>0.13</td><td>0.13</td><td>90</td><td>1746093-285607</td><td>17.335000000000001</td><td>--</td><td>12.542999999999999</td><td>0.052999999999999999</td><td>10.422000000000001</td><td>0.053999999999999999</td><td>022</td><td>011</td><td>000</td><td>0</td><td>0</td><td></td><td>--</td><td>--</td><td>--</td><td>--</td><td>0</td><td>465.347711</td><td>55.914127999999998</td><td>8</td></tr>\n",
       "<tr><td>...</td><td>...</td><td>...</td><td>...</td><td>...</td><td>...</td><td>...</td><td>...</td><td>...</td><td>...</td><td>...</td><td>...</td><td>...</td><td>...</td><td>...</td><td>...</td><td>...</td><td>...</td><td>...</td><td>...</td><td>...</td><td>...</td><td>...</td><td>...</td><td>...</td><td>...</td><td>...</td><td>...</td></tr>\n",
       "<tr><td>266.482</td><td>-28.855</td><td>17h45m55.80s</td><td>-28d51m19.63s</td><td>0.13</td><td>0.13</td><td>90</td><td>1745557-285119</td><td>17.079000000000001</td><td>--</td><td>12.720000000000001</td><td>0.050999999999999997</td><td>10.917</td><td>0.045999999999999999</td><td>022</td><td>011</td><td>000</td><td>0</td><td>0</td><td></td><td>--</td><td>--</td><td>--</td><td>--</td><td>0</td><td>586.17899</td><td>20.684032999999999</td><td>490</td></tr>\n",
       "<tr><td>266.479</td><td>-28.859</td><td>17h45m55.04s</td><td>-28d51m33.11s</td><td>0.14999999999999999</td><td>0.14999999999999999</td><td>90</td><td>1745550-285133</td><td>17.456</td><td>--</td><td>13.688000000000001</td><td>--</td><td>11.387</td><td>0.040000000000000001</td><td>002</td><td>001</td><td>00S</td><td>0</td><td>0</td><td></td><td>--</td><td>--</td><td>--</td><td>--</td><td>0</td><td>570.07834300000002</td><td>20.228916999999999</td><td>491</td></tr>\n",
       "<tr><td>266.482</td><td>-28.858</td><td>17h45m55.63s</td><td>-28d51m28.68s</td><td>0.14999999999999999</td><td>0.14999999999999999</td><td>90</td><td>1745556-285128</td><td>15.763999999999999</td><td>--</td><td>13.058</td><td>--</td><td>11.468</td><td>0.094</td><td>002</td><td>001</td><td>00S</td><td>0</td><td>0</td><td></td><td>--</td><td>--</td><td>--</td><td>--</td><td>0</td><td>576.90266899999995</td><td>20.789037</td><td>492</td></tr>\n",
       "<tr><td>266.466</td><td>-28.849</td><td>17h45m51.94s</td><td>-28d50m55.81s</td><td>0.13</td><td>0.13</td><td>90</td><td>1745519-285055</td><td>16.576000000000001</td><td>--</td><td>12.868</td><td>0.096000000000000002</td><td>10.775</td><td>0.034000000000000002</td><td>022</td><td>011</td><td>000</td><td>0</td><td>0</td><td></td><td>--</td><td>--</td><td>--</td><td>--</td><td>0</td><td>593.19416100000001</td><td>15.276467</td><td>493</td></tr>\n",
       "<tr><td>266.468</td><td>-28.851</td><td>17h45m52.33s</td><td>-28d51m05.20s</td><td>0.14999999999999999</td><td>0.14999999999999999</td><td>90</td><td>1745523-285105</td><td>16.530999999999999</td><td>--</td><td>12.647</td><td>--</td><td>11.092000000000001</td><td>0.065000000000000002</td><td>002</td><td>001</td><td>000</td><td>0</td><td>0</td><td></td><td>--</td><td>--</td><td>--</td><td>--</td><td>0</td><td>585.55087500000002</td><td>16.007439999999999</td><td>494</td></tr>\n",
       "<tr><td>266.473</td><td>-28.850</td><td>17h45m53.62s</td><td>-28d50m59.85s</td><td>0.14999999999999999</td><td>0.14999999999999999</td><td>90</td><td>1745536-285059</td><td>14.464</td><td>0.041000000000000002</td><td>11.606</td><td>--</td><td>9.9949999999999992</td><td>--</td><td>200</td><td>100</td><td>000</td><td>0</td><td>0</td><td>U</td><td>19.300000000000001</td><td>17.0</td><td>0.34000000000000002</td><td>282</td><td>1</td><td>595.54726400000004</td><td>17.434287000000001</td><td>495</td></tr>\n",
       "<tr><td>266.474</td><td>-28.850</td><td>17h45m53.72s</td><td>-28d51m00.45s</td><td>0.13</td><td>0.13</td><td>90</td><td>1745537-285100</td><td>14.271000000000001</td><td>--</td><td>11.709</td><td>0.033000000000000002</td><td>10.012</td><td>0.035999999999999997</td><td>022</td><td>011</td><td>000</td><td>0</td><td>0</td><td>U</td><td>19.300000000000001</td><td>17.0</td><td>1.77</td><td>292</td><td>1</td><td>595.37115900000003</td><td>17.571944999999999</td><td>496</td></tr>\n",
       "<tr><td>266.472</td><td>-28.852</td><td>17h45m53.36s</td><td>-28d51m06.85s</td><td>0.13</td><td>0.13</td><td>90</td><td>1745533-285106</td><td>15.561999999999999</td><td>--</td><td>12.105</td><td>0.039</td><td>10.282999999999999</td><td>0.029999999999999999</td><td>022</td><td>011</td><td>000</td><td>0</td><td>0</td><td></td><td>--</td><td>--</td><td>--</td><td>--</td><td>0</td><td>587.84205599999996</td><td>17.320962000000002</td><td>497</td></tr>\n",
       "<tr><td>266.468</td><td>-28.849</td><td>17h45m52.26s</td><td>-28d50m57.71s</td><td>0.13</td><td>0.13</td><td>90</td><td>1745522-285057</td><td>16.184999999999999</td><td>--</td><td>12.465999999999999</td><td>0.053999999999999999</td><td>10.6</td><td>0.048000000000000001</td><td>022</td><td>011</td><td>000</td><td>0</td><td>0</td><td></td><td>--</td><td>--</td><td>--</td><td>--</td><td>0</td><td>592.51437699999997</td><td>15.725013000000001</td><td>498</td></tr>\n",
       "<tr><td>266.467</td><td>-28.861</td><td>17h45m51.97s</td><td>-28d51m41.08s</td><td>0.13</td><td>0.13</td><td>90</td><td>1745519-285141</td><td>15.756</td><td>--</td><td>12.212999999999999</td><td>0.034000000000000002</td><td>10.458</td><td>0.035000000000000003</td><td>022</td><td>011</td><td>00D</td><td>0</td><td>0</td><td></td><td>--</td><td>--</td><td>--</td><td>--</td><td>0</td><td>549.77417200000002</td><td>16.562427</td><td>499</td></tr>\n",
       "</table>"
      ],
      "text/plain": [
       "<Table masked=True length=500>\n",
       "   ra     dec       clon     ...        dist              angle          id  \n",
       "  deg     deg                ...        arcs               deg               \n",
       "float64 float64    object    ...      float64            float64       object\n",
       "------- ------- ------------ ... ------------------ ------------------ ------\n",
       "266.541 -28.941 17h46m09.85s ... 459.33338199999997 58.420993000000003      0\n",
       "266.539 -28.939 17h46m09.27s ... 456.28099500000002 57.248691000000001      1\n",
       "266.539 -28.933 17h46m09.44s ... 470.31552099999999 55.138218000000002      2\n",
       "266.542 -28.934 17h46m10.05s ... 474.96516400000002 56.045482999999997      3\n",
       "266.535 -28.937 17h46m08.50s ... 452.05897099999999 55.728765000000003      4\n",
       "266.535 -28.935 17h46m08.43s ...         454.981067 54.994160999999998      5\n",
       "266.538 -28.938 17h46m09.09s ... 456.69620300000003 56.617438999999997      6\n",
       "266.541 -28.938 17h46m09.83s ... 465.33253999999999 57.196688000000002      7\n",
       "266.539 -28.935 17h46m09.40s ...         465.347711 55.914127999999998      8\n",
       "    ...     ...          ... ...                ...                ...    ...\n",
       "266.482 -28.855 17h45m55.80s ...          586.17899 20.684032999999999    490\n",
       "266.479 -28.859 17h45m55.04s ... 570.07834300000002 20.228916999999999    491\n",
       "266.482 -28.858 17h45m55.63s ... 576.90266899999995          20.789037    492\n",
       "266.466 -28.849 17h45m51.94s ... 593.19416100000001          15.276467    493\n",
       "266.468 -28.851 17h45m52.33s ... 585.55087500000002 16.007439999999999    494\n",
       "266.473 -28.850 17h45m53.62s ... 595.54726400000004 17.434287000000001    495\n",
       "266.474 -28.850 17h45m53.72s ... 595.37115900000003 17.571944999999999    496\n",
       "266.472 -28.852 17h45m53.36s ... 587.84205599999996 17.320962000000002    497\n",
       "266.468 -28.849 17h45m52.26s ... 592.51437699999997 15.725013000000001    498\n",
       "266.467 -28.861 17h45m51.97s ... 549.77417200000002          16.562427    499"
      ]
     },
     "execution_count": 20,
     "metadata": {},
     "output_type": "execute_result"
    }
   ],
   "source": [
    "rslt = Irsa.query_region('Sgr A*', radius=10*u.arcmin, catalog='pt_src_cat')\n",
    "rslt"
   ]
  },
  {
   "cell_type": "code",
   "execution_count": 21,
   "metadata": {
    "collapsed": false
   },
   "outputs": [],
   "source": [
    "twomass_coords = coordinates.SkyCoord(rslt['ra'], rslt['dec'], frame='fk5', unit=(u.deg, u.deg))"
   ]
  },
  {
   "cell_type": "code",
   "execution_count": 22,
   "metadata": {
    "collapsed": false
   },
   "outputs": [
    {
     "ename": "TypeError",
     "evalue": "Can only get separation to another SkyCoord or a coordinate frame with data",
     "output_type": "error",
     "traceback": [
      "\u001b[0;31m---------------------------------------------------------------------------\u001b[0m",
      "\u001b[0;31mTypeError\u001b[0m                                 Traceback (most recent call last)",
      "\u001b[0;32m<ipython-input-22-852d265fcf65>\u001b[0m in \u001b[0;36m<module>\u001b[0;34m()\u001b[0m\n\u001b[0;32m----> 1\u001b[0;31m \u001b[0mtwomass_coords\u001b[0m\u001b[0;34m.\u001b[0m\u001b[0mmatch_to_catalog_sky\u001b[0m\u001b[0;34m(\u001b[0m\u001b[0;34m...\u001b[0m\u001b[0;34m)\u001b[0m\u001b[0;34m\u001b[0m\u001b[0m\n\u001b[0m",
      "\u001b[0;32m/Users/adam/anaconda/envs/esopython2016/lib/python3.5/site-packages/astropy/coordinates/sky_coordinate.py\u001b[0m in \u001b[0;36mmatch_to_catalog_sky\u001b[0;34m(self, catalogcoord, nthneighbor)\u001b[0m\n\u001b[1;32m    742\u001b[0m             \u001b[0mself_in_catalog_frame\u001b[0m \u001b[0;34m=\u001b[0m \u001b[0mself\u001b[0m\u001b[0;34m.\u001b[0m\u001b[0mtransform_to\u001b[0m\u001b[0;34m(\u001b[0m\u001b[0mcatalogcoord\u001b[0m\u001b[0;34m)\u001b[0m\u001b[0;34m\u001b[0m\u001b[0m\n\u001b[1;32m    743\u001b[0m         \u001b[0;32melse\u001b[0m\u001b[0;34m:\u001b[0m\u001b[0;34m\u001b[0m\u001b[0m\n\u001b[0;32m--> 744\u001b[0;31m             raise TypeError('Can only get separation to another SkyCoord or a '\n\u001b[0m\u001b[1;32m    745\u001b[0m                             'coordinate frame with data')\n\u001b[1;32m    746\u001b[0m \u001b[0;34m\u001b[0m\u001b[0m\n",
      "\u001b[0;31mTypeError\u001b[0m: Can only get separation to another SkyCoord or a coordinate frame with data"
     ]
    }
   ],
   "source": [
    "twomass_coords.match_to_catalog_sky(...)"
   ]
  }
 ],
 "metadata": {
  "kernelspec": {
   "display_name": "Python 3",
   "language": "python",
   "name": "python3"
  },
  "language_info": {
   "codemirror_mode": {
    "name": "ipython",
    "version": 3
   },
   "file_extension": ".py",
   "mimetype": "text/x-python",
   "name": "python",
   "nbconvert_exporter": "python",
   "pygments_lexer": "ipython3",
   "version": "3.5.1"
  }
 },
 "nbformat": 4,
 "nbformat_minor": 0
}
