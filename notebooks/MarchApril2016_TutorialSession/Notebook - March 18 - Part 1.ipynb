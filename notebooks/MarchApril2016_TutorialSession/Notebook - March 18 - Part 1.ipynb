{
 "cells": [
  {
   "cell_type": "markdown",
   "metadata": {},
   "source": [
    "# March 18 Notes #"
   ]
  },
  {
   "cell_type": "markdown",
   "metadata": {},
   "source": [
    "# Fitting data to models #\n",
    "\n",
    "1. Build a model\n",
    "2. Create a \"fitness function\", i.e. something that returns a scalar \"distance\" between the model and the data\n",
    "3. Apply an \"optimizer\" to get the best-fit parameters"
   ]
  },
  {
   "cell_type": "code",
   "execution_count": 9,
   "metadata": {
    "collapsed": true
   },
   "outputs": [],
   "source": [
    "from astropy import units as u"
   ]
  },
  {
   "cell_type": "code",
   "execution_count": 21,
   "metadata": {
    "collapsed": true
   },
   "outputs": [],
   "source": [
    "def gaussian_model(xarr, amplitude, offset, width):\n",
    "    amplitude = u.Quantity(amplitude, u.K)\n",
    "    offset = u.Quantity(offset, u.km/u.s)\n",
    "    width = u.Quantity(width, u.km/u.s)\n",
    "    xarr = u.Quantity(xarr, u.km/u.s)\n",
    "    \n",
    "    return amplitude * np.exp(-(xarr-offset)**2/(2.*width**2))"
   ]
  },
  {
   "cell_type": "code",
   "execution_count": 14,
   "metadata": {
    "collapsed": false
   },
   "outputs": [
    {
     "data": {
      "text/latex": [
       "$5 \\; \\mathrm{\\frac{km}{s}}$"
      ],
      "text/plain": [
       "<Quantity 5.0 km / s>"
      ]
     },
     "execution_count": 14,
     "metadata": {},
     "output_type": "execute_result"
    }
   ],
   "source": [
    "x = 5\n",
    "u.Quantity(x, u.km/u.s)"
   ]
  },
  {
   "cell_type": "code",
   "execution_count": 15,
   "metadata": {
    "collapsed": false
   },
   "outputs": [
    {
     "data": {
      "text/latex": [
       "$0.005 \\; \\mathrm{\\frac{km}{s}}$"
      ],
      "text/plain": [
       "<Quantity 0.005 km / s>"
      ]
     },
     "execution_count": 15,
     "metadata": {},
     "output_type": "execute_result"
    }
   ],
   "source": [
    "x = 5 * u.m/u.s\n",
    "u.Quantity(x, u.km/u.s)"
   ]
  },
  {
   "cell_type": "code",
   "execution_count": 16,
   "metadata": {
    "collapsed": true
   },
   "outputs": [],
   "source": [
    "xarr = np.linspace(-5,5,50) * u.km/u.s"
   ]
  },
  {
   "cell_type": "code",
   "execution_count": 18,
   "metadata": {
    "collapsed": false
   },
   "outputs": [
    {
     "data": {
      "text/latex": [
       "$[0.022794181,~0.030021427,~0.039130613,~0.050475423,~0.064434914,~0.081403022,~0.10177422,~0.12592531,~0.15419357,~0.18685188,~0.22408183,~0.26594622,~0.31236257,~0.36307983,~0.41766035,~0.47546916,~0.53567262,~0.59724775,~0.65900328,~0.71961237,~0.77765621,~0.83167693,~0.88023705,~0.92198237,~0.95570438,~0.98039822,~0.99531246,~0.99998698,~0.99427665,~0.9783587,~0.9527237,~0.91815036,~0.8756663,~0.82649731,~0.77200877,~0.71364299,~0.65285655,~0.59106127,~0.52957226,~0.46956524,~0.41204498,~0.35782551,~0.30752184,~0.26155233,~0.22015027,~0.18338248,~0.15117307,~0.12333007,~0.099572991,~0.079559509] \\; \\mathrm{K}$"
      ],
      "text/plain": [
       "<Quantity [ 0.02279418, 0.03002143, 0.03913061, 0.05047542, 0.06443491,\n",
       "            0.08140302, 0.10177422, 0.12592531, 0.15419357, 0.18685188,\n",
       "            0.22408183, 0.26594622, 0.31236257, 0.36307983, 0.41766035,\n",
       "            0.47546916, 0.53567262, 0.59724775, 0.65900328, 0.71961237,\n",
       "            0.77765621, 0.83167693, 0.88023705, 0.92198237, 0.95570438,\n",
       "            0.98039822, 0.99531246, 0.99998698, 0.99427665, 0.9783587 ,\n",
       "            0.9527237 , 0.91815036, 0.8756663 , 0.82649731, 0.77200877,\n",
       "            0.71364299, 0.65285655, 0.59106127, 0.52957226, 0.46956524,\n",
       "            0.41204498, 0.35782551, 0.30752184, 0.26155233, 0.22015027,\n",
       "            0.18338248, 0.15117307, 0.12333007, 0.09957299, 0.07955951] K>"
      ]
     },
     "execution_count": 18,
     "metadata": {},
     "output_type": "execute_result"
    }
   ],
   "source": [
    "gaussian(xarr, 1*u.K, 0.5*u.km/u.s, 2000*u.m/u.s)"
   ]
  },
  {
   "cell_type": "code",
   "execution_count": 12,
   "metadata": {
    "collapsed": false
   },
   "outputs": [
    {
     "data": {
      "text/plain": [
       "[<matplotlib.lines.Line2D at 0x10d71e6a0>]"
      ]
     },
     "execution_count": 12,
     "metadata": {},
     "output_type": "execute_result"
    },
    {
     "data": {
      "image/png": "[encoded data removed]",
      "text/plain": [
       "<matplotlib.figure.Figure at 0x105f45b70>"
      ]
     },
     "metadata": {},
     "output_type": "display_data"
    }
   ],
   "source": [
    "%matplotlib inline\n",
    "import pylab as pl\n",
    "pl.plot(xarr, gaussian(xarr, 1, 0.5, 2))"
   ]
  },
  {
   "cell_type": "code",
   "execution_count": 19,
   "metadata": {
    "collapsed": true
   },
   "outputs": [],
   "source": [
    "from specutils.io import fits\n",
    "spec = fits.read_fits_spectrum1d('gbt_1d.fits')"
   ]
  },
  {
   "cell_type": "code",
   "execution_count": 20,
   "metadata": {
    "collapsed": false
   },
   "outputs": [
    {
     "data": {
      "text/plain": [
       "[<matplotlib.lines.Line2D at 0x111057550>]"
      ]
     },
     "execution_count": 20,
     "metadata": {},
     "output_type": "execute_result"
    },
    {
     "data": {
      "image/png": "[encoded data removed]",
      "text/plain": [
       "<matplotlib.figure.Figure at 0x110f5dd68>"
      ]
     },
     "metadata": {},
     "output_type": "display_data"
    }
   ],
   "source": [
    "pl.plot(spec.velocity, spec.flux, 'k-')"
   ]
  },
  {
   "cell_type": "code",
   "execution_count": 22,
   "metadata": {
    "collapsed": true
   },
   "outputs": [],
   "source": [
    "model = gaussian_model(spec.velocity, amplitude=5*u.K, offset=5*u.km/u.s, width=5*u.km/u.s)"
   ]
  },
  {
   "cell_type": "code",
   "execution_count": 23,
   "metadata": {
    "collapsed": false
   },
   "outputs": [
    {
     "data": {
      "text/plain": [
       "[<matplotlib.lines.Line2D at 0x11108fcc0>]"
      ]
     },
     "execution_count": 23,
     "metadata": {},
     "output_type": "execute_result"
    },
    {
     "data": {
      "image/png": "[encoded data removed]",
      "text/plain": [
       "<matplotlib.figure.Figure at 0x110fc8320>"
      ]
     },
     "metadata": {},
     "output_type": "display_data"
    }
   ],
   "source": [
    "pl.plot(spec.velocity, spec.flux, 'k-')\n",
    "pl.plot(spec.velocity, model, 'b-')"
   ]
  },
  {
   "cell_type": "code",
   "execution_count": 32,
   "metadata": {
    "collapsed": false
   },
   "outputs": [
    {
     "data": {
      "text/latex": [
       "$[-0.50829212,~-0.49870891,~-0.52269076,~\\dots, -3.8145078,~-3.8554833,~-3.9074813] \\; \\mathrm{K}$"
      ],
      "text/plain": [
       "<Quantity [-0.50829212,-0.49870891,-0.52269076,..., -3.81450779,\n",
       "           -3.85548328,-3.90748133] K>"
      ]
     },
     "execution_count": 32,
     "metadata": {},
     "output_type": "execute_result"
    }
   ],
   "source": [
    "spec.flux * u.K"
   ]
  },
  {
   "cell_type": "code",
   "execution_count": 28,
   "metadata": {
    "collapsed": true
   },
   "outputs": [],
   "source": [
    "def cost_function(params, data_range=None):\n",
    "    if data_range is not None:\n",
    "        data = spec.flux[data_range]\n",
    "    else:\n",
    "        data = spec.flux\n",
    "    return (((data * u.K) - gaussian_model(spec.velocity, *params))**2).sum().value"
   ]
  },
  {
   "cell_type": "code",
   "execution_count": 29,
   "metadata": {
    "collapsed": false
   },
   "outputs": [
    {
     "name": "stdout",
     "output_type": "stream",
     "text": [
      "a=1, b=2, c=3\n",
      "a=1, b=2, c=3\n"
     ]
    }
   ],
   "source": [
    "params = (1,2,3)\n",
    "def f(a,b,c):\n",
    "    print(\"a={0}, b={1}, c={2}\".format(a,b,c))\n",
    "f(1,2,3)\n",
    "f(*params)"
   ]
  },
  {
   "cell_type": "code",
   "execution_count": 30,
   "metadata": {
    "collapsed": false
   },
   "outputs": [
    {
     "data": {
      "text/plain": [
       "2894.608469233504"
      ]
     },
     "execution_count": 30,
     "metadata": {},
     "output_type": "execute_result"
    }
   ],
   "source": [
    "cost_function((5*u.K, 5*u.km/u.s, 5*u.km/u.s))"
   ]
  },
  {
   "cell_type": "code",
   "execution_count": 33,
   "metadata": {
    "collapsed": true
   },
   "outputs": [],
   "source": [
    "from scipy.optimize import minimize"
   ]
  },
  {
   "cell_type": "code",
   "execution_count": 36,
   "metadata": {
    "collapsed": false
   },
   "outputs": [
    {
     "data": {
      "text/plain": [
       "      fun: 874.0808553828039\n",
       " hess_inv: array([[ 0.02083241, -0.00701251,  0.02573938],\n",
       "       [-0.00701251,  0.09174813, -0.02584566],\n",
       "       [ 0.02573938, -0.02584566,  0.09195859]])\n",
       "      jac: array([ -7.62939453e-06,   0.00000000e+00,  -7.62939453e-06])\n",
       "  message: 'Optimization terminated successfully.'\n",
       "     nfev: 130\n",
       "      nit: 19\n",
       "     njev: 26\n",
       "   status: 0\n",
       "  success: True\n",
       "        x: array([ -2.98664886,  10.56106784,   5.22460432])"
      ]
     },
     "execution_count": 36,
     "metadata": {},
     "output_type": "execute_result"
    }
   ],
   "source": [
    "result = minimize(cost_function, (5, 5, 5), args=(slice(100,200),))\n",
    "result"
   ]
  },
  {
   "cell_type": "code",
   "execution_count": 38,
   "metadata": {
    "collapsed": false
   },
   "outputs": [],
   "source": [
    "(amplitude, offset, width) = result.x"
   ]
  },
  {
   "cell_type": "code",
   "execution_count": 39,
   "metadata": {
    "collapsed": true
   },
   "outputs": [],
   "source": [
    "best_fit_model = gaussian_model(spec.velocity, *result.x)"
   ]
  },
  {
   "cell_type": "code",
   "execution_count": 41,
   "metadata": {
    "collapsed": false
   },
   "outputs": [
    {
     "data": {
      "text/plain": [
       "(-30, 30)"
      ]
     },
     "execution_count": 41,
     "metadata": {},
     "output_type": "execute_result"
    },
    {
     "data": {
      "image/png": "[encoded data removed]",
      "text/plain": [
       "<matplotlib.figure.Figure at 0x11346a940>"
      ]
     },
     "metadata": {},
     "output_type": "display_data"
    }
   ],
   "source": [
    "pl.plot(spec.velocity, spec.flux, 'k-')\n",
    "pl.plot(spec.velocity, best_fit_model, 'r-')\n",
    "pl.xlim(-30, 30)"
   ]
  },
  {
   "cell_type": "markdown",
   "metadata": {},
   "source": [
    "# Exercise #\n",
    "\n",
    "1. Get a better fit to the data (create a better model & fit it)\n",
    "\n",
    " - try using different optimizers in scipy.optimize"
   ]
  },
  {
   "cell_type": "code",
   "execution_count": 42,
   "metadata": {
    "collapsed": true
   },
   "outputs": [],
   "source": [
    "arr = np.arange(100)"
   ]
  },
  {
   "cell_type": "code",
   "execution_count": 43,
   "metadata": {
    "collapsed": false
   },
   "outputs": [
    {
     "data": {
      "text/plain": [
       "array([10, 11, 12, 13, 14, 15, 16, 17, 18, 19, 20, 21, 22, 23, 24, 25, 26,\n",
       "       27, 28, 29, 30, 31, 32, 33, 34, 35, 36, 37, 38, 39, 40, 41, 42, 43,\n",
       "       44, 45, 46, 47, 48, 49])"
      ]
     },
     "execution_count": 43,
     "metadata": {},
     "output_type": "execute_result"
    }
   ],
   "source": [
    "arr[10:50]"
   ]
  },
  {
   "cell_type": "code",
   "execution_count": 44,
   "metadata": {
    "collapsed": false
   },
   "outputs": [
    {
     "data": {
      "text/plain": [
       "array([10, 11, 12, 13, 14, 15, 16, 17, 18, 19, 20, 21, 22, 23, 24, 25, 26,\n",
       "       27, 28, 29, 30, 31, 32, 33, 34, 35, 36, 37, 38, 39, 40, 41, 42, 43,\n",
       "       44, 45, 46, 47, 48, 49])"
      ]
     },
     "execution_count": 44,
     "metadata": {},
     "output_type": "execute_result"
    }
   ],
   "source": [
    "arr[slice(10,50)]"
   ]
  },
  {
   "cell_type": "code",
   "execution_count": null,
   "metadata": {
    "collapsed": true
   },
   "outputs": [],
   "source": []
  }
 ],
 "metadata": {
  "kernelspec": {
   "display_name": "Python 3",
   "language": "python",
   "name": "python3"
  },
  "language_info": {
   "codemirror_mode": {
    "name": "ipython",
    "version": 3
   },
   "file_extension": ".py",
   "mimetype": "text/x-python",
   "name": "python",
   "nbconvert_exporter": "python",
   "pygments_lexer": "ipython3",
   "version": "3.5.1"
  }
 },
 "nbformat": 4,
 "nbformat_minor": 0
}
