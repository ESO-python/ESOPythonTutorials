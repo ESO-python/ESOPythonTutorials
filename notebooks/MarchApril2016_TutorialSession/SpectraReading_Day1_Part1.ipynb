{
 "cells": [
  {
   "cell_type": "markdown",
   "metadata": {},
   "source": [
    " * First day: Dealing with spectra\n",
    "\n",
    "    * Reading/writing ascii files; handling fits files\n",
    "\t* Dealing with arrays\n",
    "\t* Interpolation\n",
    "\t* Fitting models to data\n",
    "\t* Plotting\n",
    " \n",
    " * Second day: Dealing with tables and imaging\n",
    "\n",
    "    * Displaying images\n",
    "\t* Cross-matching tables\n",
    "\t* Querying archives\n",
    "    * Astrometry and WCS"
   ]
  },
  {
   "cell_type": "markdown",
   "metadata": {},
   "source": [
    "** Reading an ascii file **"
   ]
  },
  {
   "cell_type": "code",
   "execution_count": 8,
   "metadata": {
    "collapsed": true
   },
   "outputs": [],
   "source": [
    "%matplotlib inline"
   ]
  },
  {
   "cell_type": "code",
   "execution_count": 9,
   "metadata": {
    "collapsed": true
   },
   "outputs": [],
   "source": [
    "# https://github.com/astropy/specutils/raw/master/specutils/io/tests/files/multispec_equispec.11.dat"
   ]
  },
  {
   "cell_type": "code",
   "execution_count": 10,
   "metadata": {
    "collapsed": false
   },
   "outputs": [
    {
     "name": "stderr",
     "output_type": "stream",
     "text": [
      "  % Total    % Received % Xferd  Average Speed   Time    Time     Time  Current\n",
      "                                 Dload  Upload   Total   Spent    Left  Speed\n",
      "\r",
      "  0     0    0     0    0     0      0      0 --:--:-- --:--:-- --:--:--     0\r",
      "100 27461  100 27461    0     0   146k      0 --:--:-- --:--:-- --:--:--  146k\n"
     ]
    }
   ],
   "source": [
    "%%bash\n",
    "curl -O https://raw.githubusercontent.com/astropy/specutils/master/specutils/io/tests/files/multispec_equispec.11.dat"
   ]
  },
  {
   "cell_type": "code",
   "execution_count": 11,
   "metadata": {
    "collapsed": false
   },
   "outputs": [],
   "source": [
    "with open('multispec_equispec.11.dat','r') as fh: # fh is short for file handle\n",
    "    # file consists of two columns, e.g.:  \n",
    "    # 14740.266391838  0.8220932\n",
    "    # 14743.8622868028  -1.856567\n",
    "\n",
    "    # declare empty list\n",
    "    all_lines = []\n",
    "    for line in fh:\n",
    "        # each line will split on a whitespace\n",
    "        all_lines.append(line.split())"
   ]
  },
  {
   "cell_type": "markdown",
   "metadata": {},
   "source": [
    "It's more convenient to work with arrays.  Also, we want the values to be floats intead of strings as they are now:"
   ]
  },
  {
   "cell_type": "code",
   "execution_count": 12,
   "metadata": {
    "collapsed": false
   },
   "outputs": [
    {
     "data": {
      "text/plain": [
       "[['14740.266391838', '0.8220932'], ['14743.8622868028', '-1.856567']]"
      ]
     },
     "execution_count": 12,
     "metadata": {},
     "output_type": "execute_result"
    }
   ],
   "source": [
    "all_lines[:2]"
   ]
  },
  {
   "cell_type": "code",
   "execution_count": 13,
   "metadata": {
    "collapsed": false
   },
   "outputs": [],
   "source": [
    "float_lines = [list(map(float,x)) for x in all_lines]"
   ]
  },
  {
   "cell_type": "code",
   "execution_count": 14,
   "metadata": {
    "collapsed": false
   },
   "outputs": [
    {
     "name": "stdout",
     "output_type": "stream",
     "text": [
      "first two float lines:  [[14740.266391838, 0.8220932], [14743.8622868028, -1.856567]]\n",
      "length(float_lines):  1024\n"
     ]
    }
   ],
   "source": [
    "print(\"first two float lines: \",float_lines[:2])\n",
    "print(\"length(float_lines): \",len(float_lines))"
   ]
  },
  {
   "cell_type": "markdown",
   "metadata": {},
   "source": [
    "What if we want the array to have dimensions [2,1024] instead of [1024,2]?"
   ]
  },
  {
   "cell_type": "code",
   "execution_count": 15,
   "metadata": {
    "collapsed": false
   },
   "outputs": [],
   "source": [
    "float_lines_inverted = list(zip(*float_lines))"
   ]
  },
  {
   "cell_type": "code",
   "execution_count": 16,
   "metadata": {
    "collapsed": false
   },
   "outputs": [
    {
     "data": {
      "text/plain": [
       "[14740.266391838, 0.8220932]"
      ]
     },
     "execution_count": 16,
     "metadata": {},
     "output_type": "execute_result"
    }
   ],
   "source": [
    "float_lines[0][:10]"
   ]
  },
  {
   "cell_type": "markdown",
   "metadata": {},
   "source": [
    "Numpy arrays are much more convenient to work with and are generally faster.  As long as you have a list of numbers (not a list of strings), they are easy to use:"
   ]
  },
  {
   "cell_type": "code",
   "execution_count": 17,
   "metadata": {
    "collapsed": true
   },
   "outputs": [],
   "source": [
    "import numpy as np\n",
    "float_lines_array = np.array(float_lines)"
   ]
  },
  {
   "cell_type": "code",
   "execution_count": 18,
   "metadata": {
    "collapsed": false
   },
   "outputs": [
    {
     "data": {
      "text/plain": [
       "(1024, 2)"
      ]
     },
     "execution_count": 18,
     "metadata": {},
     "output_type": "execute_result"
    }
   ],
   "source": [
    "float_lines_array.shape"
   ]
  },
  {
   "cell_type": "markdown",
   "metadata": {},
   "source": [
    "For example, transposing an array is much easier with numpy:"
   ]
  },
  {
   "cell_type": "code",
   "execution_count": 19,
   "metadata": {
    "collapsed": false
   },
   "outputs": [
    {
     "data": {
      "text/plain": [
       "(2, 1024)"
      ]
     },
     "execution_count": 19,
     "metadata": {},
     "output_type": "execute_result"
    }
   ],
   "source": [
    "float_lines_array.T.shape"
   ]
  },
  {
   "cell_type": "code",
   "execution_count": 20,
   "metadata": {
    "collapsed": false
   },
   "outputs": [],
   "source": [
    "xaxis, yaxis = float_lines_array.T"
   ]
  },
  {
   "cell_type": "markdown",
   "metadata": {},
   "source": [
    "With nested lists, you need to index each layer separately, whereas with numpy arrays you can index them together:"
   ]
  },
  {
   "cell_type": "code",
   "execution_count": 21,
   "metadata": {
    "collapsed": false
   },
   "outputs": [
    {
     "data": {
      "text/plain": [
       "array([ 0.8220932, -1.856567 , -2.0807   , -2.75078  , -1.882897 ])"
      ]
     },
     "execution_count": 21,
     "metadata": {},
     "output_type": "execute_result"
    }
   ],
   "source": [
    "float_lines_array[:5,1]"
   ]
  },
  {
   "cell_type": "code",
   "execution_count": 22,
   "metadata": {
    "collapsed": false
   },
   "outputs": [
    {
     "data": {
      "text/plain": [
       "[[14740.266391838, 0.8220932],\n",
       " [14743.8622868028, -1.856567],\n",
       " [14747.4581817676, -2.0807],\n",
       " [14751.0540767325, -2.75078],\n",
       " [14754.6499716973, -1.882897]]"
      ]
     },
     "execution_count": 22,
     "metadata": {},
     "output_type": "execute_result"
    }
   ],
   "source": [
    "float_lines[:5]"
   ]
  },
  {
   "cell_type": "code",
   "execution_count": 23,
   "metadata": {
    "collapsed": false
   },
   "outputs": [
    {
     "data": {
      "text/plain": [
       "(0.8220932, -1.856567, -2.0807, -2.75078, -1.882897)"
      ]
     },
     "execution_count": 23,
     "metadata": {},
     "output_type": "execute_result"
    }
   ],
   "source": [
    "# difficult to access the second column:\n",
    "list(zip(*float_lines[:5]))[1]"
   ]
  },
  {
   "cell_type": "markdown",
   "metadata": {},
   "source": [
    "Arrays can be manipulated like any other number, and arithmetic operations will be applied to each element:"
   ]
  },
  {
   "cell_type": "code",
   "execution_count": 24,
   "metadata": {
    "collapsed": false
   },
   "outputs": [
    {
     "data": {
      "text/plain": [
       "array([  4.110466,  -9.282835, -10.4035  , -13.7539  ,  -9.414485])"
      ]
     },
     "execution_count": 24,
     "metadata": {},
     "output_type": "execute_result"
    }
   ],
   "source": [
    "5 * float_lines_array[:5,1]"
   ]
  },
  {
   "cell_type": "markdown",
   "metadata": {},
   "source": [
    "# Plotting #"
   ]
  },
  {
   "cell_type": "code",
   "execution_count": 25,
   "metadata": {
    "collapsed": true
   },
   "outputs": [],
   "source": [
    "import pylab as pl"
   ]
  },
  {
   "cell_type": "code",
   "execution_count": 26,
   "metadata": {
    "collapsed": false
   },
   "outputs": [
    {
     "data": {
      "image/png": "[encoded data removed]",
      "text/plain": [
       "<matplotlib.figure.Figure at 0x10c88bb00>"
      ]
     },
     "metadata": {},
     "output_type": "display_data"
    }
   ],
   "source": [
    "pl.plot(xaxis, yaxis)\n",
    "pl.savefig(\"my_first_spectrum_plot.pdf\")"
   ]
  },
  {
   "cell_type": "markdown",
   "metadata": {},
   "source": [
    "# Tools for reading ASCII files #"
   ]
  },
  {
   "cell_type": "code",
   "execution_count": 27,
   "metadata": {
    "collapsed": true
   },
   "outputs": [],
   "source": [
    "import numpy as np"
   ]
  },
  {
   "cell_type": "code",
   "execution_count": 28,
   "metadata": {
    "collapsed": false
   },
   "outputs": [
    {
     "data": {
      "text/plain": [
       "array([[  1.47402664e+04,   8.22093200e-01],\n",
       "       [  1.47438623e+04,  -1.85656700e+00],\n",
       "       [  1.47474582e+04,  -2.08070000e+00],\n",
       "       ..., \n",
       "       [  1.84116752e+04,   5.27366100e+00],\n",
       "       [  1.84152710e+04,   6.57225800e+00],\n",
       "       [  1.84188669e+04,   1.60453100e+00]])"
      ]
     },
     "execution_count": 28,
     "metadata": {},
     "output_type": "execute_result"
    }
   ],
   "source": [
    "arr = np.loadtxt('multispec_equispec.11.dat')\n",
    "arr"
   ]
  },
  {
   "cell_type": "code",
   "execution_count": 29,
   "metadata": {
    "collapsed": false
   },
   "outputs": [
    {
     "data": {
      "text/plain": [
       "array([[  1.47402664e+04,   8.22093200e-01],\n",
       "       [  1.47438623e+04,  -1.85656700e+00],\n",
       "       [  1.47474582e+04,  -2.08070000e+00],\n",
       "       ..., \n",
       "       [  1.84116752e+04,   5.27366100e+00],\n",
       "       [  1.84152710e+04,   6.57225800e+00],\n",
       "       [  1.84188669e+04,   1.60453100e+00]])"
      ]
     },
     "execution_count": 29,
     "metadata": {},
     "output_type": "execute_result"
    }
   ],
   "source": [
    "arr = np.genfromtxt('multispec_equispec.11.dat')\n",
    "arr"
   ]
  },
  {
   "cell_type": "code",
   "execution_count": 30,
   "metadata": {
    "collapsed": false
   },
   "outputs": [
    {
     "data": {
      "text/plain": [
       "array([[  1.47402664e+04,              nan,   8.22093200e-01],\n",
       "       [  1.47438623e+04,              nan,  -1.85656700e+00],\n",
       "       [  1.47474582e+04,              nan,  -2.08070000e+00],\n",
       "       ..., \n",
       "       [  1.84116752e+04,              nan,   5.27366100e+00],\n",
       "       [  1.84152710e+04,              nan,   6.57225800e+00],\n",
       "       [  1.84188669e+04,              nan,   1.60453100e+00]])"
      ]
     },
     "execution_count": 30,
     "metadata": {},
     "output_type": "execute_result"
    }
   ],
   "source": [
    "arr = np.genfromtxt('multispec_equispec.11.dat', delimiter=\" \", comments=\"#\",\n",
    "                    skip_header=0, skip_footer=0)\n",
    "arr"
   ]
  },
  {
   "cell_type": "code",
   "execution_count": 31,
   "metadata": {
    "collapsed": true
   },
   "outputs": [],
   "source": [
    "from astropy.table import Table\n",
    "from astropy.io import ascii"
   ]
  },
  {
   "cell_type": "code",
   "execution_count": 32,
   "metadata": {
    "collapsed": false
   },
   "outputs": [
    {
     "data": {
      "text/html": [
       "&lt;Table length=1024&gt;\n",
       "<table id=\"table4568205072\">\n",
       "<thead><tr><th>col1</th><th>col2</th></tr></thead>\n",
       "<thead><tr><th>float64</th><th>float64</th></tr></thead>\n",
       "<tr><td>14740.2663918</td><td>0.8220932</td></tr>\n",
       "<tr><td>14743.8622868</td><td>-1.856567</td></tr>\n",
       "<tr><td>14747.4581818</td><td>-2.0807</td></tr>\n",
       "<tr><td>14751.0540767</td><td>-2.75078</td></tr>\n",
       "<tr><td>14754.6499717</td><td>-1.882897</td></tr>\n",
       "<tr><td>14758.2458667</td><td>-1.653645</td></tr>\n",
       "<tr><td>14761.8417616</td><td>-2.496639</td></tr>\n",
       "<tr><td>14765.4376566</td><td>-2.216392</td></tr>\n",
       "<tr><td>14769.0335516</td><td>-1.711144</td></tr>\n",
       "<tr><td>14772.6294465</td><td>-2.086175</td></tr>\n",
       "<tr><td>...</td><td>...</td></tr>\n",
       "<tr><td>18386.5038862</td><td>6.753047</td></tr>\n",
       "<tr><td>18390.0997811</td><td>6.417622</td></tr>\n",
       "<tr><td>18393.6956761</td><td>6.072701</td></tr>\n",
       "<tr><td>18397.2915711</td><td>5.728085</td></tr>\n",
       "<tr><td>18400.887466</td><td>4.878081</td></tr>\n",
       "<tr><td>18404.483361</td><td>3.940828</td></tr>\n",
       "<tr><td>18408.0792559</td><td>4.006176</td></tr>\n",
       "<tr><td>18411.6751509</td><td>5.273661</td></tr>\n",
       "<tr><td>18415.2710459</td><td>6.572258</td></tr>\n",
       "<tr><td>18418.8669408</td><td>1.604531</td></tr>\n",
       "</table>"
      ],
      "text/plain": [
       "<Table length=1024>\n",
       "     col1        col2  \n",
       "   float64     float64 \n",
       "------------- ---------\n",
       "14740.2663918 0.8220932\n",
       "14743.8622868 -1.856567\n",
       "14747.4581818   -2.0807\n",
       "14751.0540767  -2.75078\n",
       "14754.6499717 -1.882897\n",
       "14758.2458667 -1.653645\n",
       "14761.8417616 -2.496639\n",
       "14765.4376566 -2.216392\n",
       "14769.0335516 -1.711144\n",
       "14772.6294465 -2.086175\n",
       "          ...       ...\n",
       "18386.5038862  6.753047\n",
       "18390.0997811  6.417622\n",
       "18393.6956761  6.072701\n",
       "18397.2915711  5.728085\n",
       " 18400.887466  4.878081\n",
       " 18404.483361  3.940828\n",
       "18408.0792559  4.006176\n",
       "18411.6751509  5.273661\n",
       "18415.2710459  6.572258\n",
       "18418.8669408  1.604531"
      ]
     },
     "execution_count": 32,
     "metadata": {},
     "output_type": "execute_result"
    }
   ],
   "source": [
    "tbl = Table.read('multispec_equispec.11.dat', format='ascii.no_header', delimiter=' ')\n",
    "tbl"
   ]
  },
  {
   "cell_type": "code",
   "execution_count": 33,
   "metadata": {
    "collapsed": false
   },
   "outputs": [
    {
     "data": {
      "text/html": [
       "<div>\n",
       "<table border=\"1\" class=\"dataframe\">\n",
       "  <thead>\n",
       "    <tr style=\"text-align: right;\">\n",
       "      <th></th>\n",
       "      <th>0</th>\n",
       "      <th>1</th>\n",
       "    </tr>\n",
       "  </thead>\n",
       "  <tbody>\n",
       "    <tr>\n",
       "      <th>0</th>\n",
       "      <td>14740.266392</td>\n",
       "      <td>0.822093</td>\n",
       "    </tr>\n",
       "    <tr>\n",
       "      <th>1</th>\n",
       "      <td>14743.862287</td>\n",
       "      <td>-1.856567</td>\n",
       "    </tr>\n",
       "    <tr>\n",
       "      <th>2</th>\n",
       "      <td>14747.458182</td>\n",
       "      <td>-2.080700</td>\n",
       "    </tr>\n",
       "    <tr>\n",
       "      <th>3</th>\n",
       "      <td>14751.054077</td>\n",
       "      <td>-2.750780</td>\n",
       "    </tr>\n",
       "    <tr>\n",
       "      <th>4</th>\n",
       "      <td>14754.649972</td>\n",
       "      <td>-1.882897</td>\n",
       "    </tr>\n",
       "    <tr>\n",
       "      <th>5</th>\n",
       "      <td>14758.245867</td>\n",
       "      <td>-1.653645</td>\n",
       "    </tr>\n",
       "    <tr>\n",
       "      <th>6</th>\n",
       "      <td>14761.841762</td>\n",
       "      <td>-2.496639</td>\n",
       "    </tr>\n",
       "    <tr>\n",
       "      <th>7</th>\n",
       "      <td>14765.437657</td>\n",
       "      <td>-2.216392</td>\n",
       "    </tr>\n",
       "    <tr>\n",
       "      <th>8</th>\n",
       "      <td>14769.033552</td>\n",
       "      <td>-1.711144</td>\n",
       "    </tr>\n",
       "    <tr>\n",
       "      <th>9</th>\n",
       "      <td>14772.629447</td>\n",
       "      <td>-2.086175</td>\n",
       "    </tr>\n",
       "    <tr>\n",
       "      <th>10</th>\n",
       "      <td>14776.225341</td>\n",
       "      <td>-2.388523</td>\n",
       "    </tr>\n",
       "    <tr>\n",
       "      <th>11</th>\n",
       "      <td>14779.821236</td>\n",
       "      <td>-2.401196</td>\n",
       "    </tr>\n",
       "    <tr>\n",
       "      <th>12</th>\n",
       "      <td>14783.417131</td>\n",
       "      <td>-2.646510</td>\n",
       "    </tr>\n",
       "    <tr>\n",
       "      <th>13</th>\n",
       "      <td>14787.013026</td>\n",
       "      <td>-2.633347</td>\n",
       "    </tr>\n",
       "    <tr>\n",
       "      <th>14</th>\n",
       "      <td>14790.608921</td>\n",
       "      <td>-2.327991</td>\n",
       "    </tr>\n",
       "    <tr>\n",
       "      <th>15</th>\n",
       "      <td>14794.204816</td>\n",
       "      <td>-2.146435</td>\n",
       "    </tr>\n",
       "    <tr>\n",
       "      <th>16</th>\n",
       "      <td>14797.800711</td>\n",
       "      <td>-2.082651</td>\n",
       "    </tr>\n",
       "    <tr>\n",
       "      <th>17</th>\n",
       "      <td>14801.396606</td>\n",
       "      <td>-2.673334</td>\n",
       "    </tr>\n",
       "    <tr>\n",
       "      <th>18</th>\n",
       "      <td>14804.992501</td>\n",
       "      <td>-2.370189</td>\n",
       "    </tr>\n",
       "    <tr>\n",
       "      <th>19</th>\n",
       "      <td>14808.588396</td>\n",
       "      <td>-2.146415</td>\n",
       "    </tr>\n",
       "    <tr>\n",
       "      <th>20</th>\n",
       "      <td>14812.184291</td>\n",
       "      <td>-2.337629</td>\n",
       "    </tr>\n",
       "    <tr>\n",
       "      <th>21</th>\n",
       "      <td>14815.780186</td>\n",
       "      <td>-2.144238</td>\n",
       "    </tr>\n",
       "    <tr>\n",
       "      <th>22</th>\n",
       "      <td>14819.376081</td>\n",
       "      <td>-1.720990</td>\n",
       "    </tr>\n",
       "    <tr>\n",
       "      <th>23</th>\n",
       "      <td>14822.971976</td>\n",
       "      <td>-1.555961</td>\n",
       "    </tr>\n",
       "    <tr>\n",
       "      <th>24</th>\n",
       "      <td>14826.567871</td>\n",
       "      <td>-2.047852</td>\n",
       "    </tr>\n",
       "    <tr>\n",
       "      <th>25</th>\n",
       "      <td>14830.163766</td>\n",
       "      <td>-2.028217</td>\n",
       "    </tr>\n",
       "    <tr>\n",
       "      <th>26</th>\n",
       "      <td>14833.759661</td>\n",
       "      <td>-1.917684</td>\n",
       "    </tr>\n",
       "    <tr>\n",
       "      <th>27</th>\n",
       "      <td>14837.355556</td>\n",
       "      <td>-2.099508</td>\n",
       "    </tr>\n",
       "    <tr>\n",
       "      <th>28</th>\n",
       "      <td>14840.951451</td>\n",
       "      <td>-1.696484</td>\n",
       "    </tr>\n",
       "    <tr>\n",
       "      <th>29</th>\n",
       "      <td>14844.547346</td>\n",
       "      <td>-1.599167</td>\n",
       "    </tr>\n",
       "    <tr>\n",
       "      <th>...</th>\n",
       "      <td>...</td>\n",
       "      <td>...</td>\n",
       "    </tr>\n",
       "    <tr>\n",
       "      <th>994</th>\n",
       "      <td>18314.585987</td>\n",
       "      <td>19.464080</td>\n",
       "    </tr>\n",
       "    <tr>\n",
       "      <th>995</th>\n",
       "      <td>18318.181882</td>\n",
       "      <td>21.615080</td>\n",
       "    </tr>\n",
       "    <tr>\n",
       "      <th>996</th>\n",
       "      <td>18321.777777</td>\n",
       "      <td>25.198370</td>\n",
       "    </tr>\n",
       "    <tr>\n",
       "      <th>997</th>\n",
       "      <td>18325.373672</td>\n",
       "      <td>27.101250</td>\n",
       "    </tr>\n",
       "    <tr>\n",
       "      <th>998</th>\n",
       "      <td>18328.969567</td>\n",
       "      <td>26.054030</td>\n",
       "    </tr>\n",
       "    <tr>\n",
       "      <th>999</th>\n",
       "      <td>18332.565462</td>\n",
       "      <td>24.030930</td>\n",
       "    </tr>\n",
       "    <tr>\n",
       "      <th>1000</th>\n",
       "      <td>18336.161357</td>\n",
       "      <td>22.149230</td>\n",
       "    </tr>\n",
       "    <tr>\n",
       "      <th>1001</th>\n",
       "      <td>18339.757252</td>\n",
       "      <td>19.462560</td>\n",
       "    </tr>\n",
       "    <tr>\n",
       "      <th>1002</th>\n",
       "      <td>18343.353147</td>\n",
       "      <td>15.519730</td>\n",
       "    </tr>\n",
       "    <tr>\n",
       "      <th>1003</th>\n",
       "      <td>18346.949042</td>\n",
       "      <td>11.143000</td>\n",
       "    </tr>\n",
       "    <tr>\n",
       "      <th>1004</th>\n",
       "      <td>18350.544937</td>\n",
       "      <td>7.884392</td>\n",
       "    </tr>\n",
       "    <tr>\n",
       "      <th>1005</th>\n",
       "      <td>18354.140831</td>\n",
       "      <td>5.898630</td>\n",
       "    </tr>\n",
       "    <tr>\n",
       "      <th>1006</th>\n",
       "      <td>18357.736726</td>\n",
       "      <td>4.498694</td>\n",
       "    </tr>\n",
       "    <tr>\n",
       "      <th>1007</th>\n",
       "      <td>18361.332621</td>\n",
       "      <td>3.895802</td>\n",
       "    </tr>\n",
       "    <tr>\n",
       "      <th>1008</th>\n",
       "      <td>18364.928516</td>\n",
       "      <td>3.249683</td>\n",
       "    </tr>\n",
       "    <tr>\n",
       "      <th>1009</th>\n",
       "      <td>18368.524411</td>\n",
       "      <td>3.085544</td>\n",
       "    </tr>\n",
       "    <tr>\n",
       "      <th>1010</th>\n",
       "      <td>18372.120306</td>\n",
       "      <td>4.522633</td>\n",
       "    </tr>\n",
       "    <tr>\n",
       "      <th>1011</th>\n",
       "      <td>18375.716201</td>\n",
       "      <td>5.928256</td>\n",
       "    </tr>\n",
       "    <tr>\n",
       "      <th>1012</th>\n",
       "      <td>18379.312096</td>\n",
       "      <td>6.679966</td>\n",
       "    </tr>\n",
       "    <tr>\n",
       "      <th>1013</th>\n",
       "      <td>18382.907991</td>\n",
       "      <td>6.624547</td>\n",
       "    </tr>\n",
       "    <tr>\n",
       "      <th>1014</th>\n",
       "      <td>18386.503886</td>\n",
       "      <td>6.753047</td>\n",
       "    </tr>\n",
       "    <tr>\n",
       "      <th>1015</th>\n",
       "      <td>18390.099781</td>\n",
       "      <td>6.417622</td>\n",
       "    </tr>\n",
       "    <tr>\n",
       "      <th>1016</th>\n",
       "      <td>18393.695676</td>\n",
       "      <td>6.072701</td>\n",
       "    </tr>\n",
       "    <tr>\n",
       "      <th>1017</th>\n",
       "      <td>18397.291571</td>\n",
       "      <td>5.728085</td>\n",
       "    </tr>\n",
       "    <tr>\n",
       "      <th>1018</th>\n",
       "      <td>18400.887466</td>\n",
       "      <td>4.878081</td>\n",
       "    </tr>\n",
       "    <tr>\n",
       "      <th>1019</th>\n",
       "      <td>18404.483361</td>\n",
       "      <td>3.940828</td>\n",
       "    </tr>\n",
       "    <tr>\n",
       "      <th>1020</th>\n",
       "      <td>18408.079256</td>\n",
       "      <td>4.006176</td>\n",
       "    </tr>\n",
       "    <tr>\n",
       "      <th>1021</th>\n",
       "      <td>18411.675151</td>\n",
       "      <td>5.273661</td>\n",
       "    </tr>\n",
       "    <tr>\n",
       "      <th>1022</th>\n",
       "      <td>18415.271046</td>\n",
       "      <td>6.572258</td>\n",
       "    </tr>\n",
       "    <tr>\n",
       "      <th>1023</th>\n",
       "      <td>18418.866941</td>\n",
       "      <td>1.604531</td>\n",
       "    </tr>\n",
       "  </tbody>\n",
       "</table>\n",
       "<p>1024 rows × 2 columns</p>\n",
       "</div>"
      ],
      "text/plain": [
       "                 0          1\n",
       "0     14740.266392   0.822093\n",
       "1     14743.862287  -1.856567\n",
       "2     14747.458182  -2.080700\n",
       "3     14751.054077  -2.750780\n",
       "4     14754.649972  -1.882897\n",
       "5     14758.245867  -1.653645\n",
       "6     14761.841762  -2.496639\n",
       "7     14765.437657  -2.216392\n",
       "8     14769.033552  -1.711144\n",
       "9     14772.629447  -2.086175\n",
       "10    14776.225341  -2.388523\n",
       "11    14779.821236  -2.401196\n",
       "12    14783.417131  -2.646510\n",
       "13    14787.013026  -2.633347\n",
       "14    14790.608921  -2.327991\n",
       "15    14794.204816  -2.146435\n",
       "16    14797.800711  -2.082651\n",
       "17    14801.396606  -2.673334\n",
       "18    14804.992501  -2.370189\n",
       "19    14808.588396  -2.146415\n",
       "20    14812.184291  -2.337629\n",
       "21    14815.780186  -2.144238\n",
       "22    14819.376081  -1.720990\n",
       "23    14822.971976  -1.555961\n",
       "24    14826.567871  -2.047852\n",
       "25    14830.163766  -2.028217\n",
       "26    14833.759661  -1.917684\n",
       "27    14837.355556  -2.099508\n",
       "28    14840.951451  -1.696484\n",
       "29    14844.547346  -1.599167\n",
       "...            ...        ...\n",
       "994   18314.585987  19.464080\n",
       "995   18318.181882  21.615080\n",
       "996   18321.777777  25.198370\n",
       "997   18325.373672  27.101250\n",
       "998   18328.969567  26.054030\n",
       "999   18332.565462  24.030930\n",
       "1000  18336.161357  22.149230\n",
       "1001  18339.757252  19.462560\n",
       "1002  18343.353147  15.519730\n",
       "1003  18346.949042  11.143000\n",
       "1004  18350.544937   7.884392\n",
       "1005  18354.140831   5.898630\n",
       "1006  18357.736726   4.498694\n",
       "1007  18361.332621   3.895802\n",
       "1008  18364.928516   3.249683\n",
       "1009  18368.524411   3.085544\n",
       "1010  18372.120306   4.522633\n",
       "1011  18375.716201   5.928256\n",
       "1012  18379.312096   6.679966\n",
       "1013  18382.907991   6.624547\n",
       "1014  18386.503886   6.753047\n",
       "1015  18390.099781   6.417622\n",
       "1016  18393.695676   6.072701\n",
       "1017  18397.291571   5.728085\n",
       "1018  18400.887466   4.878081\n",
       "1019  18404.483361   3.940828\n",
       "1020  18408.079256   4.006176\n",
       "1021  18411.675151   5.273661\n",
       "1022  18415.271046   6.572258\n",
       "1023  18418.866941   1.604531\n",
       "\n",
       "[1024 rows x 2 columns]"
      ]
     },
     "execution_count": 33,
     "metadata": {},
     "output_type": "execute_result"
    }
   ],
   "source": [
    "import pandas as pd\n",
    "ptbl = pd.read_csv('multispec_equispec.11.dat', delim_whitespace=True, header=None)\n",
    "ptbl"
   ]
  },
  {
   "cell_type": "markdown",
   "metadata": {},
   "source": [
    "## Speed Comparison ##"
   ]
  },
  {
   "cell_type": "code",
   "execution_count": 34,
   "metadata": {
    "collapsed": false
   },
   "outputs": [
    {
     "name": "stdout",
     "output_type": "stream",
     "text": [
      "1000 loops, best of 3: 1.06 ms per loop\n"
     ]
    }
   ],
   "source": [
    "%timeit pd.read_csv('multispec_equispec.11.dat', delim_whitespace=True, header=None)"
   ]
  },
  {
   "cell_type": "code",
   "execution_count": 35,
   "metadata": {
    "collapsed": false
   },
   "outputs": [
    {
     "name": "stdout",
     "output_type": "stream",
     "text": [
      "1000 loops, best of 3: 1.38 ms per loop\n"
     ]
    }
   ],
   "source": [
    "%timeit Table.read('multispec_equispec.11.dat', format='ascii.no_header', delimiter=' ')"
   ]
  },
  {
   "cell_type": "markdown",
   "metadata": {},
   "source": [
    "## Exercises ##"
   ]
  },
  {
   "cell_type": "markdown",
   "metadata": {},
   "source": [
    "1. Read this text file:\n",
    "\n",
    "  https://raw.githubusercontent.com/astropy/specutils/master/specutils/io/tests/files/AAO_11.txt\n",
    "\n",
    "  which contains both a header and two data columns.  Plot it, and save as a ``.png`` and as a ``.pdf``\n",
    "\n",
    "2. Write your own function for file reading.  Based on the original example, write a function that reads a 2-column (or n-column) space-separated text file into a numpy array.  Compare its execution time to that of ``pandas.read_csv`` and ``astropy.io.table.Table.read``."
   ]
  },
  {
   "cell_type": "markdown",
   "metadata": {},
   "source": [
    "URL for notebook from this session: ``goo.gl/EIbNDg``"
   ]
  },
  {
   "cell_type": "code",
   "execution_count": 29,
   "metadata": {
    "collapsed": false
   },
   "outputs": [
    {
     "name": "stderr",
     "output_type": "stream",
     "text": [
      "  % Total    % Received % Xferd  Average Speed   Time    Time     Time  Current\n",
      "                                 Dload  Upload   Total   Spent    Left  Speed\n",
      "\r",
      "  0     0    0     0    0     0      0      0 --:--:-- --:--:-- --:--:--     0\r",
      "100 87908  100 87908    0     0  99536      0 --:--:-- --:--:-- --:--:-- 99556\n"
     ]
    }
   ],
   "source": [
    "%%bash\n",
    "curl -O https://raw.githubusercontent.com/astropy/specutils/master/specutils/io/tests/files/AAO_11.txt"
   ]
  },
  {
   "cell_type": "code",
   "execution_count": 45,
   "metadata": {
    "collapsed": false,
    "scrolled": false
   },
   "outputs": [
    {
     "name": "stdout",
     "output_type": "stream",
     "text": [
      "BITPIX  =                    8  /  8-bit ASCII characters                       \r\n",
      "NAXIS   =                    1  /  Number of Image Dimensions                   \r\n",
      "NAXIS1  =                 2746  /  Length of axis                               \r\n",
      "ORIGIN  = 'NOAO-IRAF: WTEXTIMAGE'  /\r\n",
      "IRAF-MAX=                   0.  /  Max image pixel (out of date)                \r\n",
      "IRAF-MIN=                   0.  /  Min image pixel (out of date)                \r\n",
      "IRAF-B/P=                   32  /  Image bits per pixel                         \r\n",
      "IRAFTYPE= 'REAL FLOATING     '  /  Image datatype                              \r\n",
      "OBJECT  = 'TW HYA            '  /                                              \r\n",
      "FILENAME= 'AAO_11.0011.FITS  '  /  IRAF filename                               \r\n",
      "FORMAT  = '5G14.7            '  /  Text line format                            \r\n",
      "EXTEND  =                    F / File may contain extensions                    \r\n",
      "ORIGIN  = 'NOAO-IRAF FITS Image Kernel July 2003' / FITS file originator        \r\n",
      "DATE    = '2012-11-26T14:48:43' / Date FITS file was generated                  \r\n",
      "IRAF-TLM= '2012-11-26T14:48:43' / Time of last modification                     \r\n",
      "OBJECT  = 'TW Hya  '           / Name of the object observed                    \r\n",
      "COMMENT   FITS (Flexible Image Transport System) format is defined in 'Astronomy\r\n",
      "COMMENT   and Astrophysics', volume 376, page 359; bibcode: 2001A&A...376..359H \r\n",
      "DCT_DATE= 'Oct 28 2009'        / DCT release date                               \r\n",
      "DCT_VER = 'r3_110  '           / DCT version number                             \r\n",
      "DETECXE =                 2048 / Last column of detector                        \r\n",
      "DETECXS =                    1 / First column of detector                       \r\n",
      "DETECYE =                 4096 / Last row of detector                           \r\n",
      "DETECYS =                    1 / First row of detector                          \r\n",
      "FIRMVSYS= 'System: AAO2 CCD Controller System Controller V1.23 151104' / System \r\n",
      "FIRMVSEQ= 'Sequencer: AAO2 CCD Controller Sequencer V1.3 161203' / Sequencer fir\r\n",
      "DETECTOR= 'EEV2    '           / Detector name                                  \r\n",
      "XPIXSIZE=                 13.5 / X Pixel size in microns                        \r\n",
      "YPIXSIZE=                 13.5 / Y Pixel size in microns                        \r\n",
      "CONFIGID=                    7 / Controller configuration Id                    \r\n",
      "DETECTID=                    4 / Controller detector Id                         \r\n",
      "ABCKPLID=                    3 / Analog backplane Id                            \r\n",
      "VIDPBID =                    2 / Video personality board Id                     \r\n",
      "CLKPBID =                   21 / Clock personality board Id                     \r\n",
      "BRDID_1 =                65537 / Controller board #1 Id                         \r\n",
      "BRDSN_1 =                   66 / Controller board #1 serial #                   \r\n",
      "BRDID_2 =               327681 / Controller board #2 Id                         \r\n",
      "BRDSN_2 =                   70 / Controller board #2 serial #                   \r\n",
      "BRDID_3 =               131074 / Controller board #3 Id                         \r\n",
      "BRDSN_3 =                   82 / Controller board #3 serial #                   \r\n",
      "BRDID_4 =               196610 / Controller board #4 Id                         \r\n",
      "BRDSN_4 =                   92 / Controller board #4 serial #                   \r\n",
      "BRDID_5 =               262146 / Controller board #5 Id                         \r\n",
      "BRDSN_5 =                   75 / Controller board #5 serial #                   \r\n",
      "BRDID_6 =               458754 / Controller board #6 Id                         \r\n",
      "BRDSN_6 =                  105 / Controller board #6 serial #                   \r\n",
      "BRDID_7 =               393217 / Controller board #7 Id                         \r\n",
      "BRDSN_7 =                   58 / Controller board #7 serial #                   \r\n",
      "METHOD  = 'Normal ccd control method' / Observing method                        \r\n",
      "SPEED   = 'fast    '           / Readout speed                                  \r\n",
      "READAMP = '        '           / Readout amplifier                              \r\n",
      "EXPOSED =                 600. / Exposure time (seconds)                        \r\n",
      "ELAPSED =                600.3 / Elapsed time (seconds)                         \r\n",
      "TOTALEXP=                 600. / Total exposure (seconds)                       \r\n",
      "RO_GAIN =                  1.0 / Readout amplifier (inverse) gain (e-/ADU)      \r\n",
      "RO_NOISE=                 5.35 / Readout noise (electrons)                      \r\n",
      "TELESCOP= 'Anglo-Australian Telescope' / Telescope Name                         \r\n",
      "ALT_OBS =                 1164 / Altitude of observatory in metres              \r\n",
      "LAT_OBS =            -31.27704 / Observatory latitude in degrees                \r\n",
      "LONG_OBS=             149.0661 / Observatory longitude in degrees               \r\n",
      "RCT_VER = 'r3_62L  '           / Run Control Task version number                \r\n",
      "RCT_DATE= '27-Oct-2009'        / Run Control Task version date                  \r\n",
      "RUNCMD  = 'RUN     '           / Run command                                    \r\n",
      "RADECSYS= 'FK5     '           / FK5 reference system                           \r\n",
      "EQUINOX =                2000. / J2000 equinox                                  \r\n",
      "INSTRUME= 'UCLES   '           / Instrument in use                              \r\n",
      "GRATID  = '79      '           / The grating ID, Either 31 or 79                \r\n",
      "LAMBDAC =              5497.31 / Central Wavelength (angstroms)                 \r\n",
      "GORDER  =                   41 / Spectrum Order. Range 20 to 189                \r\n",
      "BR_STATE= 'INACTIVE'           / Tracking state of the beam de-rotator          \r\n",
      "TEL_PA  =                  -1. / position angle. -1 not used                    \r\n",
      "RUN     =                   52 / Run number                                     \r\n",
      "OBSNUM  =                   52 / Observation number                             \r\n",
      "GRPNUM  =                   52 / Group Number                                   \r\n",
      "GRPMEM  =                    1 / Group member                                   \r\n",
      "GRPMAX  =                    0 / Group maximum                                  \r\n",
      "OBSTYPE = 'OBJECT  '           / Observation type                               \r\n",
      "UTDATE  = '2011:04:18'         / UT date                                        \r\n",
      "EPOCH   =      2011.2933533356 / Current Epoch, Years A.D.                      \r\n",
      "UTSTART = '09:32:07'           / UT start                                       \r\n",
      "UTEND   = '09:42:08'           / UT end                                         \r\n",
      "STSTART = '09:13:01'           / ST start                                       \r\n",
      "STEND   = '09:23:03'           / ST end                                         \r\n",
      "UTMJD   =     55669.3973058276 / Modified Julian Date (UTC)                     \r\n",
      "TOPEND  = 'F/36    '           / Telescope top-end                              \r\n",
      "AXIS    = 'REF     '           / Current optical axis                           \r\n",
      "AXIS_X  =                   0. / Optical axis x (mm)                            \r\n",
      "AXIS_Y  =                   0. / Optical axis y (mm)                            \r\n",
      "TRACKING= 'TRACKING'           / Telescope is tracking.                         \r\n",
      "MEANRA  =     165.465172255035 / 11 01 51.64                                    \r\n",
      "MEANDEC =    -34.7031303545904 / -34 42 11.3                                    \r\n",
      "HASTART =    -27.3532949569471 / HA at start of run                             \r\n",
      "ZDSTART =     23.1258066125982 / ZD at start of run                             \r\n",
      "APPRA   =     2.89039527913243 / Current apparent place position right ascension\r\n",
      "APPDEC  =   -0.606841574053954 / Current apparent place position declination    \r\n",
      "WINDOW  = 'eev_planet_bx2.txt' / Observing window (file name)                   \r\n",
      "CPIXEL_S=                  27. / CPIXEL_SIZE                                    \r\n",
      "CSLIT_PR=                 8.63 / CSLIT_PROJ                                     \r\n",
      "DPIXEL_S=                 13.5 / DPIXEL_SIZE                                    \r\n",
      "DSLIT_PR=                13.25 / DSLIT_PROJ                                     \r\n",
      "ECHGAMMO=                   0. / ECH_GAMMA_OFF                                  \r\n",
      "ECHTHETO=                   0. / ECH_THETA_OFF                                  \r\n",
      "FM_FACTO=                 1.37 / FM_FACTOR                                      \r\n",
      "PLATE_SC=                0.712 / PLATE_SCALE                                    \r\n",
      "SLITANGO=                   0. / SLIT_ANGLE_OFF                                 \r\n",
      "CAMSHUT = 'OPEN    '           / Camera shutter state                           \r\n",
      "COLLIMAT= 'WIDE    '           / Collimator selected                            \r\n",
      "ECHELLE = '31      '           / Echelle selected                               \r\n",
      "ECHTHETA= '0.199087'           / Echelle theta in degrees                       \r\n",
      "HARTMANN= 'OUT     '           / Hartmann state                                 \r\n",
      "HARTPOS = 'UP      '           / Hartmann position                              \r\n",
      "LFILT1  = '1 (CLEAR)'          / Lamp filter 1 selected                         \r\n",
      "LFILT2  = '1 (CLEAR)'          / Lamp filter 2 selected                         \r\n",
      "PRISMPOS= '50.712251'          / Prism position in mm                           \r\n",
      "BEAMDROT= 'OUT     '           / Beam rotator state                             \r\n",
      "ROTANGLE=           -77.419355 / Rotator angle in degrees                       \r\n",
      "SLITANGL= '-6.862440'          / Slit angle in degrees                          \r\n",
      "SFILT2  = '1 (CLEAR)'          / Slit filter 2 selected                         \r\n",
      "TVFIL1  = '1 (CLEAR)'          / TV filter 1 selected                           \r\n",
      "TVFIL2  = '        '           / TV filter 2 selected                           \r\n",
      "UCAMSHUT= 'SHUT    '           / UHRF Camera shutter state                      \r\n",
      "UHRFCAMR= '        '           / UHRF Camera Resolution selected                \r\n",
      "UHRFECH = 'OUT     '           / UHRF Echelle selected                          \r\n",
      "UFM     = '6E5     '           / UHRF Focal Reducer selected                    \r\n",
      "UHRFHLOW= 'OPEN    '           / UHRF Hartmann lower position                   \r\n",
      "UHRFHUP = 'SHUT    '           / UHRF Hartmann upper position                   \r\n",
      "UHRFXD  = 'MR      '           / UHRF X Disperser selected                      \r\n",
      "SLITMODE= 'SLIT    '           / Slit selected                                  \r\n",
      "SLITSHUT= 'SHUT    '           / Slit shutter state                             \r\n",
      "ECHGAMMA= '-1.174436'          / Echelle gamma in degrees                       \r\n",
      "SLITLONG= '3.494471'           / Slit length in mm                              \r\n",
      "SOURCE  = 'NONE    '           / Which lamp is switched on                      \r\n",
      "TVMIRROR= 'Slit Viewing'       / TV mirror position                             \r\n",
      "SFILT1  = '1 (CLEAR)'          / Slit filter 1 selected                         \r\n",
      "SLITWIDE=             0.974965 / Slit width in mm                               \r\n",
      "FOCALMOD= 'CLEAR   '           / Focal modifier selected                        \r\n",
      "COLFOCUS= '-0.981031'          / Collimator focus position in mm                \r\n",
      "HAEND   =    -24.8446920519603 / HA at end of run                               \r\n",
      "ZDEND   =     21.0661076095138 / ZD at end of run                               \r\n",
      "WINDOXS1=                    1 / First column of window 1                       \r\n",
      "WINDOXE1=                 2048 / Last column of window 1                        \r\n",
      "WINDOYS1=                  676 / First row of window 1                          \r\n",
      "WINDOYE1=                 3421 / Last row of window 1                           \r\n",
      "FIELDXB1=                    2 / Columns/bin in x-binning field 1               \r\n",
      "FIELDXS1=                    1 / First column of x-binning field 1              \r\n",
      "FIELDXE1=                 2048 / Last column of x-binning field 1               \r\n",
      "WINDOXS2=                 2050 / First column of window 2                       \r\n",
      "WINDOXE2=                 2069 / Last column of window 2                        \r\n",
      "WINDOYS2=                  676 / First row of window 2                          \r\n",
      "WINDOYE2=                 3421 / Last row of window 2                           \r\n",
      "FIELDXB2=                    2 / Columns/bin in x-binning field 2               \r\n",
      "FIELDXS2=                 2050 / First column of x-binning field 2              \r\n",
      "FIELDXE2=                 2069 / Last column of x-binning field 2               \r\n",
      "XEFFSIZE=                  27. / Effective X pixel size in microns              \r\n",
      "YEFFSIZE=                 13.5 / Effective Y pixel size in microns              \r\n",
      "FILEORIG= '/data/aatobs/OptDet_data/110418/ccd_2/18apr20052.fits' / The filename\r\n",
      "APSCATTE= 'Scattered light subtracted'                                          \r\n",
      "WCSDIM  =                    2                                                  \r\n",
      "CTYPE1  = 'MULTISPE'                                                            \r\n",
      "CTYPE2  = 'MULTISPE'                                                            \r\n",
      "CDELT1  =                   1.                                                  \r\n",
      "CDELT2  =                   1.                                                  \r\n",
      "CD1_1   =                   1.                                                  \r\n",
      "CD2_2   =                   1.                                                  \r\n",
      "LTM1_1  =                   1.                                                  \r\n",
      "LTM2_2  =                   1.                                                  \r\n",
      "WAT0_001= 'system=multispec'                                                    \r\n",
      "WAT1_001= 'wtype=multispec label=Wavelength units=angstroms'                    \r\n",
      "WAT2_001= 'wtype=multispec spec1 = \"11 78 2 7338.5078087124 -0.040949778386667 '\r\n",
      "WAT2_002= '2746 0. 185.66 197.66 1. 0. 1 5 1. 2746. 7282.91234708959 -56.216484'\r\n",
      "WAT2_003= '3947003 -0.608130816699156 0.0129135590007818 2.16037765569379E-5\"'  \r\n",
      "DCLOG1  = 'REFSPEC1 = a002t'                                                    \r\n",
      "BANDID1 = 'spectrum - background none, weights none, clean no'                  \r\n",
      "WAXMAP01= '1 0 0 0 '                                                            \r\n",
      "END                                                                             \r\n",
      "                                                                                \r\n",
      "                                                                                \r\n",
      "                                                                                \r\n",
      "7338.50780871237  703.5236\r\n",
      "7338.46870555523  721.9175\r\n"
     ]
    }
   ],
   "source": [
    "!head -n 180 AAO_11.txt"
   ]
  },
  {
   "cell_type": "markdown",
   "metadata": {},
   "source": [
    "How do we exclude the first N lines?"
   ]
  },
  {
   "cell_type": "code",
   "execution_count": 44,
   "metadata": {
    "collapsed": false
   },
   "outputs": [
    {
     "name": "stdout",
     "output_type": "stream",
     "text": [
      "174\n"
     ]
    }
   ],
   "source": [
    "with open('AAO_11.txt','r') as fh:\n",
    "    for ii,line in enumerate(fh):\n",
    "        if 'END' in line:\n",
    "            last_header_line_number = ii\n",
    "\n",
    "aao_data = np.genfromtxt('AAO_11.txt', skip_header=last_header_line_number+1)\n",
    "print(last_header_line_number)"
   ]
  },
  {
   "cell_type": "code",
   "execution_count": 48,
   "metadata": {
    "collapsed": false
   },
   "outputs": [
    {
     "ename": "ValueError",
     "evalue": "could not convert string to float: 'blah'",
     "output_type": "error",
     "traceback": [
      "\u001b[0;31m---------------------------------------------------------------------------\u001b[0m",
      "\u001b[0;31mValueError\u001b[0m                                Traceback (most recent call last)",
      "\u001b[0;32m<ipython-input-48-d8f49fd65559>\u001b[0m in \u001b[0;36m<module>\u001b[0;34m()\u001b[0m\n\u001b[1;32m      1\u001b[0m \u001b[0mfloat\u001b[0m\u001b[0;34m(\u001b[0m\u001b[0;34m'nan'\u001b[0m\u001b[0;34m)\u001b[0m \u001b[0;31m# works\u001b[0m\u001b[0;34m\u001b[0m\u001b[0m\n\u001b[1;32m      2\u001b[0m \u001b[0mfloat\u001b[0m\u001b[0;34m(\u001b[0m\u001b[0;34m'1.234'\u001b[0m\u001b[0;34m)\u001b[0m \u001b[0;31m# works\u001b[0m\u001b[0;34m\u001b[0m\u001b[0m\n\u001b[0;32m----> 3\u001b[0;31m \u001b[0mfloat\u001b[0m\u001b[0;34m(\u001b[0m\u001b[0;34m'blah'\u001b[0m\u001b[0;34m)\u001b[0m \u001b[0;31m# fails\u001b[0m\u001b[0;34m\u001b[0m\u001b[0m\n\u001b[0m",
      "\u001b[0;31mValueError\u001b[0m: could not convert string to float: 'blah'"
     ]
    }
   ],
   "source": [
    "float('nan') # works\n",
    "float('1.234') # works\n",
    "float('blah') # fails"
   ]
  },
  {
   "cell_type": "code",
   "execution_count": 46,
   "metadata": {
    "collapsed": false
   },
   "outputs": [
    {
     "name": "stdout",
     "output_type": "stream",
     "text": [
      "could not convert string to float: 'BITPIX'\n",
      "could not convert string to float: 'NAXIS'\n",
      "could not convert string to float: 'NAXIS1'\n",
      "could not convert string to float: 'ORIGIN'\n",
      "could not convert string to float: 'IRAF-MAX='\n",
      "could not convert string to float: 'IRAF-MIN='\n",
      "could not convert string to float: 'IRAF-B/P='\n",
      "could not convert string to float: 'IRAFTYPE='\n",
      "could not convert string to float: 'OBJECT'\n",
      "could not convert string to float: 'FILENAME='\n",
      "could not convert string to float: 'FORMAT'\n",
      "could not convert string to float: 'EXTEND'\n",
      "could not convert string to float: 'ORIGIN'\n",
      "could not convert string to float: 'DATE'\n",
      "could not convert string to float: 'IRAF-TLM='\n",
      "could not convert string to float: 'OBJECT'\n",
      "could not convert string to float: 'COMMENT'\n",
      "could not convert string to float: 'COMMENT'\n",
      "could not convert string to float: 'DCT_DATE='\n",
      "could not convert string to float: 'DCT_VER'\n",
      "could not convert string to float: 'DETECXE'\n",
      "could not convert string to float: 'DETECXS'\n",
      "could not convert string to float: 'DETECYE'\n",
      "could not convert string to float: 'DETECYS'\n",
      "could not convert string to float: 'FIRMVSYS='\n",
      "could not convert string to float: 'FIRMVSEQ='\n",
      "could not convert string to float: 'DETECTOR='\n",
      "could not convert string to float: 'XPIXSIZE='\n",
      "could not convert string to float: 'YPIXSIZE='\n",
      "could not convert string to float: 'CONFIGID='\n",
      "could not convert string to float: 'DETECTID='\n",
      "could not convert string to float: 'ABCKPLID='\n",
      "could not convert string to float: 'VIDPBID'\n",
      "could not convert string to float: 'CLKPBID'\n",
      "could not convert string to float: 'BRDID_1'\n",
      "could not convert string to float: 'BRDSN_1'\n",
      "could not convert string to float: 'BRDID_2'\n",
      "could not convert string to float: 'BRDSN_2'\n",
      "could not convert string to float: 'BRDID_3'\n",
      "could not convert string to float: 'BRDSN_3'\n",
      "could not convert string to float: 'BRDID_4'\n",
      "could not convert string to float: 'BRDSN_4'\n",
      "could not convert string to float: 'BRDID_5'\n",
      "could not convert string to float: 'BRDSN_5'\n",
      "could not convert string to float: 'BRDID_6'\n",
      "could not convert string to float: 'BRDSN_6'\n",
      "could not convert string to float: 'BRDID_7'\n",
      "could not convert string to float: 'BRDSN_7'\n",
      "could not convert string to float: 'METHOD'\n",
      "could not convert string to float: 'SPEED'\n",
      "could not convert string to float: 'READAMP'\n",
      "could not convert string to float: 'EXPOSED'\n",
      "could not convert string to float: 'ELAPSED'\n",
      "could not convert string to float: 'TOTALEXP='\n",
      "could not convert string to float: 'RO_GAIN'\n",
      "could not convert string to float: 'RO_NOISE='\n",
      "could not convert string to float: 'TELESCOP='\n",
      "could not convert string to float: 'ALT_OBS'\n",
      "could not convert string to float: 'LAT_OBS'\n",
      "could not convert string to float: 'LONG_OBS='\n",
      "could not convert string to float: 'RCT_VER'\n",
      "could not convert string to float: 'RCT_DATE='\n",
      "could not convert string to float: 'RUNCMD'\n",
      "could not convert string to float: 'RADECSYS='\n",
      "could not convert string to float: 'EQUINOX'\n",
      "could not convert string to float: 'INSTRUME='\n",
      "could not convert string to float: 'GRATID'\n",
      "could not convert string to float: 'LAMBDAC'\n",
      "could not convert string to float: 'GORDER'\n",
      "could not convert string to float: 'BR_STATE='\n",
      "could not convert string to float: 'TEL_PA'\n",
      "could not convert string to float: 'RUN'\n",
      "could not convert string to float: 'OBSNUM'\n",
      "could not convert string to float: 'GRPNUM'\n",
      "could not convert string to float: 'GRPMEM'\n",
      "could not convert string to float: 'GRPMAX'\n",
      "could not convert string to float: 'OBSTYPE'\n",
      "could not convert string to float: 'UTDATE'\n",
      "could not convert string to float: 'EPOCH'\n",
      "could not convert string to float: 'UTSTART'\n",
      "could not convert string to float: 'UTEND'\n",
      "could not convert string to float: 'STSTART'\n",
      "could not convert string to float: 'STEND'\n",
      "could not convert string to float: 'UTMJD'\n",
      "could not convert string to float: 'TOPEND'\n",
      "could not convert string to float: 'AXIS'\n",
      "could not convert string to float: 'AXIS_X'\n",
      "could not convert string to float: 'AXIS_Y'\n",
      "could not convert string to float: 'TRACKING='\n",
      "could not convert string to float: 'MEANRA'\n",
      "could not convert string to float: 'MEANDEC'\n",
      "could not convert string to float: 'HASTART'\n",
      "could not convert string to float: 'ZDSTART'\n",
      "could not convert string to float: 'APPRA'\n",
      "could not convert string to float: 'APPDEC'\n",
      "could not convert string to float: 'WINDOW'\n",
      "could not convert string to float: 'CPIXEL_S='\n",
      "could not convert string to float: 'CSLIT_PR='\n",
      "could not convert string to float: 'DPIXEL_S='\n",
      "could not convert string to float: 'DSLIT_PR='\n",
      "could not convert string to float: 'ECHGAMMO='\n",
      "could not convert string to float: 'ECHTHETO='\n",
      "could not convert string to float: 'FM_FACTO='\n",
      "could not convert string to float: 'PLATE_SC='\n",
      "could not convert string to float: 'SLITANGO='\n",
      "could not convert string to float: 'CAMSHUT'\n",
      "could not convert string to float: 'COLLIMAT='\n",
      "could not convert string to float: 'ECHELLE'\n",
      "could not convert string to float: 'ECHTHETA='\n",
      "could not convert string to float: 'HARTMANN='\n",
      "could not convert string to float: 'HARTPOS'\n",
      "could not convert string to float: 'LFILT1'\n",
      "could not convert string to float: 'LFILT2'\n",
      "could not convert string to float: 'PRISMPOS='\n",
      "could not convert string to float: 'BEAMDROT='\n",
      "could not convert string to float: 'ROTANGLE='\n",
      "could not convert string to float: 'SLITANGL='\n",
      "could not convert string to float: 'SFILT2'\n",
      "could not convert string to float: 'TVFIL1'\n",
      "could not convert string to float: 'TVFIL2'\n",
      "could not convert string to float: 'UCAMSHUT='\n",
      "could not convert string to float: 'UHRFCAMR='\n",
      "could not convert string to float: 'UHRFECH'\n",
      "could not convert string to float: 'UFM'\n",
      "could not convert string to float: 'UHRFHLOW='\n",
      "could not convert string to float: 'UHRFHUP'\n",
      "could not convert string to float: 'UHRFXD'\n",
      "could not convert string to float: 'SLITMODE='\n",
      "could not convert string to float: 'SLITSHUT='\n",
      "could not convert string to float: 'ECHGAMMA='\n",
      "could not convert string to float: 'SLITLONG='\n",
      "could not convert string to float: 'SOURCE'\n",
      "could not convert string to float: 'TVMIRROR='\n",
      "could not convert string to float: 'SFILT1'\n",
      "could not convert string to float: 'SLITWIDE='\n",
      "could not convert string to float: 'FOCALMOD='\n",
      "could not convert string to float: 'COLFOCUS='\n",
      "could not convert string to float: 'HAEND'\n",
      "could not convert string to float: 'ZDEND'\n",
      "could not convert string to float: 'WINDOXS1='\n",
      "could not convert string to float: 'WINDOXE1='\n",
      "could not convert string to float: 'WINDOYS1='\n",
      "could not convert string to float: 'WINDOYE1='\n",
      "could not convert string to float: 'FIELDXB1='\n",
      "could not convert string to float: 'FIELDXS1='\n",
      "could not convert string to float: 'FIELDXE1='\n",
      "could not convert string to float: 'WINDOXS2='\n",
      "could not convert string to float: 'WINDOXE2='\n",
      "could not convert string to float: 'WINDOYS2='\n",
      "could not convert string to float: 'WINDOYE2='\n",
      "could not convert string to float: 'FIELDXB2='\n",
      "could not convert string to float: 'FIELDXS2='\n",
      "could not convert string to float: 'FIELDXE2='\n",
      "could not convert string to float: 'XEFFSIZE='\n",
      "could not convert string to float: 'YEFFSIZE='\n",
      "could not convert string to float: 'FILEORIG='\n",
      "could not convert string to float: 'APSCATTE='\n",
      "could not convert string to float: 'WCSDIM'\n",
      "could not convert string to float: 'CTYPE1'\n",
      "could not convert string to float: 'CTYPE2'\n",
      "could not convert string to float: 'CDELT1'\n",
      "could not convert string to float: 'CDELT2'\n",
      "could not convert string to float: 'CD1_1'\n",
      "could not convert string to float: 'CD2_2'\n",
      "could not convert string to float: 'LTM1_1'\n",
      "could not convert string to float: 'LTM2_2'\n",
      "could not convert string to float: 'WAT0_001='\n",
      "could not convert string to float: 'WAT1_001='\n",
      "could not convert string to float: 'WAT2_001='\n",
      "could not convert string to float: 'WAT2_002='\n",
      "could not convert string to float: 'WAT2_003='\n",
      "could not convert string to float: 'DCLOG1'\n",
      "could not convert string to float: 'BANDID1'\n",
      "could not convert string to float: 'WAXMAP01='\n",
      "could not convert string to float: 'END'\n",
      "list index out of range\n",
      "list index out of range\n",
      "list index out of range\n",
      "178\n"
     ]
    }
   ],
   "source": [
    "with open('AAO_11.txt','r') as fh:\n",
    "    for ii,line in enumerate(fh):\n",
    "        try:\n",
    "            float(line.split()[0])\n",
    "            break\n",
    "        except (ValueError, IndexError) as ex:\n",
    "            print(ex)\n",
    "            continue\n",
    "last_header_line_number = ii\n",
    "print(last_header_line_number)\n"
   ]
  },
  {
   "cell_type": "code",
   "execution_count": 37,
   "metadata": {
    "collapsed": false
   },
   "outputs": [
    {
     "name": "stdout",
     "output_type": "stream",
     "text": [
      "0 a\n",
      "1 b\n",
      "2 c\n"
     ]
    }
   ],
   "source": [
    "ll = ['a','b','c']\n",
    "for ii,x in enumerate(ll):\n",
    "    print(ii, x)"
   ]
  },
  {
   "cell_type": "code",
   "execution_count": 35,
   "metadata": {
    "collapsed": false
   },
   "outputs": [
    {
     "data": {
      "text/plain": [
       "array([[ 7338.50780871,   703.5236    ],\n",
       "       [ 7338.46870556,   721.9175    ],\n",
       "       [ 7338.42960094,   757.0006    ],\n",
       "       ..., \n",
       "       [ 7226.18595796,   914.5856    ],\n",
       "       [ 7226.14331306,  1079.059     ],\n",
       "       [ 7226.10066704,   928.7758    ]])"
      ]
     },
     "execution_count": 35,
     "metadata": {},
     "output_type": "execute_result"
    }
   ],
   "source": [
    "aao_data"
   ]
  },
  {
   "cell_type": "code",
   "execution_count": 53,
   "metadata": {
    "collapsed": false
   },
   "outputs": [
    {
     "data": {
      "text/plain": [
       "(array([False, False, False,  True], dtype=bool),\n",
       " array([False, False,  True, False], dtype=bool),\n",
       " False)"
      ]
     },
     "execution_count": 53,
     "metadata": {},
     "output_type": "execute_result"
    }
   ],
   "source": [
    "# inf vs nan\n",
    "np.inf, -np.inf, np.nan\n",
    "(np.isfinite([np.inf, -np.inf, np.nan, 0]),\n",
    " np.isnan([np.inf, -np.inf, np.nan, 0]),\n",
    " np.nan == np.nan)"
   ]
  },
  {
   "cell_type": "code",
   "execution_count": 55,
   "metadata": {
    "collapsed": false
   },
   "outputs": [
    {
     "data": {
      "text/plain": [
       "(None, False, False)"
      ]
     },
     "execution_count": 55,
     "metadata": {},
     "output_type": "execute_result"
    }
   ],
   "source": [
    "None, bool(None), None == np.nan"
   ]
  },
  {
   "cell_type": "code",
   "execution_count": 59,
   "metadata": {
    "collapsed": false
   },
   "outputs": [
    {
     "data": {
      "text/plain": [
       "True"
      ]
     },
     "execution_count": 59,
     "metadata": {},
     "output_type": "execute_result"
    }
   ],
   "source": [
    "def f():\n",
    "    pass\n",
    "f() is None # preferred\n",
    "f() == None # can result in problems in some situations"
   ]
  },
  {
   "cell_type": "markdown",
   "metadata": {},
   "source": [
    "# Reading FITS files #"
   ]
  },
  {
   "cell_type": "code",
   "execution_count": 40,
   "metadata": {
    "collapsed": false
   },
   "outputs": [
    {
     "name": "stderr",
     "output_type": "stream",
     "text": [
      "  % Total    % Received % Xferd  Average Speed   Time    Time     Time  Current\n",
      "                                 Dload  Upload   Total   Spent    Left  Speed\n",
      "\r",
      "  0     0    0     0    0     0      0      0 --:--:-- --:--:-- --:--:--     0\r",
      "  0     0    0     0    0     0      0      0 --:--:-- --:--:-- --:--:--     0\r",
      "100 40320  100 40320    0     0  51021      0 --:--:-- --:--:-- --:--:-- 50973\n"
     ]
    }
   ],
   "source": [
    "%%bash\n",
    "curl -O https://raw.githubusercontent.com/astropy/specutils/master/specutils/io/tests/files/gbt_1d.fits"
   ]
  },
  {
   "cell_type": "markdown",
   "metadata": {},
   "source": [
    "FITs files can be read...."
   ]
  },
  {
   "cell_type": "code",
   "execution_count": 41,
   "metadata": {
    "collapsed": true
   },
   "outputs": [],
   "source": [
    "from astropy.io import fits\n",
    "from astropy.wcs import WCS"
   ]
  },
  {
   "cell_type": "code",
   "execution_count": 42,
   "metadata": {
    "collapsed": false
   },
   "outputs": [
    {
     "data": {
      "text/plain": [
       "[<astropy.io.fits.hdu.image.PrimaryHDU at 0x11263edd8>]"
      ]
     },
     "execution_count": 42,
     "metadata": {},
     "output_type": "execute_result"
    }
   ],
   "source": [
    "fh = fits.open('gbt_1d.fits')\n",
    "fh"
   ]
  },
  {
   "cell_type": "code",
   "execution_count": 43,
   "metadata": {
    "collapsed": false
   },
   "outputs": [],
   "source": [
    "data_hdu = fh[0]"
   ]
  },
  {
   "cell_type": "code",
   "execution_count": 44,
   "metadata": {
    "collapsed": false,
    "scrolled": true
   },
   "outputs": [
    {
     "name": "stderr",
     "output_type": "stream",
     "text": [
      "WARNING: VerifyWarning: Verification reported errors: [astropy.io.fits.verify]\n",
      "WARNING:astropy:VerifyWarning: Verification reported errors:\n",
      "WARNING: VerifyWarning: Card 'RESTFRQ' is not FITS standard (invalid value string: '1.4488479e+10').  Fixed 'RESTFRQ' card to meet the FITS standard. [astropy.io.fits.verify]\n",
      "WARNING:astropy:VerifyWarning: Card 'RESTFRQ' is not FITS standard (invalid value string: '1.4488479e+10').  Fixed 'RESTFRQ' card to meet the FITS standard.\n",
      "WARNING: VerifyWarning: Note: PyFITS uses zero-based indexing.\n",
      " [astropy.io.fits.verify]\n",
      "WARNING:astropy:VerifyWarning: Note: PyFITS uses zero-based indexing.\n",
      "\n",
      "WARNING: VerifyWarning: Card 'CRVAL1F' is not FITS standard (invalid value string: '1.4488303e+10').  Fixed 'CRVAL1F' card to meet the FITS standard. [astropy.io.fits.verify]\n",
      "WARNING:astropy:VerifyWarning: Card 'CRVAL1F' is not FITS standard (invalid value string: '1.4488303e+10').  Fixed 'CRVAL1F' card to meet the FITS standard.\n",
      "WARNING: VerifyWarning: Card 'RESTFRQF' is not FITS standard (invalid value string: '1.4488479e+10').  Fixed 'RESTFRQF' card to meet the FITS standard. [astropy.io.fits.verify]\n",
      "WARNING:astropy:VerifyWarning: Card 'RESTFRQF' is not FITS standard (invalid value string: '1.4488479e+10').  Fixed 'RESTFRQF' card to meet the FITS standard.\n",
      "WARNING: VerifyWarning: Card 'RESTFRQV' is not FITS standard (invalid value string: '1.4488479e+10').  Fixed 'RESTFRQV' card to meet the FITS standard. [astropy.io.fits.verify]\n",
      "WARNING:astropy:VerifyWarning: Card 'RESTFRQV' is not FITS standard (invalid value string: '1.4488479e+10').  Fixed 'RESTFRQV' card to meet the FITS standard.\n",
      "WARNING: VerifyWarning: Card 'RESTFRQT' is not FITS standard (invalid value string: '1.4488479e+10').  Fixed 'RESTFRQT' card to meet the FITS standard. [astropy.io.fits.verify]\n",
      "WARNING:astropy:VerifyWarning: Card 'RESTFRQT' is not FITS standard (invalid value string: '1.4488479e+10').  Fixed 'RESTFRQT' card to meet the FITS standard.\n",
      "WARNING: VerifyWarning: Card 'ZSOURCE' is not FITS standard (invalid value string: '2.6151426e-05').  Fixed 'ZSOURCE' card to meet the FITS standard. [astropy.io.fits.verify]\n",
      "WARNING:astropy:VerifyWarning: Card 'ZSOURCE' is not FITS standard (invalid value string: '2.6151426e-05').  Fixed 'ZSOURCE' card to meet the FITS standard.\n"
     ]
    },
    {
     "data": {
      "text/plain": [
       "SIMPLE  =                    T / Written by IDL:  Fri Aug 19 18:36:44 2011      \n",
       "BITPIX  = -64                                                                   \n",
       "NAXIS   =                    1 / number of array dimensions                     \n",
       "NAXIS1  =                 4096                                                  \n",
       "CDELT1  =   -0.25258831                                                         \n",
       "CRPIX1  =   2049.0000                                                           \n",
       "CRVAL1  =   7.5845751                                                           \n",
       "CTYPE1  =  'VRAD'                                                               \n",
       "CUNIT1  =  'km/s    '                                                           \n",
       "SPECSYS =  'LSRK'                                                               \n",
       "RESTFRQ =        1.4488479E+10                                                  \n",
       "VELOSYS =   -3940.7291                                                          \n",
       "CDELT1F =   12207.031                                                           \n",
       "CRPIX1F =   2049.0000                                                           \n",
       "CRVAL1F =        1.4488303E+10                                                  \n",
       "CTYPE1F =  'FREQ'                                                               \n",
       "CUNIT1F =  'Hz'                                                                 \n",
       "SPECSYSF=  'LSRK'                                                               \n",
       "RESTFRQF=        1.4488479E+10                                                  \n",
       "VELOSYSF=   -3940.7291                                                          \n",
       "CDELT1V =   -0.25258524                                                         \n",
       "CRPIX1V =   2063.4260                                                           \n",
       "CRVAL1V =   3.9407291                                                           \n",
       "CTYPE1V =  'VRAD'                                                               \n",
       "CUNIT1V =  'km/s'                                                               \n",
       "SPECSYSV=  'LSRK'                                                               \n",
       "RESTFRQV=        1.4488479E+10                                                  \n",
       "VELOSYSV=   -3940.7291                                                          \n",
       "CDELT1T =   -0.25258524                                                         \n",
       "CRPIX1T =   2063.4260                                                           \n",
       "CRVAL1T =   0                                                                   \n",
       "CTYPE1T =  'VRAD'                                                               \n",
       "CUNIT1T =  'km/s'                                                               \n",
       "SPECSYST=  'TOPO'                                                               \n",
       "RESTFRQT=        1.4488479E+10                                                  \n",
       "VELOSYST=   -3940.7291                                                          \n",
       "VDEF    =  'RADI-LSR'                                                           \n",
       "SRCVEL  =   7.8400000                                                           \n",
       "ZSOURCE =        2.6151426E-05                                                  \n",
       "BUNIT   =  'K'                                                                  \n",
       "OBJECT  =  'G43.17+0.01'                                                        \n",
       "TELESCOP=  'GBT'                                                                \n",
       "TSYS    =   28.0243                                                             \n",
       "TSYSFD0 =   27.6077                                                             \n",
       "TSYSFD1 =   28.4602                                                             \n",
       "TATM    =   275 / assumed                                                       \n",
       "TREC    =   20.1375 / assumed                                                   \n",
       "ELEV    =   58.294203                                                           \n",
       "AIRMASS =   1.1754225                                                           \n",
       "TAU     =   0.0236965                                                           \n",
       "TAUCOR  =   1.0282450                                                           \n",
       "LINE    =   'h2co'                                                              \n",
       "FREQ    =   14.488303                                                           \n",
       "TARGLON =   287.55837                                                           \n",
       "TARGLAT =   9.1044256                                                           \n",
       "MJD-AVG =   55425.080                                                           \n",
       "CONTINUU=   27.6056                                                             \n",
       "CONTERR =   0.0598740                                                           \n",
       "CONTFD0 =   26.151077                                                           \n",
       "CONTFD1 =   29.155884                                                           \n",
       "SMTHOFF =   16                                                                  \n",
       "ETAMB   =  0.88607179                                                           "
      ]
     },
     "execution_count": 44,
     "metadata": {},
     "output_type": "execute_result"
    }
   ],
   "source": [
    "data_hdu.header"
   ]
  },
  {
   "cell_type": "code",
   "execution_count": 45,
   "metadata": {
    "collapsed": false
   },
   "outputs": [
    {
     "data": {
      "text/plain": [
       "(4096,)"
      ]
     },
     "execution_count": 45,
     "metadata": {},
     "output_type": "execute_result"
    }
   ],
   "source": [
    "data_hdu.data.shape"
   ]
  },
  {
   "cell_type": "code",
   "execution_count": 46,
   "metadata": {
    "collapsed": false
   },
   "outputs": [
    {
     "data": {
      "text/plain": [
       "[<matplotlib.lines.Line2D at 0x10bc24358>]"
      ]
     },
     "execution_count": 46,
     "metadata": {},
     "output_type": "execute_result"
    },
    {
     "data": {
      "image/png": "[encoded data removed]",
      "text/plain": [
       "<matplotlib.figure.Figure at 0x111748ef0>"
      ]
     },
     "metadata": {},
     "output_type": "display_data"
    }
   ],
   "source": [
    "pl.plot(data_hdu.data)"
   ]
  },
  {
   "cell_type": "markdown",
   "metadata": {},
   "source": [
    "Generate the x axis:"
   ]
  },
  {
   "cell_type": "code",
   "execution_count": 47,
   "metadata": {
    "collapsed": true
   },
   "outputs": [],
   "source": [
    "hdr = data_hdu.header"
   ]
  },
  {
   "cell_type": "code",
   "execution_count": 48,
   "metadata": {
    "collapsed": false
   },
   "outputs": [],
   "source": [
    "xarr = (np.arange(hdr['NAXIS1']) - hdr['CRPIX1'] + 1) * hdr['CDELT1'] + hdr['CRVAL1'] "
   ]
  },
  {
   "cell_type": "code",
   "execution_count": 49,
   "metadata": {
    "collapsed": false
   },
   "outputs": [
    {
     "data": {
      "text/plain": [
       "[<matplotlib.lines.Line2D at 0x110ac6630>]"
      ]
     },
     "execution_count": 49,
     "metadata": {},
     "output_type": "execute_result"
    },
    {
     "data": {
      "image/png": "[encoded data removed]",
      "text/plain": [
       "<matplotlib.figure.Figure at 0x11181c2b0>"
      ]
     },
     "metadata": {},
     "output_type": "display_data"
    }
   ],
   "source": [
    "pl.plot(xarr, data_hdu.data)"
   ]
  },
  {
   "cell_type": "code",
   "execution_count": 50,
   "metadata": {
    "collapsed": false
   },
   "outputs": [],
   "source": [
    "from astropy import units as u\n",
    "xarr_u = xarr*u.Unit(hdr['CUNIT1'])"
   ]
  },
  {
   "cell_type": "code",
   "execution_count": 51,
   "metadata": {
    "collapsed": false
   },
   "outputs": [
    {
     "data": {
      "text/latex": [
       "$[524.88543,~524.63285,~524.38026,~\\dots, -508.95852,~-509.21111,~-509.4637] \\; \\mathrm{\\frac{km}{s}}$"
      ],
      "text/plain": [
       "<Quantity [ 524.88543398, 524.63284567, 524.38025736,..., -508.95851885,\n",
       "           -509.21110716,-509.46369547] km / s>"
      ]
     },
     "execution_count": 51,
     "metadata": {},
     "output_type": "execute_result"
    }
   ],
   "source": [
    "xarr_u"
   ]
  },
  {
   "cell_type": "code",
   "execution_count": 52,
   "metadata": {
    "collapsed": false
   },
   "outputs": [
    {
     "data": {
      "text/plain": [
       "'$\\\\mathrm{\\\\frac{km}{s}}$'"
      ]
     },
     "execution_count": 52,
     "metadata": {},
     "output_type": "execute_result"
    }
   ],
   "source": [
    "xarr_u.unit.to_string(format='latex')"
   ]
  },
  {
   "cell_type": "code",
   "execution_count": 53,
   "metadata": {
    "collapsed": false
   },
   "outputs": [
    {
     "data": {
      "text/plain": [
       "<matplotlib.text.Text at 0x1107c7470>"
      ]
     },
     "execution_count": 53,
     "metadata": {},
     "output_type": "execute_result"
    },
    {
     "data": {
      "image/png": "[encoded data removed]",
      "text/plain": [
       "<matplotlib.figure.Figure at 0x110a96c18>"
      ]
     },
     "metadata": {},
     "output_type": "display_data"
    }
   ],
   "source": [
    "pl.plot(xarr_u, data_hdu.data)\n",
    "pl.xlabel(xarr_u.unit.to_string(format='latex'), fontsize=40)\n",
    "pl.ylabel(u.Unit(hdr['BUNIT']).to_string(format='latex'), fontsize=40)"
   ]
  },
  {
   "cell_type": "code",
   "execution_count": 54,
   "metadata": {
    "collapsed": false
   },
   "outputs": [
    {
     "data": {
      "text/plain": [
       "<matplotlib.text.Text at 0x11401bd30>"
      ]
     },
     "execution_count": 54,
     "metadata": {},
     "output_type": "execute_result"
    },
    {
     "data": {
      "image/png": "[encoded data removed]",
      "text/plain": [
       "<matplotlib.figure.Figure at 0x11400c5f8>"
      ]
     },
     "metadata": {},
     "output_type": "display_data"
    }
   ],
   "source": [
    "pl.plot(xarr_u, data_hdu.data)\n",
    "pl.xlabel(xarr_u.unit.to_string(format='latex_inline'), fontsize=40)\n",
    "pl.ylabel(u.Unit(hdr['BUNIT']).to_string(format='latex'), fontsize=40)"
   ]
  },
  {
   "cell_type": "code",
   "execution_count": 55,
   "metadata": {
    "collapsed": false
   },
   "outputs": [
    {
     "data": {
      "text/plain": [
       "WCS Keywords\n",
       "\n",
       "Number of WCS axes: 1\n",
       "CTYPE : 'VRAD'  \n",
       "CRVAL : 7584.5751  \n",
       "CRPIX : 2049.0  \n",
       "PC1_1  : 1.0  \n",
       "CDELT : -252.58830999999998  \n",
       "NAXIS    : 4096 0"
      ]
     },
     "execution_count": 55,
     "metadata": {},
     "output_type": "execute_result"
    }
   ],
   "source": [
    "mywcs = WCS(hdr)\n",
    "mywcs"
   ]
  },
  {
   "cell_type": "code",
   "execution_count": 56,
   "metadata": {
    "collapsed": false
   },
   "outputs": [],
   "source": [
    "xarr_again = mywcs.wcs_pix2world(np.arange(hdr['NAXIS1']), 0) * u.Unit(mywcs.wcs.cunit[0])"
   ]
  },
  {
   "cell_type": "code",
   "execution_count": 57,
   "metadata": {
    "collapsed": false
   },
   "outputs": [
    {
     "data": {
      "text/latex": [
       "$[524.88543,~524.63285,~524.38026,~\\dots, -508.95852,~-509.21111,~-509.4637] \\; \\mathrm{\\frac{km}{s}}$"
      ],
      "text/plain": [
       "<Quantity [ 524.88543398, 524.63284567, 524.38025736,..., -508.95851885,\n",
       "           -509.21110716,-509.46369547] km / s>"
      ]
     },
     "execution_count": 57,
     "metadata": {},
     "output_type": "execute_result"
    }
   ],
   "source": [
    "xarr_u"
   ]
  },
  {
   "cell_type": "code",
   "execution_count": 58,
   "metadata": {
    "collapsed": false
   },
   "outputs": [
    {
     "data": {
      "text/latex": [
       "$[[524885.43,~524632.85,~524380.26,~\\dots, -508958.52,~-509211.11,~-509463.7]] \\; \\mathrm{\\frac{m}{s}}$"
      ],
      "text/plain": [
       "<Quantity [[ 524885.43398, 524632.84567, 524380.25736,..., -508958.51885,\n",
       "            -509211.10716,-509463.69547]] m / s>"
      ]
     },
     "execution_count": 58,
     "metadata": {},
     "output_type": "execute_result"
    }
   ],
   "source": [
    "xarr_again"
   ]
  },
  {
   "cell_type": "code",
   "execution_count": 59,
   "metadata": {
    "collapsed": false
   },
   "outputs": [
    {
     "data": {
      "text/plain": [
       "array([[ True,  True,  True, ...,  True,  True,  True]], dtype=bool)"
      ]
     },
     "execution_count": 59,
     "metadata": {},
     "output_type": "execute_result"
    }
   ],
   "source": [
    "np.isclose(xarr_again, xarr_u, atol=0)"
   ]
  },
  {
   "cell_type": "code",
   "execution_count": 60,
   "metadata": {
    "collapsed": false
   },
   "outputs": [
    {
     "name": "stderr",
     "output_type": "stream",
     "text": [
      "WARNING: AstropyDeprecationWarning: astropy.utils.compat.odict.OrderedDict is now deprecated - import OrderedDict from the collections module instead [astropy.utils.compat.odict]\n",
      "WARNING:astropy:AstropyDeprecationWarning: astropy.utils.compat.odict.OrderedDict is now deprecated - import OrderedDict from the collections module instead\n"
     ]
    }
   ],
   "source": [
    "from specutils.io import fits"
   ]
  },
  {
   "cell_type": "code",
   "execution_count": 61,
   "metadata": {
    "collapsed": true
   },
   "outputs": [],
   "source": [
    "spec = fits.read_fits_spectrum1d('gbt_1d.fits')"
   ]
  },
  {
   "cell_type": "code",
   "execution_count": 62,
   "metadata": {
    "collapsed": false
   },
   "outputs": [
    {
     "data": {
      "text/plain": [
       "('0.2.dev596', '1.2.dev14793', '1.10.4')"
      ]
     },
     "execution_count": 62,
     "metadata": {},
     "output_type": "execute_result"
    }
   ],
   "source": [
    "import specutils\n",
    "import numpy\n",
    "import astropy\n",
    "specutils.__version__, astropy.__version__, numpy.__version__"
   ]
  },
  {
   "cell_type": "code",
   "execution_count": 63,
   "metadata": {
    "collapsed": false
   },
   "outputs": [
    {
     "data": {
      "text/latex": [
       "$[524.88543,~524.63285,~524.38026,~\\dots, -508.95852,~-509.21111,~-509.4637] \\; \\mathrm{\\frac{km}{s}}$"
      ],
      "text/plain": [
       "<Quantity [ 524.88543398, 524.63284567, 524.38025736,..., -508.95851885,\n",
       "           -509.21110716,-509.46369547] km / s>"
      ]
     },
     "execution_count": 63,
     "metadata": {},
     "output_type": "execute_result"
    }
   ],
   "source": [
    "spec.velocity"
   ]
  },
  {
   "cell_type": "code",
   "execution_count": 64,
   "metadata": {
    "collapsed": false
   },
   "outputs": [
    {
     "data": {
      "text/plain": [
       "<matplotlib.text.Text at 0x11462ada0>"
      ]
     },
     "execution_count": 64,
     "metadata": {},
     "output_type": "execute_result"
    },
    {
     "data": {
      "image/png": "[encoded data removed]",
      "text/plain": [
       "<matplotlib.figure.Figure at 0x1134aa0f0>"
      ]
     },
     "metadata": {},
     "output_type": "display_data"
    }
   ],
   "source": [
    "pl.plot(spec.velocity, spec.flux)\n",
    "pl.xlabel(spec.velocity.unit.to_string(format='latex_inline'), fontsize=40)\n",
    "pl.ylabel(spec.flux.unit.to_string(format='latex'), fontsize=40)"
   ]
  },
  {
   "cell_type": "code",
   "execution_count": 65,
   "metadata": {
    "collapsed": true
   },
   "outputs": [],
   "source": [
    "# you'll need to ``pip install pyspeckit`` to get access to this\n",
    "import pyspeckit"
   ]
  },
  {
   "cell_type": "code",
   "execution_count": 66,
   "metadata": {
    "collapsed": true
   },
   "outputs": [],
   "source": [
    "sp = pyspeckit.Spectrum('gbt_1d.fits')"
   ]
  },
  {
   "cell_type": "code",
   "execution_count": 67,
   "metadata": {
    "collapsed": false
   },
   "outputs": [
    {
     "data": {
      "image/png": "[encoded data removed]",
      "text/plain": [
       "<matplotlib.figure.Figure at 0x116985160>"
      ]
     },
     "metadata": {},
     "output_type": "display_data"
    }
   ],
   "source": [
    "sp.plotter()"
   ]
  },
  {
   "cell_type": "markdown",
   "metadata": {},
   "source": [
    "# Interpolation # \n",
    "\n",
    "Functions for interpolation:\n",
    "\n",
    "  * `np.interp1d`\n",
    "  * `scipy.interpolate`\n",
    "  * `pyspeckit.interpolation`"
   ]
  },
  {
   "cell_type": "markdown",
   "metadata": {},
   "source": [
    "# Convolution #"
   ]
  },
  {
   "cell_type": "markdown",
   "metadata": {},
   "source": [
    " * `np.convolve`\n",
    " * `scipy.ndimage.convolve`\n",
    " * `astropy.convolution`\n",
    " * `pyspeckit.smooth`"
   ]
  },
  {
   "cell_type": "markdown",
   "metadata": {},
   "source": [
    "# Exercises #\n",
    "\n",
    "1. Load the ``gbt_1d.fits`` spectrum and plot it\n",
    "\n",
    "2. Interpolate the spectrum onto a new finer grid from -50 to 50 km/s with 1000 channels\n",
    "\n",
    "3. Smooth the spectrum by 8 km/s, then interpolate it onto a coarser grid from -400 to 400 km/s with 200 channels"
   ]
  },
  {
   "cell_type": "code",
   "execution_count": 1,
   "metadata": {
    "collapsed": true
   },
   "outputs": [],
   "source": [
    "import specutils\n",
    "from specutils.io import fits"
   ]
  },
  {
   "cell_type": "code",
   "execution_count": 60,
   "metadata": {
    "collapsed": true
   },
   "outputs": [],
   "source": [
    "spec = fits.read_fits_spectrum1d('gbt_1d.fits')"
   ]
  },
  {
   "cell_type": "code",
   "execution_count": 61,
   "metadata": {
    "collapsed": false
   },
   "outputs": [
    {
     "data": {
      "text/latex": [
       "$[-0.50829212,~-0.49870891,~-0.52269076,~\\dots, -3.8145078,~-3.8554833,~-3.9074813] \\; \\mathrm{}$"
      ],
      "text/plain": [
       "<Quantity [-0.50829212,-0.49870891,-0.52269076,..., -3.81450779,\n",
       "           -3.85548328,-3.90748133]>"
      ]
     },
     "execution_count": 61,
     "metadata": {},
     "output_type": "execute_result"
    }
   ],
   "source": [
    "spec.flux"
   ]
  },
  {
   "cell_type": "code",
   "execution_count": 62,
   "metadata": {
    "collapsed": false
   },
   "outputs": [
    {
     "data": {
      "text/latex": [
       "$[524.88543,~524.63285,~524.38026,~\\dots, -508.95852,~-509.21111,~-509.4637] \\; \\mathrm{\\frac{km}{s}}$"
      ],
      "text/plain": [
       "<Quantity [ 524.88543398, 524.63284567, 524.38025736,..., -508.95851885,\n",
       "           -509.21110716,-509.46369547] km / s>"
      ]
     },
     "execution_count": 62,
     "metadata": {},
     "output_type": "execute_result"
    }
   ],
   "source": [
    "spec.velocity"
   ]
  },
  {
   "cell_type": "code",
   "execution_count": 6,
   "metadata": {
    "collapsed": true
   },
   "outputs": [],
   "source": [
    "from astropy import units as u"
   ]
  },
  {
   "cell_type": "code",
   "execution_count": 63,
   "metadata": {
    "collapsed": false
   },
   "outputs": [],
   "source": [
    "new_xarr = np.linspace(-50, 50, 1000)*u.km/u.s"
   ]
  },
  {
   "cell_type": "code",
   "execution_count": 66,
   "metadata": {
    "collapsed": false
   },
   "outputs": [
    {
     "data": {
      "text/latex": [
       "$[-50,~-49.8999,~-49.7998,~\\dots, 49.7998,~49.8999,~50] \\; \\mathrm{\\frac{km}{s}}$"
      ],
      "text/plain": [
       "<Quantity [-50.        ,-49.8998999 ,-49.7997998 ,-49.6996997 ,\n",
       "           -49.5995996 ,-49.4994995 ,-49.3993994 ,-49.2992993 ,\n",
       "           -49.1991992 ,-49.0990991 ,-48.998999  ,-48.8988989 ,\n",
       "           -48.7987988 ,-48.6986987 ,-48.5985986 ,-48.4984985 ,\n",
       "           -48.3983984 ,-48.2982983 ,-48.1981982 ,-48.0980981 ,\n",
       "           -47.997998  ,-47.8978979 ,-47.7977978 ,-47.6976977 ,\n",
       "           -47.5975976 ,-47.4974975 ,-47.3973974 ,-47.2972973 ,\n",
       "           -47.1971972 ,-47.0970971 ,-46.996997  ,-46.8968969 ,\n",
       "           -46.7967968 ,-46.6966967 ,-46.5965966 ,-46.4964965 ,\n",
       "           -46.3963964 ,-46.2962963 ,-46.1961962 ,-46.0960961 ,\n",
       "           -45.995996  ,-45.8958959 ,-45.7957958 ,-45.6956957 ,\n",
       "           -45.5955956 ,-45.4954955 ,-45.3953954 ,-45.2952953 ,\n",
       "           -45.1951952 ,-45.0950951 ,-44.99499499,-44.89489489,\n",
       "           -44.79479479,-44.69469469,-44.59459459,-44.49449449,\n",
       "           -44.39439439,-44.29429429,-44.19419419,-44.09409409,\n",
       "           -43.99399399,-43.89389389,-43.79379379,-43.69369369,\n",
       "           -43.59359359,-43.49349349,-43.39339339,-43.29329329,\n",
       "           -43.19319319,-43.09309309,-42.99299299,-42.89289289,\n",
       "           -42.79279279,-42.69269269,-42.59259259,-42.49249249,\n",
       "           -42.39239239,-42.29229229,-42.19219219,-42.09209209,\n",
       "           -41.99199199,-41.89189189,-41.79179179,-41.69169169,\n",
       "           -41.59159159,-41.49149149,-41.39139139,-41.29129129,\n",
       "           -41.19119119,-41.09109109,-40.99099099,-40.89089089,\n",
       "           -40.79079079,-40.69069069,-40.59059059,-40.49049049,\n",
       "           -40.39039039,-40.29029029,-40.19019019,-40.09009009,\n",
       "           -39.98998999,-39.88988989,-39.78978979,-39.68968969,\n",
       "           -39.58958959,-39.48948949,-39.38938939,-39.28928929,\n",
       "           -39.18918919,-39.08908909,-38.98898899,-38.88888889,\n",
       "           -38.78878879,-38.68868869,-38.58858859,-38.48848849,\n",
       "           -38.38838839,-38.28828829,-38.18818819,-38.08808809,\n",
       "           -37.98798799,-37.88788789,-37.78778779,-37.68768769,\n",
       "           -37.58758759,-37.48748749,-37.38738739,-37.28728729,\n",
       "           -37.18718719,-37.08708709,-36.98698699,-36.88688689,\n",
       "           -36.78678679,-36.68668669,-36.58658659,-36.48648649,\n",
       "           -36.38638639,-36.28628629,-36.18618619,-36.08608609,\n",
       "           -35.98598599,-35.88588589,-35.78578579,-35.68568569,\n",
       "           -35.58558559,-35.48548549,-35.38538539,-35.28528529,\n",
       "           -35.18518519,-35.08508509,-34.98498498,-34.88488488,\n",
       "           -34.78478478,-34.68468468,-34.58458458,-34.48448448,\n",
       "           -34.38438438,-34.28428428,-34.18418418,-34.08408408,\n",
       "           -33.98398398,-33.88388388,-33.78378378,-33.68368368,\n",
       "           -33.58358358,-33.48348348,-33.38338338,-33.28328328,\n",
       "           -33.18318318,-33.08308308,-32.98298298,-32.88288288,\n",
       "           -32.78278278,-32.68268268,-32.58258258,-32.48248248,\n",
       "           -32.38238238,-32.28228228,-32.18218218,-32.08208208,\n",
       "           -31.98198198,-31.88188188,-31.78178178,-31.68168168,\n",
       "           -31.58158158,-31.48148148,-31.38138138,-31.28128128,\n",
       "           -31.18118118,-31.08108108,-30.98098098,-30.88088088,\n",
       "           -30.78078078,-30.68068068,-30.58058058,-30.48048048,\n",
       "           -30.38038038,-30.28028028,-30.18018018,-30.08008008,\n",
       "           -29.97997998,-29.87987988,-29.77977978,-29.67967968,\n",
       "           -29.57957958,-29.47947948,-29.37937938,-29.27927928,\n",
       "           -29.17917918,-29.07907908,-28.97897898,-28.87887888,\n",
       "           -28.77877878,-28.67867868,-28.57857858,-28.47847848,\n",
       "           -28.37837838,-28.27827828,-28.17817818,-28.07807808,\n",
       "           -27.97797798,-27.87787788,-27.77777778,-27.67767768,\n",
       "           -27.57757758,-27.47747748,-27.37737738,-27.27727728,\n",
       "           -27.17717718,-27.07707708,-26.97697698,-26.87687688,\n",
       "           -26.77677678,-26.67667668,-26.57657658,-26.47647648,\n",
       "           -26.37637638,-26.27627628,-26.17617618,-26.07607608,\n",
       "           -25.97597598,-25.87587588,-25.77577578,-25.67567568,\n",
       "           -25.57557558,-25.47547548,-25.37537538,-25.27527528,\n",
       "           -25.17517518,-25.07507508,-24.97497497,-24.87487487,\n",
       "           -24.77477477,-24.67467467,-24.57457457,-24.47447447,\n",
       "           -24.37437437,-24.27427427,-24.17417417,-24.07407407,\n",
       "           -23.97397397,-23.87387387,-23.77377377,-23.67367367,\n",
       "           -23.57357357,-23.47347347,-23.37337337,-23.27327327,\n",
       "           -23.17317317,-23.07307307,-22.97297297,-22.87287287,\n",
       "           -22.77277277,-22.67267267,-22.57257257,-22.47247247,\n",
       "           -22.37237237,-22.27227227,-22.17217217,-22.07207207,\n",
       "           -21.97197197,-21.87187187,-21.77177177,-21.67167167,\n",
       "           -21.57157157,-21.47147147,-21.37137137,-21.27127127,\n",
       "           -21.17117117,-21.07107107,-20.97097097,-20.87087087,\n",
       "           -20.77077077,-20.67067067,-20.57057057,-20.47047047,\n",
       "           -20.37037037,-20.27027027,-20.17017017,-20.07007007,\n",
       "           -19.96996997,-19.86986987,-19.76976977,-19.66966967,\n",
       "           -19.56956957,-19.46946947,-19.36936937,-19.26926927,\n",
       "           -19.16916917,-19.06906907,-18.96896897,-18.86886887,\n",
       "           -18.76876877,-18.66866867,-18.56856857,-18.46846847,\n",
       "           -18.36836837,-18.26826827,-18.16816817,-18.06806807,\n",
       "           -17.96796797,-17.86786787,-17.76776777,-17.66766767,\n",
       "           -17.56756757,-17.46746747,-17.36736737,-17.26726727,\n",
       "           -17.16716717,-17.06706707,-16.96696697,-16.86686687,\n",
       "           -16.76676677,-16.66666667,-16.56656657,-16.46646647,\n",
       "           -16.36636637,-16.26626627,-16.16616617,-16.06606607,\n",
       "           -15.96596597,-15.86586587,-15.76576577,-15.66566567,\n",
       "           -15.56556557,-15.46546547,-15.36536537,-15.26526527,\n",
       "           -15.16516517,-15.06506507,-14.96496496,-14.86486486,\n",
       "           -14.76476476,-14.66466466,-14.56456456,-14.46446446,\n",
       "           -14.36436436,-14.26426426,-14.16416416,-14.06406406,\n",
       "           -13.96396396,-13.86386386,-13.76376376,-13.66366366,\n",
       "           -13.56356356,-13.46346346,-13.36336336,-13.26326326,\n",
       "           -13.16316316,-13.06306306,-12.96296296,-12.86286286,\n",
       "           -12.76276276,-12.66266266,-12.56256256,-12.46246246,\n",
       "           -12.36236236,-12.26226226,-12.16216216,-12.06206206,\n",
       "           -11.96196196,-11.86186186,-11.76176176,-11.66166166,\n",
       "           -11.56156156,-11.46146146,-11.36136136,-11.26126126,\n",
       "           -11.16116116,-11.06106106,-10.96096096,-10.86086086,\n",
       "           -10.76076076,-10.66066066,-10.56056056,-10.46046046,\n",
       "           -10.36036036,-10.26026026,-10.16016016,-10.06006006,\n",
       "            -9.95995996, -9.85985986, -9.75975976, -9.65965966,\n",
       "            -9.55955956, -9.45945946, -9.35935936, -9.25925926,\n",
       "            -9.15915916, -9.05905906, -8.95895896, -8.85885886,\n",
       "            -8.75875876, -8.65865866, -8.55855856, -8.45845846,\n",
       "            -8.35835836, -8.25825826, -8.15815816, -8.05805806,\n",
       "            -7.95795796, -7.85785786, -7.75775776, -7.65765766,\n",
       "            -7.55755756, -7.45745746, -7.35735736, -7.25725726,\n",
       "            -7.15715716, -7.05705706, -6.95695696, -6.85685686,\n",
       "            -6.75675676, -6.65665666, -6.55655656, -6.45645646,\n",
       "            -6.35635636, -6.25625626, -6.15615616, -6.05605606,\n",
       "            -5.95595596, -5.85585586, -5.75575576, -5.65565566,\n",
       "            -5.55555556, -5.45545546, -5.35535536, -5.25525526,\n",
       "            -5.15515516, -5.05505506, -4.95495495, -4.85485485,\n",
       "            -4.75475475, -4.65465465, -4.55455455, -4.45445445,\n",
       "            -4.35435435, -4.25425425, -4.15415415, -4.05405405,\n",
       "            -3.95395395, -3.85385385, -3.75375375, -3.65365365,\n",
       "            -3.55355355, -3.45345345, -3.35335335, -3.25325325,\n",
       "            -3.15315315, -3.05305305, -2.95295295, -2.85285285,\n",
       "            -2.75275275, -2.65265265, -2.55255255, -2.45245245,\n",
       "            -2.35235235, -2.25225225, -2.15215215, -2.05205205,\n",
       "            -1.95195195, -1.85185185, -1.75175175, -1.65165165,\n",
       "            -1.55155155, -1.45145145, -1.35135135, -1.25125125,\n",
       "            -1.15115115, -1.05105105, -0.95095095, -0.85085085,\n",
       "            -0.75075075, -0.65065065, -0.55055055, -0.45045045,\n",
       "            -0.35035035, -0.25025025, -0.15015015, -0.05005005,\n",
       "             0.05005005,  0.15015015,  0.25025025,  0.35035035,\n",
       "             0.45045045,  0.55055055,  0.65065065,  0.75075075,\n",
       "             0.85085085,  0.95095095,  1.05105105,  1.15115115,\n",
       "             1.25125125,  1.35135135,  1.45145145,  1.55155155,\n",
       "             1.65165165,  1.75175175,  1.85185185,  1.95195195,\n",
       "             2.05205205,  2.15215215,  2.25225225,  2.35235235,\n",
       "             2.45245245,  2.55255255,  2.65265265,  2.75275275,\n",
       "             2.85285285,  2.95295295,  3.05305305,  3.15315315,\n",
       "             3.25325325,  3.35335335,  3.45345345,  3.55355355,\n",
       "             3.65365365,  3.75375375,  3.85385385,  3.95395395,\n",
       "             4.05405405,  4.15415415,  4.25425425,  4.35435435,\n",
       "             4.45445445,  4.55455455,  4.65465465,  4.75475475,\n",
       "             4.85485485,  4.95495495,  5.05505506,  5.15515516,\n",
       "             5.25525526,  5.35535536,  5.45545546,  5.55555556,\n",
       "             5.65565566,  5.75575576,  5.85585586,  5.95595596,\n",
       "             6.05605606,  6.15615616,  6.25625626,  6.35635636,\n",
       "             6.45645646,  6.55655656,  6.65665666,  6.75675676,\n",
       "             6.85685686,  6.95695696,  7.05705706,  7.15715716,\n",
       "             7.25725726,  7.35735736,  7.45745746,  7.55755756,\n",
       "             7.65765766,  7.75775776,  7.85785786,  7.95795796,\n",
       "             8.05805806,  8.15815816,  8.25825826,  8.35835836,\n",
       "             8.45845846,  8.55855856,  8.65865866,  8.75875876,\n",
       "             8.85885886,  8.95895896,  9.05905906,  9.15915916,\n",
       "             9.25925926,  9.35935936,  9.45945946,  9.55955956,\n",
       "             9.65965966,  9.75975976,  9.85985986,  9.95995996,\n",
       "            10.06006006, 10.16016016, 10.26026026, 10.36036036,\n",
       "            10.46046046, 10.56056056, 10.66066066, 10.76076076,\n",
       "            10.86086086, 10.96096096, 11.06106106, 11.16116116,\n",
       "            11.26126126, 11.36136136, 11.46146146, 11.56156156,\n",
       "            11.66166166, 11.76176176, 11.86186186, 11.96196196,\n",
       "            12.06206206, 12.16216216, 12.26226226, 12.36236236,\n",
       "            12.46246246, 12.56256256, 12.66266266, 12.76276276,\n",
       "            12.86286286, 12.96296296, 13.06306306, 13.16316316,\n",
       "            13.26326326, 13.36336336, 13.46346346, 13.56356356,\n",
       "            13.66366366, 13.76376376, 13.86386386, 13.96396396,\n",
       "            14.06406406, 14.16416416, 14.26426426, 14.36436436,\n",
       "            14.46446446, 14.56456456, 14.66466466, 14.76476476,\n",
       "            14.86486486, 14.96496496, 15.06506507, 15.16516517,\n",
       "            15.26526527, 15.36536537, 15.46546547, 15.56556557,\n",
       "            15.66566567, 15.76576577, 15.86586587, 15.96596597,\n",
       "            16.06606607, 16.16616617, 16.26626627, 16.36636637,\n",
       "            16.46646647, 16.56656657, 16.66666667, 16.76676677,\n",
       "            16.86686687, 16.96696697, 17.06706707, 17.16716717,\n",
       "            17.26726727, 17.36736737, 17.46746747, 17.56756757,\n",
       "            17.66766767, 17.76776777, 17.86786787, 17.96796797,\n",
       "            18.06806807, 18.16816817, 18.26826827, 18.36836837,\n",
       "            18.46846847, 18.56856857, 18.66866867, 18.76876877,\n",
       "            18.86886887, 18.96896897, 19.06906907, 19.16916917,\n",
       "            19.26926927, 19.36936937, 19.46946947, 19.56956957,\n",
       "            19.66966967, 19.76976977, 19.86986987, 19.96996997,\n",
       "            20.07007007, 20.17017017, 20.27027027, 20.37037037,\n",
       "            20.47047047, 20.57057057, 20.67067067, 20.77077077,\n",
       "            20.87087087, 20.97097097, 21.07107107, 21.17117117,\n",
       "            21.27127127, 21.37137137, 21.47147147, 21.57157157,\n",
       "            21.67167167, 21.77177177, 21.87187187, 21.97197197,\n",
       "            22.07207207, 22.17217217, 22.27227227, 22.37237237,\n",
       "            22.47247247, 22.57257257, 22.67267267, 22.77277277,\n",
       "            22.87287287, 22.97297297, 23.07307307, 23.17317317,\n",
       "            23.27327327, 23.37337337, 23.47347347, 23.57357357,\n",
       "            23.67367367, 23.77377377, 23.87387387, 23.97397397,\n",
       "            24.07407407, 24.17417417, 24.27427427, 24.37437437,\n",
       "            24.47447447, 24.57457457, 24.67467467, 24.77477477,\n",
       "            24.87487487, 24.97497497, 25.07507508, 25.17517518,\n",
       "            25.27527528, 25.37537538, 25.47547548, 25.57557558,\n",
       "            25.67567568, 25.77577578, 25.87587588, 25.97597598,\n",
       "            26.07607608, 26.17617618, 26.27627628, 26.37637638,\n",
       "            26.47647648, 26.57657658, 26.67667668, 26.77677678,\n",
       "            26.87687688, 26.97697698, 27.07707708, 27.17717718,\n",
       "            27.27727728, 27.37737738, 27.47747748, 27.57757758,\n",
       "            27.67767768, 27.77777778, 27.87787788, 27.97797798,\n",
       "            28.07807808, 28.17817818, 28.27827828, 28.37837838,\n",
       "            28.47847848, 28.57857858, 28.67867868, 28.77877878,\n",
       "            28.87887888, 28.97897898, 29.07907908, 29.17917918,\n",
       "            29.27927928, 29.37937938, 29.47947948, 29.57957958,\n",
       "            29.67967968, 29.77977978, 29.87987988, 29.97997998,\n",
       "            30.08008008, 30.18018018, 30.28028028, 30.38038038,\n",
       "            30.48048048, 30.58058058, 30.68068068, 30.78078078,\n",
       "            30.88088088, 30.98098098, 31.08108108, 31.18118118,\n",
       "            31.28128128, 31.38138138, 31.48148148, 31.58158158,\n",
       "            31.68168168, 31.78178178, 31.88188188, 31.98198198,\n",
       "            32.08208208, 32.18218218, 32.28228228, 32.38238238,\n",
       "            32.48248248, 32.58258258, 32.68268268, 32.78278278,\n",
       "            32.88288288, 32.98298298, 33.08308308, 33.18318318,\n",
       "            33.28328328, 33.38338338, 33.48348348, 33.58358358,\n",
       "            33.68368368, 33.78378378, 33.88388388, 33.98398398,\n",
       "            34.08408408, 34.18418418, 34.28428428, 34.38438438,\n",
       "            34.48448448, 34.58458458, 34.68468468, 34.78478478,\n",
       "            34.88488488, 34.98498498, 35.08508509, 35.18518519,\n",
       "            35.28528529, 35.38538539, 35.48548549, 35.58558559,\n",
       "            35.68568569, 35.78578579, 35.88588589, 35.98598599,\n",
       "            36.08608609, 36.18618619, 36.28628629, 36.38638639,\n",
       "            36.48648649, 36.58658659, 36.68668669, 36.78678679,\n",
       "            36.88688689, 36.98698699, 37.08708709, 37.18718719,\n",
       "            37.28728729, 37.38738739, 37.48748749, 37.58758759,\n",
       "            37.68768769, 37.78778779, 37.88788789, 37.98798799,\n",
       "            38.08808809, 38.18818819, 38.28828829, 38.38838839,\n",
       "            38.48848849, 38.58858859, 38.68868869, 38.78878879,\n",
       "            38.88888889, 38.98898899, 39.08908909, 39.18918919,\n",
       "            39.28928929, 39.38938939, 39.48948949, 39.58958959,\n",
       "            39.68968969, 39.78978979, 39.88988989, 39.98998999,\n",
       "            40.09009009, 40.19019019, 40.29029029, 40.39039039,\n",
       "            40.49049049, 40.59059059, 40.69069069, 40.79079079,\n",
       "            40.89089089, 40.99099099, 41.09109109, 41.19119119,\n",
       "            41.29129129, 41.39139139, 41.49149149, 41.59159159,\n",
       "            41.69169169, 41.79179179, 41.89189189, 41.99199199,\n",
       "            42.09209209, 42.19219219, 42.29229229, 42.39239239,\n",
       "            42.49249249, 42.59259259, 42.69269269, 42.79279279,\n",
       "            42.89289289, 42.99299299, 43.09309309, 43.19319319,\n",
       "            43.29329329, 43.39339339, 43.49349349, 43.59359359,\n",
       "            43.69369369, 43.79379379, 43.89389389, 43.99399399,\n",
       "            44.09409409, 44.19419419, 44.29429429, 44.39439439,\n",
       "            44.49449449, 44.59459459, 44.69469469, 44.79479479,\n",
       "            44.89489489, 44.99499499, 45.0950951 , 45.1951952 ,\n",
       "            45.2952953 , 45.3953954 , 45.4954955 , 45.5955956 ,\n",
       "            45.6956957 , 45.7957958 , 45.8958959 , 45.995996  ,\n",
       "            46.0960961 , 46.1961962 , 46.2962963 , 46.3963964 ,\n",
       "            46.4964965 , 46.5965966 , 46.6966967 , 46.7967968 ,\n",
       "            46.8968969 , 46.996997  , 47.0970971 , 47.1971972 ,\n",
       "            47.2972973 , 47.3973974 , 47.4974975 , 47.5975976 ,\n",
       "            47.6976977 , 47.7977978 , 47.8978979 , 47.997998  ,\n",
       "            48.0980981 , 48.1981982 , 48.2982983 , 48.3983984 ,\n",
       "            48.4984985 , 48.5985986 , 48.6986987 , 48.7987988 ,\n",
       "            48.8988989 , 48.998999  , 49.0990991 , 49.1991992 ,\n",
       "            49.2992993 , 49.3993994 , 49.4994995 , 49.5995996 ,\n",
       "            49.6996997 , 49.7997998 , 49.8998999 , 50.        ] km / s>"
      ]
     },
     "execution_count": 66,
     "metadata": {},
     "output_type": "execute_result"
    }
   ],
   "source": [
    "new_xarr"
   ]
  },
  {
   "cell_type": "code",
   "execution_count": 68,
   "metadata": {
    "collapsed": true
   },
   "outputs": [],
   "source": [
    "np.interp?"
   ]
  },
  {
   "cell_type": "code",
   "execution_count": 23,
   "metadata": {
    "collapsed": true
   },
   "outputs": [],
   "source": [
    "interpolated_data = np.interp(new_xarr[::-1], spec.velocity[::-1], spec.flux[::-1])"
   ]
  },
  {
   "cell_type": "code",
   "execution_count": 24,
   "metadata": {
    "collapsed": true
   },
   "outputs": [],
   "source": [
    "%matplotlib inline\n",
    "import pylab as pl"
   ]
  },
  {
   "cell_type": "code",
   "execution_count": 27,
   "metadata": {
    "collapsed": false
   },
   "outputs": [
    {
     "data": {
      "text/plain": [
       "[<matplotlib.lines.Line2D at 0x10e7fa710>]"
      ]
     },
     "execution_count": 27,
     "metadata": {},
     "output_type": "execute_result"
    },
    {
     "data": {
      "image/png": "[encoded data removed]",
      "text/plain": [
       "<matplotlib.figure.Figure at 0x10e7fa080>"
      ]
     },
     "metadata": {},
     "output_type": "display_data"
    }
   ],
   "source": [
    "pl.plot(spec.velocity, spec.flux)\n",
    "pl.plot(new_xarr[::-1], interpolated_data)"
   ]
  },
  {
   "cell_type": "code",
   "execution_count": 28,
   "metadata": {
    "collapsed": false
   },
   "outputs": [
    {
     "data": {
      "text/plain": [
       "(-50, 50)"
      ]
     },
     "execution_count": 28,
     "metadata": {},
     "output_type": "execute_result"
    },
    {
     "data": {
      "image/png": "[encoded data removed]",
      "text/plain": [
       "<matplotlib.figure.Figure at 0x10dd3fa58>"
      ]
     },
     "metadata": {},
     "output_type": "display_data"
    }
   ],
   "source": [
    "pl.plot(spec.velocity, spec.flux)\n",
    "pl.plot(new_xarr[::-1], interpolated_data)\n",
    "pl.xlim(-50, 50)"
   ]
  },
  {
   "cell_type": "code",
   "execution_count": null,
   "metadata": {
    "collapsed": true
   },
   "outputs": [],
   "source": []
  }
 ],
 "metadata": {
  "kernelspec": {
   "display_name": "Python 3",
   "language": "python",
   "name": "python3"
  },
  "language_info": {
   "codemirror_mode": {
    "name": "ipython",
    "version": 3
   },
   "file_extension": ".py",
   "mimetype": "text/x-python",
   "name": "python",
   "nbconvert_exporter": "python",
   "pygments_lexer": "ipython3",
   "version": "3.5.1"
  }
 },
 "nbformat": 4,
 "nbformat_minor": 0
}
