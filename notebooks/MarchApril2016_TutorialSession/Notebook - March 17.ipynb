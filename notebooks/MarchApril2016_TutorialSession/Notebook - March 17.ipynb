{
 "cells": [
  {
   "cell_type": "code",
   "execution_count": 3,
   "metadata": {
    "collapsed": false
   },
   "outputs": [
    {
     "data": {
      "text/plain": [
       "[<matplotlib.lines.Line2D at 0x10d1dc588>]"
      ]
     },
     "execution_count": 3,
     "metadata": {},
     "output_type": "execute_result"
    },
    {
     "data": {
      "image/png": "[encoded data removed]",
      "text/plain": [
       "<matplotlib.figure.Figure at 0x10c556eb8>"
      ]
     },
     "metadata": {},
     "output_type": "display_data"
    }
   ],
   "source": [
    "%matplotlib inline\n",
    "import pylab as pl\n",
    "pl.plot([0,1])"
   ]
  },
  {
   "cell_type": "code",
   "execution_count": 5,
   "metadata": {
    "collapsed": false
   },
   "outputs": [
    {
     "data": {
      "application/javascript": [
       "/* Put everything inside the global mpl namespace */\n",
       "window.mpl = {};\n",
       "\n",
       "mpl.get_websocket_type = function() {\n",
       "    if (typeof(WebSocket) !== 'undefined') {\n",
       "        return WebSocket;\n",
       "    } else if (typeof(MozWebSocket) !== 'undefined') {\n",
       "        return MozWebSocket;\n",
       "    } else {\n",
       "        alert('Your browser does not have WebSocket support.' +\n",
       "              'Please try Chrome, Safari or Firefox ≥ 6. ' +\n",
       "              'Firefox 4 and 5 are also supported but you ' +\n",
       "              'have to enable WebSockets in about:config.');\n",
       "    };\n",
       "}\n",
       "\n",
       "mpl.figure = function(figure_id, websocket, ondownload, parent_element) {\n",
       "    this.id = figure_id;\n",
       "\n",
       "    this.ws = websocket;\n",
       "\n",
       "    this.supports_binary = (this.ws.binaryType != undefined);\n",
       "\n",
       "    if (!this.supports_binary) {\n",
       "        var warnings = document.getElementById(\"mpl-warnings\");\n",
       "        if (warnings) {\n",
       "            warnings.style.display = 'block';\n",
       "            warnings.textContent = (\n",
       "                \"This browser does not support binary websocket messages. \" +\n",
       "                    \"Performance may be slow.\");\n",
       "        }\n",
       "    }\n",
       "\n",
       "    this.imageObj = new Image();\n",
       "\n",
       "    this.context = undefined;\n",
       "    this.message = undefined;\n",
       "    this.canvas = undefined;\n",
       "    this.rubberband_canvas = undefined;\n",
       "    this.rubberband_context = undefined;\n",
       "    this.format_dropdown = undefined;\n",
       "\n",
       "    this.image_mode = 'full';\n",
       "\n",
       "    this.root = $('<div/>');\n",
       "    this._root_extra_style(this.root)\n",
       "    this.root.attr('style', 'display: inline-block');\n",
       "\n",
       "    $(parent_element).append(this.root);\n",
       "\n",
       "    this._init_header(this);\n",
       "    this._init_canvas(this);\n",
       "    this._init_toolbar(this);\n",
       "\n",
       "    var fig = this;\n",
       "\n",
       "    this.waiting = false;\n",
       "\n",
       "    this.ws.onopen =  function () {\n",
       "            fig.send_message(\"supports_binary\", {value: fig.supports_binary});\n",
       "            fig.send_message(\"send_image_mode\", {});\n",
       "            fig.send_message(\"refresh\", {});\n",
       "        }\n",
       "\n",
       "    this.imageObj.onload = function() {\n",
       "            if (fig.image_mode == 'full') {\n",
       "                // Full images could contain transparency (where diff images\n",
       "                // almost always do), so we need to clear the canvas so that\n",
       "                // there is no ghosting.\n",
       "                fig.context.clearRect(0, 0, fig.canvas.width, fig.canvas.height);\n",
       "            }\n",
       "            fig.context.drawImage(fig.imageObj, 0, 0);\n",
       "        };\n",
       "\n",
       "    this.imageObj.onunload = function() {\n",
       "        this.ws.close();\n",
       "    }\n",
       "\n",
       "    this.ws.onmessage = this._make_on_message_function(this);\n",
       "\n",
       "    this.ondownload = ondownload;\n",
       "}\n",
       "\n",
       "mpl.figure.prototype._init_header = function() {\n",
       "    var titlebar = $(\n",
       "        '<div class=\"ui-dialog-titlebar ui-widget-header ui-corner-all ' +\n",
       "        'ui-helper-clearfix\"/>');\n",
       "    var titletext = $(\n",
       "        '<div class=\"ui-dialog-title\" style=\"width: 100%; ' +\n",
       "        'text-align: center; padding: 3px;\"/>');\n",
       "    titlebar.append(titletext)\n",
       "    this.root.append(titlebar);\n",
       "    this.header = titletext[0];\n",
       "}\n",
       "\n",
       "\n",
       "\n",
       "mpl.figure.prototype._canvas_extra_style = function(canvas_div) {\n",
       "\n",
       "}\n",
       "\n",
       "\n",
       "mpl.figure.prototype._root_extra_style = function(canvas_div) {\n",
       "\n",
       "}\n",
       "\n",
       "mpl.figure.prototype._init_canvas = function() {\n",
       "    var fig = this;\n",
       "\n",
       "    var canvas_div = $('<div/>');\n",
       "\n",
       "    canvas_div.attr('style', 'position: relative; clear: both; outline: 0');\n",
       "\n",
       "    function canvas_keyboard_event(event) {\n",
       "        return fig.key_event(event, event['data']);\n",
       "    }\n",
       "\n",
       "    canvas_div.keydown('key_press', canvas_keyboard_event);\n",
       "    canvas_div.keyup('key_release', canvas_keyboard_event);\n",
       "    this.canvas_div = canvas_div\n",
       "    this._canvas_extra_style(canvas_div)\n",
       "    this.root.append(canvas_div);\n",
       "\n",
       "    var canvas = $('<canvas/>');\n",
       "    canvas.addClass('mpl-canvas');\n",
       "    canvas.attr('style', \"left: 0; top: 0; z-index: 0; outline: 0\")\n",
       "\n",
       "    this.canvas = canvas[0];\n",
       "    this.context = canvas[0].getContext(\"2d\");\n",
       "\n",
       "    var rubberband = $('<canvas/>');\n",
       "    rubberband.attr('style', \"position: absolute; left: 0; top: 0; z-index: 1;\")\n",
       "\n",
       "    var pass_mouse_events = true;\n",
       "\n",
       "    canvas_div.resizable({\n",
       "        start: function(event, ui) {\n",
       "            pass_mouse_events = false;\n",
       "        },\n",
       "        resize: function(event, ui) {\n",
       "            fig.request_resize(ui.size.width, ui.size.height);\n",
       "        },\n",
       "        stop: function(event, ui) {\n",
       "            pass_mouse_events = true;\n",
       "            fig.request_resize(ui.size.width, ui.size.height);\n",
       "        },\n",
       "    });\n",
       "\n",
       "    function mouse_event_fn(event) {\n",
       "        if (pass_mouse_events)\n",
       "            return fig.mouse_event(event, event['data']);\n",
       "    }\n",
       "\n",
       "    rubberband.mousedown('button_press', mouse_event_fn);\n",
       "    rubberband.mouseup('button_release', mouse_event_fn);\n",
       "    // Throttle sequential mouse events to 1 every 20ms.\n",
       "    rubberband.mousemove('motion_notify', mouse_event_fn);\n",
       "\n",
       "    rubberband.mouseenter('figure_enter', mouse_event_fn);\n",
       "    rubberband.mouseleave('figure_leave', mouse_event_fn);\n",
       "\n",
       "    canvas_div.on(\"wheel\", function (event) {\n",
       "        event = event.originalEvent;\n",
       "        event['data'] = 'scroll'\n",
       "        if (event.deltaY < 0) {\n",
       "            event.step = 1;\n",
       "        } else {\n",
       "            event.step = -1;\n",
       "        }\n",
       "        mouse_event_fn(event);\n",
       "    });\n",
       "\n",
       "    canvas_div.append(canvas);\n",
       "    canvas_div.append(rubberband);\n",
       "\n",
       "    this.rubberband = rubberband;\n",
       "    this.rubberband_canvas = rubberband[0];\n",
       "    this.rubberband_context = rubberband[0].getContext(\"2d\");\n",
       "    this.rubberband_context.strokeStyle = \"#000000\";\n",
       "\n",
       "    this._resize_canvas = function(width, height) {\n",
       "        // Keep the size of the canvas, canvas container, and rubber band\n",
       "        // canvas in synch.\n",
       "        canvas_div.css('width', width)\n",
       "        canvas_div.css('height', height)\n",
       "\n",
       "        canvas.attr('width', width);\n",
       "        canvas.attr('height', height);\n",
       "\n",
       "        rubberband.attr('width', width);\n",
       "        rubberband.attr('height', height);\n",
       "    }\n",
       "\n",
       "    // Set the figure to an initial 600x600px, this will subsequently be updated\n",
       "    // upon first draw.\n",
       "    this._resize_canvas(600, 600);\n",
       "\n",
       "    // Disable right mouse context menu.\n",
       "    $(this.rubberband_canvas).bind(\"contextmenu\",function(e){\n",
       "        return false;\n",
       "    });\n",
       "\n",
       "    function set_focus () {\n",
       "        canvas.focus();\n",
       "        canvas_div.focus();\n",
       "    }\n",
       "\n",
       "    window.setTimeout(set_focus, 100);\n",
       "}\n",
       "\n",
       "mpl.figure.prototype._init_toolbar = function() {\n",
       "    var fig = this;\n",
       "\n",
       "    var nav_element = $('<div/>')\n",
       "    nav_element.attr('style', 'width: 100%');\n",
       "    this.root.append(nav_element);\n",
       "\n",
       "    // Define a callback function for later on.\n",
       "    function toolbar_event(event) {\n",
       "        return fig.toolbar_button_onclick(event['data']);\n",
       "    }\n",
       "    function toolbar_mouse_event(event) {\n",
       "        return fig.toolbar_button_onmouseover(event['data']);\n",
       "    }\n",
       "\n",
       "    for(var toolbar_ind in mpl.toolbar_items) {\n",
       "        var name = mpl.toolbar_items[toolbar_ind][0];\n",
       "        var tooltip = mpl.toolbar_items[toolbar_ind][1];\n",
       "        var image = mpl.toolbar_items[toolbar_ind][2];\n",
       "        var method_name = mpl.toolbar_items[toolbar_ind][3];\n",
       "\n",
       "        if (!name) {\n",
       "            // put a spacer in here.\n",
       "            continue;\n",
       "        }\n",
       "        var button = $('<button/>');\n",
       "        button.addClass('ui-button ui-widget ui-state-default ui-corner-all ' +\n",
       "                        'ui-button-icon-only');\n",
       "        button.attr('role', 'button');\n",
       "        button.attr('aria-disabled', 'false');\n",
       "        button.click(method_name, toolbar_event);\n",
       "        button.mouseover(tooltip, toolbar_mouse_event);\n",
       "\n",
       "        var icon_img = $('<span/>');\n",
       "        icon_img.addClass('ui-button-icon-primary ui-icon');\n",
       "        icon_img.addClass(image);\n",
       "        icon_img.addClass('ui-corner-all');\n",
       "\n",
       "        var tooltip_span = $('<span/>');\n",
       "        tooltip_span.addClass('ui-button-text');\n",
       "        tooltip_span.html(tooltip);\n",
       "\n",
       "        button.append(icon_img);\n",
       "        button.append(tooltip_span);\n",
       "\n",
       "        nav_element.append(button);\n",
       "    }\n",
       "\n",
       "    var fmt_picker_span = $('<span/>');\n",
       "\n",
       "    var fmt_picker = $('<select/>');\n",
       "    fmt_picker.addClass('mpl-toolbar-option ui-widget ui-widget-content');\n",
       "    fmt_picker_span.append(fmt_picker);\n",
       "    nav_element.append(fmt_picker_span);\n",
       "    this.format_dropdown = fmt_picker[0];\n",
       "\n",
       "    for (var ind in mpl.extensions) {\n",
       "        var fmt = mpl.extensions[ind];\n",
       "        var option = $(\n",
       "            '<option/>', {selected: fmt === mpl.default_extension}).html(fmt);\n",
       "        fmt_picker.append(option)\n",
       "    }\n",
       "\n",
       "    // Add hover states to the ui-buttons\n",
       "    $( \".ui-button\" ).hover(\n",
       "        function() { $(this).addClass(\"ui-state-hover\");},\n",
       "        function() { $(this).removeClass(\"ui-state-hover\");}\n",
       "    );\n",
       "\n",
       "    var status_bar = $('<span class=\"mpl-message\"/>');\n",
       "    nav_element.append(status_bar);\n",
       "    this.message = status_bar[0];\n",
       "}\n",
       "\n",
       "mpl.figure.prototype.request_resize = function(x_pixels, y_pixels) {\n",
       "    // Request matplotlib to resize the figure. Matplotlib will then trigger a resize in the client,\n",
       "    // which will in turn request a refresh of the image.\n",
       "    this.send_message('resize', {'width': x_pixels, 'height': y_pixels});\n",
       "}\n",
       "\n",
       "mpl.figure.prototype.send_message = function(type, properties) {\n",
       "    properties['type'] = type;\n",
       "    properties['figure_id'] = this.id;\n",
       "    this.ws.send(JSON.stringify(properties));\n",
       "}\n",
       "\n",
       "mpl.figure.prototype.send_draw_message = function() {\n",
       "    if (!this.waiting) {\n",
       "        this.waiting = true;\n",
       "        this.ws.send(JSON.stringify({type: \"draw\", figure_id: this.id}));\n",
       "    }\n",
       "}\n",
       "\n",
       "\n",
       "mpl.figure.prototype.handle_save = function(fig, msg) {\n",
       "    var format_dropdown = fig.format_dropdown;\n",
       "    var format = format_dropdown.options[format_dropdown.selectedIndex].value;\n",
       "    fig.ondownload(fig, format);\n",
       "}\n",
       "\n",
       "\n",
       "mpl.figure.prototype.handle_resize = function(fig, msg) {\n",
       "    var size = msg['size'];\n",
       "    if (size[0] != fig.canvas.width || size[1] != fig.canvas.height) {\n",
       "        fig._resize_canvas(size[0], size[1]);\n",
       "        fig.send_message(\"refresh\", {});\n",
       "    };\n",
       "}\n",
       "\n",
       "mpl.figure.prototype.handle_rubberband = function(fig, msg) {\n",
       "    var x0 = msg['x0'];\n",
       "    var y0 = fig.canvas.height - msg['y0'];\n",
       "    var x1 = msg['x1'];\n",
       "    var y1 = fig.canvas.height - msg['y1'];\n",
       "    x0 = Math.floor(x0) + 0.5;\n",
       "    y0 = Math.floor(y0) + 0.5;\n",
       "    x1 = Math.floor(x1) + 0.5;\n",
       "    y1 = Math.floor(y1) + 0.5;\n",
       "    var min_x = Math.min(x0, x1);\n",
       "    var min_y = Math.min(y0, y1);\n",
       "    var width = Math.abs(x1 - x0);\n",
       "    var height = Math.abs(y1 - y0);\n",
       "\n",
       "    fig.rubberband_context.clearRect(\n",
       "        0, 0, fig.canvas.width, fig.canvas.height);\n",
       "\n",
       "    fig.rubberband_context.strokeRect(min_x, min_y, width, height);\n",
       "}\n",
       "\n",
       "mpl.figure.prototype.handle_figure_label = function(fig, msg) {\n",
       "    // Updates the figure title.\n",
       "    fig.header.textContent = msg['label'];\n",
       "}\n",
       "\n",
       "mpl.figure.prototype.handle_cursor = function(fig, msg) {\n",
       "    var cursor = msg['cursor'];\n",
       "    switch(cursor)\n",
       "    {\n",
       "    case 0:\n",
       "        cursor = 'pointer';\n",
       "        break;\n",
       "    case 1:\n",
       "        cursor = 'default';\n",
       "        break;\n",
       "    case 2:\n",
       "        cursor = 'crosshair';\n",
       "        break;\n",
       "    case 3:\n",
       "        cursor = 'move';\n",
       "        break;\n",
       "    }\n",
       "    fig.rubberband_canvas.style.cursor = cursor;\n",
       "}\n",
       "\n",
       "mpl.figure.prototype.handle_message = function(fig, msg) {\n",
       "    fig.message.textContent = msg['message'];\n",
       "}\n",
       "\n",
       "mpl.figure.prototype.handle_draw = function(fig, msg) {\n",
       "    // Request the server to send over a new figure.\n",
       "    fig.send_draw_message();\n",
       "}\n",
       "\n",
       "mpl.figure.prototype.handle_image_mode = function(fig, msg) {\n",
       "    fig.image_mode = msg['mode'];\n",
       "}\n",
       "\n",
       "mpl.figure.prototype.updated_canvas_event = function() {\n",
       "    // Called whenever the canvas gets updated.\n",
       "    this.send_message(\"ack\", {});\n",
       "}\n",
       "\n",
       "// A function to construct a web socket function for onmessage handling.\n",
       "// Called in the figure constructor.\n",
       "mpl.figure.prototype._make_on_message_function = function(fig) {\n",
       "    return function socket_on_message(evt) {\n",
       "        if (evt.data instanceof Blob) {\n",
       "            /* FIXME: We get \"Resource interpreted as Image but\n",
       "             * transferred with MIME type text/plain:\" errors on\n",
       "             * Chrome.  But how to set the MIME type?  It doesn't seem\n",
       "             * to be part of the websocket stream */\n",
       "            evt.data.type = \"image/png\";\n",
       "\n",
       "            /* Free the memory for the previous frames */\n",
       "            if (fig.imageObj.src) {\n",
       "                (window.URL || window.webkitURL).revokeObjectURL(\n",
       "                    fig.imageObj.src);\n",
       "            }\n",
       "\n",
       "            fig.imageObj.src = (window.URL || window.webkitURL).createObjectURL(\n",
       "                evt.data);\n",
       "            fig.updated_canvas_event();\n",
       "            fig.waiting = false;\n",
       "            return;\n",
       "        }\n",
       "        else if (typeof evt.data === 'string' && evt.data.slice(0, 21) == \"data:image/png;base64\") {\n",
       "            fig.imageObj.src = evt.data;\n",
       "            fig.updated_canvas_event();\n",
       "            fig.waiting = false;\n",
       "            return;\n",
       "        }\n",
       "\n",
       "        var msg = JSON.parse(evt.data);\n",
       "        var msg_type = msg['type'];\n",
       "\n",
       "        // Call the  \"handle_{type}\" callback, which takes\n",
       "        // the figure and JSON message as its only arguments.\n",
       "        try {\n",
       "            var callback = fig[\"handle_\" + msg_type];\n",
       "        } catch (e) {\n",
       "            console.log(\"No handler for the '\" + msg_type + \"' message type: \", msg);\n",
       "            return;\n",
       "        }\n",
       "\n",
       "        if (callback) {\n",
       "            try {\n",
       "                // console.log(\"Handling '\" + msg_type + \"' message: \", msg);\n",
       "                callback(fig, msg);\n",
       "            } catch (e) {\n",
       "                console.log(\"Exception inside the 'handler_\" + msg_type + \"' callback:\", e, e.stack, msg);\n",
       "            }\n",
       "        }\n",
       "    };\n",
       "}\n",
       "\n",
       "// from http://stackoverflow.com/questions/1114465/getting-mouse-location-in-canvas\n",
       "mpl.findpos = function(e) {\n",
       "    //this section is from http://www.quirksmode.org/js/events_properties.html\n",
       "    var targ;\n",
       "    if (!e)\n",
       "        e = window.event;\n",
       "    if (e.target)\n",
       "        targ = e.target;\n",
       "    else if (e.srcElement)\n",
       "        targ = e.srcElement;\n",
       "    if (targ.nodeType == 3) // defeat Safari bug\n",
       "        targ = targ.parentNode;\n",
       "\n",
       "    // jQuery normalizes the pageX and pageY\n",
       "    // pageX,Y are the mouse positions relative to the document\n",
       "    // offset() returns the position of the element relative to the document\n",
       "    var x = e.pageX - $(targ).offset().left;\n",
       "    var y = e.pageY - $(targ).offset().top;\n",
       "\n",
       "    return {\"x\": x, \"y\": y};\n",
       "};\n",
       "\n",
       "/*\n",
       " * return a copy of an object with only non-object keys\n",
       " * we need this to avoid circular references\n",
       " * http://stackoverflow.com/a/24161582/3208463\n",
       " */\n",
       "function simpleKeys (original) {\n",
       "  return Object.keys(original).reduce(function (obj, key) {\n",
       "    if (typeof original[key] !== 'object')\n",
       "        obj[key] = original[key]\n",
       "    return obj;\n",
       "  }, {});\n",
       "}\n",
       "\n",
       "mpl.figure.prototype.mouse_event = function(event, name) {\n",
       "    var canvas_pos = mpl.findpos(event)\n",
       "\n",
       "    if (name === 'button_press')\n",
       "    {\n",
       "        this.canvas.focus();\n",
       "        this.canvas_div.focus();\n",
       "    }\n",
       "\n",
       "    var x = canvas_pos.x;\n",
       "    var y = canvas_pos.y;\n",
       "\n",
       "    this.send_message(name, {x: x, y: y, button: event.button,\n",
       "                             step: event.step,\n",
       "                             guiEvent: simpleKeys(event)});\n",
       "\n",
       "    /* This prevents the web browser from automatically changing to\n",
       "     * the text insertion cursor when the button is pressed.  We want\n",
       "     * to control all of the cursor setting manually through the\n",
       "     * 'cursor' event from matplotlib */\n",
       "    event.preventDefault();\n",
       "    return false;\n",
       "}\n",
       "\n",
       "mpl.figure.prototype._key_event_extra = function(event, name) {\n",
       "    // Handle any extra behaviour associated with a key event\n",
       "}\n",
       "\n",
       "mpl.figure.prototype.key_event = function(event, name) {\n",
       "\n",
       "    // Prevent repeat events\n",
       "    if (name == 'key_press')\n",
       "    {\n",
       "        if (event.which === this._key)\n",
       "            return;\n",
       "        else\n",
       "            this._key = event.which;\n",
       "    }\n",
       "    if (name == 'key_release')\n",
       "        this._key = null;\n",
       "\n",
       "    var value = '';\n",
       "    if (event.ctrlKey && event.which != 17)\n",
       "        value += \"ctrl+\";\n",
       "    if (event.altKey && event.which != 18)\n",
       "        value += \"alt+\";\n",
       "    if (event.shiftKey && event.which != 16)\n",
       "        value += \"shift+\";\n",
       "\n",
       "    value += 'k';\n",
       "    value += event.which.toString();\n",
       "\n",
       "    this._key_event_extra(event, name);\n",
       "\n",
       "    this.send_message(name, {key: value,\n",
       "                             guiEvent: simpleKeys(event)});\n",
       "    return false;\n",
       "}\n",
       "\n",
       "mpl.figure.prototype.toolbar_button_onclick = function(name) {\n",
       "    if (name == 'download') {\n",
       "        this.handle_save(this, null);\n",
       "    } else {\n",
       "        this.send_message(\"toolbar_button\", {name: name});\n",
       "    }\n",
       "};\n",
       "\n",
       "mpl.figure.prototype.toolbar_button_onmouseover = function(tooltip) {\n",
       "    this.message.textContent = tooltip;\n",
       "};\n",
       "mpl.toolbar_items = [[\"Home\", \"Reset original view\", \"fa fa-home icon-home\", \"home\"], [\"Back\", \"Back to  previous view\", \"fa fa-arrow-left icon-arrow-left\", \"back\"], [\"Forward\", \"Forward to next view\", \"fa fa-arrow-right icon-arrow-right\", \"forward\"], [\"\", \"\", \"\", \"\"], [\"Pan\", \"Pan axes with left mouse, zoom with right\", \"fa fa-arrows icon-move\", \"pan\"], [\"Zoom\", \"Zoom to rectangle\", \"fa fa-square-o icon-check-empty\", \"zoom\"], [\"\", \"\", \"\", \"\"], [\"Download\", \"Download plot\", \"fa fa-floppy-o icon-save\", \"download\"]];\n",
       "\n",
       "mpl.extensions = [\"eps\", \"pdf\", \"png\", \"ps\", \"raw\", \"svg\"];\n",
       "\n",
       "mpl.default_extension = \"png\";var comm_websocket_adapter = function(comm) {\n",
       "    // Create a \"websocket\"-like object which calls the given IPython comm\n",
       "    // object with the appropriate methods. Currently this is a non binary\n",
       "    // socket, so there is still some room for performance tuning.\n",
       "    var ws = {};\n",
       "\n",
       "    ws.close = function() {\n",
       "        comm.close()\n",
       "    };\n",
       "    ws.send = function(m) {\n",
       "        //console.log('sending', m);\n",
       "        comm.send(m);\n",
       "    };\n",
       "    // Register the callback with on_msg.\n",
       "    comm.on_msg(function(msg) {\n",
       "        //console.log('receiving', msg['content']['data'], msg);\n",
       "        // Pass the mpl event to the overriden (by mpl) onmessage function.\n",
       "        ws.onmessage(msg['content']['data'])\n",
       "    });\n",
       "    return ws;\n",
       "}\n",
       "\n",
       "mpl.mpl_figure_comm = function(comm, msg) {\n",
       "    // This is the function which gets called when the mpl process\n",
       "    // starts-up an IPython Comm through the \"matplotlib\" channel.\n",
       "\n",
       "    var id = msg.content.data.id;\n",
       "    // Get hold of the div created by the display call when the Comm\n",
       "    // socket was opened in Python.\n",
       "    var element = $(\"#\" + id);\n",
       "    var ws_proxy = comm_websocket_adapter(comm)\n",
       "\n",
       "    function ondownload(figure, format) {\n",
       "        window.open(figure.imageObj.src);\n",
       "    }\n",
       "\n",
       "    var fig = new mpl.figure(id, ws_proxy,\n",
       "                           ondownload,\n",
       "                           element.get(0));\n",
       "\n",
       "    // Call onopen now - mpl needs it, as it is assuming we've passed it a real\n",
       "    // web socket which is closed, not our websocket->open comm proxy.\n",
       "    ws_proxy.onopen();\n",
       "\n",
       "    fig.parent_element = element.get(0);\n",
       "    fig.cell_info = mpl.find_output_cell(\"<div id='\" + id + \"'></div>\");\n",
       "    if (!fig.cell_info) {\n",
       "        console.error(\"Failed to find cell for figure\", id, fig);\n",
       "        return;\n",
       "    }\n",
       "\n",
       "    var output_index = fig.cell_info[2]\n",
       "    var cell = fig.cell_info[0];\n",
       "\n",
       "};\n",
       "\n",
       "mpl.figure.prototype.handle_close = function(fig, msg) {\n",
       "    fig.root.unbind('remove')\n",
       "\n",
       "    // Update the output cell to use the data from the current canvas.\n",
       "    fig.push_to_output();\n",
       "    var dataURL = fig.canvas.toDataURL();\n",
       "    // Re-enable the keyboard manager in IPython - without this line, in FF,\n",
       "    // the notebook keyboard shortcuts fail.\n",
       "    IPython.keyboard_manager.enable()\n",
       "    $(fig.parent_element).html('<img src=\"' + dataURL + '\">');\n",
       "    fig.close_ws(fig, msg);\n",
       "}\n",
       "\n",
       "mpl.figure.prototype.close_ws = function(fig, msg){\n",
       "    fig.send_message('closing', msg);\n",
       "    // fig.ws.close()\n",
       "}\n",
       "\n",
       "mpl.figure.prototype.push_to_output = function(remove_interactive) {\n",
       "    // Turn the data on the canvas into data in the output cell.\n",
       "    var dataURL = this.canvas.toDataURL();\n",
       "    this.cell_info[1]['text/html'] = '<img src=\"' + dataURL + '\">';\n",
       "}\n",
       "\n",
       "mpl.figure.prototype.updated_canvas_event = function() {\n",
       "    // Tell IPython that the notebook contents must change.\n",
       "    IPython.notebook.set_dirty(true);\n",
       "    this.send_message(\"ack\", {});\n",
       "    var fig = this;\n",
       "    // Wait a second, then push the new image to the DOM so\n",
       "    // that it is saved nicely (might be nice to debounce this).\n",
       "    setTimeout(function () { fig.push_to_output() }, 1000);\n",
       "}\n",
       "\n",
       "mpl.figure.prototype._init_toolbar = function() {\n",
       "    var fig = this;\n",
       "\n",
       "    var nav_element = $('<div/>')\n",
       "    nav_element.attr('style', 'width: 100%');\n",
       "    this.root.append(nav_element);\n",
       "\n",
       "    // Define a callback function for later on.\n",
       "    function toolbar_event(event) {\n",
       "        return fig.toolbar_button_onclick(event['data']);\n",
       "    }\n",
       "    function toolbar_mouse_event(event) {\n",
       "        return fig.toolbar_button_onmouseover(event['data']);\n",
       "    }\n",
       "\n",
       "    for(var toolbar_ind in mpl.toolbar_items){\n",
       "        var name = mpl.toolbar_items[toolbar_ind][0];\n",
       "        var tooltip = mpl.toolbar_items[toolbar_ind][1];\n",
       "        var image = mpl.toolbar_items[toolbar_ind][2];\n",
       "        var method_name = mpl.toolbar_items[toolbar_ind][3];\n",
       "\n",
       "        if (!name) { continue; };\n",
       "\n",
       "        var button = $('<button class=\"btn btn-default\" href=\"#\" title=\"' + name + '\"><i class=\"fa ' + image + ' fa-lg\"></i></button>');\n",
       "        button.click(method_name, toolbar_event);\n",
       "        button.mouseover(tooltip, toolbar_mouse_event);\n",
       "        nav_element.append(button);\n",
       "    }\n",
       "\n",
       "    // Add the status bar.\n",
       "    var status_bar = $('<span class=\"mpl-message\" style=\"text-align:right; float: right;\"/>');\n",
       "    nav_element.append(status_bar);\n",
       "    this.message = status_bar[0];\n",
       "\n",
       "    // Add the close button to the window.\n",
       "    var buttongrp = $('<div class=\"btn-group inline pull-right\"></div>');\n",
       "    var button = $('<button class=\"btn btn-mini btn-primary\" href=\"#\" title=\"Stop Interaction\"><i class=\"fa fa-power-off icon-remove icon-large\"></i></button>');\n",
       "    button.click(function (evt) { fig.handle_close(fig, {}); } );\n",
       "    button.mouseover('Stop Interaction', toolbar_mouse_event);\n",
       "    buttongrp.append(button);\n",
       "    var titlebar = this.root.find($('.ui-dialog-titlebar'));\n",
       "    titlebar.prepend(buttongrp);\n",
       "}\n",
       "\n",
       "mpl.figure.prototype._root_extra_style = function(el){\n",
       "    var fig = this\n",
       "    el.on(\"remove\", function(){\n",
       "\tfig.close_ws(fig, {});\n",
       "    });\n",
       "}\n",
       "\n",
       "mpl.figure.prototype._canvas_extra_style = function(el){\n",
       "    // this is important to make the div 'focusable\n",
       "    el.attr('tabindex', 0)\n",
       "    // reach out to IPython and tell the keyboard manager to turn it's self\n",
       "    // off when our div gets focus\n",
       "\n",
       "    // location in version 3\n",
       "    if (IPython.notebook.keyboard_manager) {\n",
       "        IPython.notebook.keyboard_manager.register_events(el);\n",
       "    }\n",
       "    else {\n",
       "        // location in version 2\n",
       "        IPython.keyboard_manager.register_events(el);\n",
       "    }\n",
       "\n",
       "}\n",
       "\n",
       "mpl.figure.prototype._key_event_extra = function(event, name) {\n",
       "    var manager = IPython.notebook.keyboard_manager;\n",
       "    if (!manager)\n",
       "        manager = IPython.keyboard_manager;\n",
       "\n",
       "    // Check for shift+enter\n",
       "    if (event.shiftKey && event.which == 13) {\n",
       "        this.canvas_div.blur();\n",
       "        event.shiftKey = false;\n",
       "        // Send a \"J\" for go to next cell\n",
       "        event.which = 74;\n",
       "        event.keyCode = 74;\n",
       "        manager.command_mode();\n",
       "        manager.handle_keydown(event);\n",
       "    }\n",
       "}\n",
       "\n",
       "mpl.figure.prototype.handle_save = function(fig, msg) {\n",
       "    fig.ondownload(fig, null);\n",
       "}\n",
       "\n",
       "\n",
       "mpl.find_output_cell = function(html_output) {\n",
       "    // Return the cell and output element which can be found *uniquely* in the notebook.\n",
       "    // Note - this is a bit hacky, but it is done because the \"notebook_saving.Notebook\"\n",
       "    // IPython event is triggered only after the cells have been serialised, which for\n",
       "    // our purposes (turning an active figure into a static one), is too late.\n",
       "    var cells = IPython.notebook.get_cells();\n",
       "    var ncells = cells.length;\n",
       "    for (var i=0; i<ncells; i++) {\n",
       "        var cell = cells[i];\n",
       "        if (cell.cell_type === 'code'){\n",
       "            for (var j=0; j<cell.output_area.outputs.length; j++) {\n",
       "                var data = cell.output_area.outputs[j];\n",
       "                if (data.data) {\n",
       "                    // IPython >= 3 moved mimebundle to data attribute of output\n",
       "                    data = data.data;\n",
       "                }\n",
       "                if (data['text/html'] == html_output) {\n",
       "                    return [cell, data, j];\n",
       "                }\n",
       "            }\n",
       "        }\n",
       "    }\n",
       "}\n",
       "\n",
       "// Register the function which deals with the matplotlib target/channel.\n",
       "// The kernel may be null if the page has been refreshed.\n",
       "if (IPython.notebook.kernel != null) {\n",
       "    IPython.notebook.kernel.comm_manager.register_target('matplotlib', mpl.mpl_figure_comm);\n",
       "}\n"
      ],
      "text/plain": [
       "<IPython.core.display.Javascript object>"
      ]
     },
     "metadata": {},
     "output_type": "display_data"
    },
    {
     "data": {
      "text/html": [
       "<img src=\"data:image/png;base64,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\">"
      ],
      "text/plain": [
       "<IPython.core.display.HTML object>"
      ]
     },
     "metadata": {},
     "output_type": "display_data"
    },
    {
     "data": {
      "text/plain": [
       "[<matplotlib.lines.Line2D at 0x10d174f60>]"
      ]
     },
     "execution_count": 5,
     "metadata": {},
     "output_type": "execute_result"
    }
   ],
   "source": [
    "%matplotlib nbagg\n",
    "import pylab as pl\n",
    "pl.plot([0,1])"
   ]
  },
  {
   "cell_type": "code",
   "execution_count": 7,
   "metadata": {
    "collapsed": false
   },
   "outputs": [
    {
     "name": "stdout",
     "output_type": "stream",
     "text": [
      "en_US.UTF-8\n",
      "en_US.UTF-8\n"
     ]
    }
   ],
   "source": [
    "%%bash\n",
    "export LC_ALL=en_US.UTF-8\n",
    "export LANG=en_US.UTF-8\n",
    "echo $LC_ALL\n",
    "echo $LANG"
   ]
  },
  {
   "cell_type": "code",
   "execution_count": 14,
   "metadata": {
    "collapsed": false
   },
   "outputs": [
    {
     "name": "stderr",
     "output_type": "stream",
     "text": [
      "  % Total    % Received % Xferd  Average Speed   Time    Time     Time  Current\n",
      "                                 Dload  Upload   Total   Spent    Left  Speed\n",
      "\r",
      "  0     0    0     0    0     0      0      0 --:--:-- --:--:-- --:--:--     0\r",
      "  0     0    0     0    0     0      0      0 --:--:-- --:--:-- --:--:--     0\r",
      "100 27461  100 27461    0     0  31239      0 --:--:-- --:--:-- --:--:-- 31241\n"
     ]
    }
   ],
   "source": [
    "%%bash\n",
    "curl -O https://raw.githubusercontent.com/astropy/specutils/master/specutils/io/tests/files/multispec_equispec.11.dat"
   ]
  },
  {
   "cell_type": "code",
   "execution_count": 15,
   "metadata": {
    "collapsed": false
   },
   "outputs": [
    {
     "name": "stdout",
     "output_type": "stream",
     "text": [
      "-rw-r--r--+ 1 adam 27K Mar 17 09:44 multispec_equispec.11.dat\r\n"
     ]
    }
   ],
   "source": [
    "ls -lh *dat"
   ]
  },
  {
   "cell_type": "code",
   "execution_count": 112,
   "metadata": {
    "collapsed": false
   },
   "outputs": [],
   "source": [
    "#cat multispec_equispec.11.dat"
   ]
  },
  {
   "cell_type": "code",
   "execution_count": 17,
   "metadata": {
    "collapsed": true
   },
   "outputs": [],
   "source": [
    "with open('multispec_equispec.11.dat','r') as fh:\n",
    "    text = fh.read()"
   ]
  },
  {
   "cell_type": "code",
   "execution_count": 20,
   "metadata": {
    "collapsed": false
   },
   "outputs": [],
   "source": [
    "fh = open('multispec_equispec.11.dat','r')\n",
    "text = fh.read()\n",
    "fh.close()"
   ]
  },
  {
   "cell_type": "code",
   "execution_count": 34,
   "metadata": {
    "collapsed": false
   },
   "outputs": [],
   "source": [
    "with open('multispec_equispec.11.dat','r') as fh:\n",
    "    all_lines = []\n",
    "    for line in fh:\n",
    "        all_lines.append(line.split())"
   ]
  },
  {
   "cell_type": "code",
   "execution_count": 50,
   "metadata": {
    "collapsed": false
   },
   "outputs": [],
   "source": [
    "with open('multispec_equispec.11.dat','r') as fh:\n",
    "    all_lines = []\n",
    "    for line in fh:\n",
    "        all_lines.append(list(map(float, line.split())))"
   ]
  },
  {
   "cell_type": "code",
   "execution_count": 53,
   "metadata": {
    "collapsed": false
   },
   "outputs": [
    {
     "data": {
      "text/plain": [
       "23.5"
      ]
     },
     "execution_count": 53,
     "metadata": {},
     "output_type": "execute_result"
    }
   ],
   "source": [
    "float('23.5')"
   ]
  },
  {
   "cell_type": "code",
   "execution_count": 55,
   "metadata": {
    "collapsed": false
   },
   "outputs": [
    {
     "data": {
      "text/plain": [
       "[1.2, 2.3]"
      ]
     },
     "execution_count": 55,
     "metadata": {},
     "output_type": "execute_result"
    }
   ],
   "source": [
    "list(map(float, [\"1.2\",\"2.3\"]))"
   ]
  },
  {
   "cell_type": "code",
   "execution_count": 57,
   "metadata": {
    "collapsed": false
   },
   "outputs": [],
   "source": [
    "float_lines_array = np.array(all_lines)"
   ]
  },
  {
   "cell_type": "code",
   "execution_count": 61,
   "metadata": {
    "collapsed": false
   },
   "outputs": [
    {
     "data": {
      "text/plain": [
       "14754.649971697299"
      ]
     },
     "execution_count": 61,
     "metadata": {},
     "output_type": "execute_result"
    }
   ],
   "source": [
    "float_lines_array[4,0]"
   ]
  },
  {
   "cell_type": "code",
   "execution_count": 64,
   "metadata": {
    "collapsed": false
   },
   "outputs": [
    {
     "data": {
      "text/plain": [
       "[[14740.266391838, 0.8220932], [14743.8622868028, -1.856567]]"
      ]
     },
     "execution_count": 64,
     "metadata": {},
     "output_type": "execute_result"
    }
   ],
   "source": [
    "all_lines[:2]"
   ]
  },
  {
   "cell_type": "code",
   "execution_count": 67,
   "metadata": {
    "collapsed": false
   },
   "outputs": [
    {
     "data": {
      "text/plain": [
       "array([ 14740.26639184,  14743.8622868 ,  14747.45818177])"
      ]
     },
     "execution_count": 67,
     "metadata": {},
     "output_type": "execute_result"
    }
   ],
   "source": [
    "float_lines_array[0:3, 0]"
   ]
  },
  {
   "cell_type": "code",
   "execution_count": 68,
   "metadata": {
    "collapsed": true
   },
   "outputs": [],
   "source": [
    "wavelengths = float_lines_array[:, 0]"
   ]
  },
  {
   "cell_type": "code",
   "execution_count": 69,
   "metadata": {
    "collapsed": true
   },
   "outputs": [],
   "source": [
    "fluxes = float_lines_array[:,1]"
   ]
  },
  {
   "cell_type": "code",
   "execution_count": 71,
   "metadata": {
    "collapsed": false
   },
   "outputs": [],
   "source": [
    "wavelengths_list = list(zip(*all_lines))[0]"
   ]
  },
  {
   "cell_type": "code",
   "execution_count": 72,
   "metadata": {
    "collapsed": false
   },
   "outputs": [
    {
     "data": {
      "text/plain": [
       "[(1, 'a'), (2, 'b'), (3, 'c')]"
      ]
     },
     "execution_count": 72,
     "metadata": {},
     "output_type": "execute_result"
    }
   ],
   "source": [
    "a = [1,2,3]\n",
    "b = ['a','b','c']\n",
    "list(zip(a,b))"
   ]
  },
  {
   "cell_type": "code",
   "execution_count": 73,
   "metadata": {
    "collapsed": false
   },
   "outputs": [
    {
     "data": {
      "text/plain": [
       "[(1, 'a'), (2, 'b'), (3, 'c')]"
      ]
     },
     "execution_count": 73,
     "metadata": {},
     "output_type": "execute_result"
    }
   ],
   "source": [
    "list(zip(*[a,b]))"
   ]
  },
  {
   "cell_type": "markdown",
   "metadata": {},
   "source": [
    "\n",
    "given:\n",
    "``params = [a0,a1,a2,a3]``\n",
    "\n",
    "Equivalent:\n",
    "    \n",
    "    f(a0,a1,a2,a3)\n",
    "    f(*params)"
   ]
  },
  {
   "cell_type": "code",
   "execution_count": 77,
   "metadata": {
    "collapsed": false
   },
   "outputs": [
    {
     "data": {
      "image/png": "[encoded data removed]",
      "text/plain": [
       "<matplotlib.figure.Figure at 0x10da81080>"
      ]
     },
     "metadata": {},
     "output_type": "display_data"
    }
   ],
   "source": [
    "%matplotlib inline\n",
    "import pylab as pl\n",
    "pl.plot(wavelengths, fluxes)\n",
    "pl.savefig('first_spectrum.png')\n",
    "pl.savefig('first_spectrum.pdf')"
   ]
  },
  {
   "cell_type": "code",
   "execution_count": 79,
   "metadata": {
    "collapsed": true
   },
   "outputs": [],
   "source": [
    "%%bash\n",
    "open first_spectrum.pdf"
   ]
  },
  {
   "cell_type": "code",
   "execution_count": 80,
   "metadata": {
    "collapsed": true
   },
   "outputs": [],
   "source": [
    "import numpy as np"
   ]
  },
  {
   "cell_type": "code",
   "execution_count": 81,
   "metadata": {
    "collapsed": false
   },
   "outputs": [
    {
     "data": {
      "text/plain": [
       "array([[  1.47402664e+04,   8.22093200e-01],\n",
       "       [  1.47438623e+04,  -1.85656700e+00],\n",
       "       [  1.47474582e+04,  -2.08070000e+00],\n",
       "       ..., \n",
       "       [  1.84116752e+04,   5.27366100e+00],\n",
       "       [  1.84152710e+04,   6.57225800e+00],\n",
       "       [  1.84188669e+04,   1.60453100e+00]])"
      ]
     },
     "execution_count": 81,
     "metadata": {},
     "output_type": "execute_result"
    }
   ],
   "source": [
    "# simple text loading\n",
    "arr = np.loadtxt('multispec_equispec.11.dat')\n",
    "arr"
   ]
  },
  {
   "cell_type": "code",
   "execution_count": 83,
   "metadata": {
    "collapsed": false
   },
   "outputs": [
    {
     "data": {
      "text/plain": [
       "array([[  1.47402664e+04,   8.22093200e-01],\n",
       "       [  1.47438623e+04,  -1.85656700e+00],\n",
       "       [  1.47474582e+04,  -2.08070000e+00],\n",
       "       ..., \n",
       "       [  1.84116752e+04,   5.27366100e+00],\n",
       "       [  1.84152710e+04,   6.57225800e+00],\n",
       "       [  1.84188669e+04,   1.60453100e+00]])"
      ]
     },
     "execution_count": 83,
     "metadata": {},
     "output_type": "execute_result"
    }
   ],
   "source": [
    "# genfromtxt: more complicated, more flexible\n",
    "arr = np.genfromtxt('multispec_equispec.11.dat')\n",
    "arr"
   ]
  },
  {
   "cell_type": "code",
   "execution_count": 84,
   "metadata": {
    "collapsed": true
   },
   "outputs": [],
   "source": [
    "# genfromtxt: more complicated, more flexible\n",
    "# line wrapping: pep8 tells you how you \"should\" write code conventionally\n",
    "arr = np.genfromtxt('multispec_equispec.11.dat', delimiter=\" \", comments=\"#\",\n",
    "                    skip_header=0, skip_footer=0)\n",
    "arr"
   ]
  },
  {
   "cell_type": "code",
   "execution_count": 87,
   "metadata": {
    "collapsed": true
   },
   "outputs": [],
   "source": [
    "from astropy.table import Table\n",
    "from astropy.io import ascii"
   ]
  },
  {
   "cell_type": "code",
   "execution_count": 113,
   "metadata": {
    "collapsed": false
   },
   "outputs": [],
   "source": [
    "tbl = Table.read('multispec_equispec.11.dat', format='ascii.no_header', delimiter=' ')\n",
    "#tbl"
   ]
  },
  {
   "cell_type": "code",
   "execution_count": 114,
   "metadata": {
    "collapsed": false
   },
   "outputs": [],
   "source": [
    "# wavelengths\n",
    "#tbl['col1']"
   ]
  },
  {
   "cell_type": "code",
   "execution_count": 93,
   "metadata": {
    "collapsed": false
   },
   "outputs": [
    {
     "data": {
      "text/plain": [
       "astropy.table.column.Column"
      ]
     },
     "execution_count": 93,
     "metadata": {},
     "output_type": "execute_result"
    }
   ],
   "source": [
    "type(tbl['col1'])"
   ]
  },
  {
   "cell_type": "code",
   "execution_count": 98,
   "metadata": {
    "collapsed": false
   },
   "outputs": [],
   "source": [
    "wavelength = tbl['col1'].data"
   ]
  },
  {
   "cell_type": "code",
   "execution_count": 99,
   "metadata": {
    "collapsed": false
   },
   "outputs": [
    {
     "data": {
      "text/plain": [
       "array([ 14740.26639184,  14743.8622868 ,  14747.45818177, ...,\n",
       "        18411.67515091,  18415.27104588,  18418.86694084])"
      ]
     },
     "execution_count": 99,
     "metadata": {},
     "output_type": "execute_result"
    }
   ],
   "source": [
    "wavelength"
   ]
  },
  {
   "cell_type": "code",
   "execution_count": 103,
   "metadata": {
    "collapsed": false
   },
   "outputs": [],
   "source": [
    "import pandas as pd"
   ]
  },
  {
   "cell_type": "code",
   "execution_count": 108,
   "metadata": {
    "collapsed": false
   },
   "outputs": [],
   "source": [
    "pdtbl = tbl.to_pandas()"
   ]
  },
  {
   "cell_type": "code",
   "execution_count": 107,
   "metadata": {
    "collapsed": false
   },
   "outputs": [],
   "source": [
    "ptbl = pd.read_csv('multispec_equispec.11.dat', delim_whitespace=True, header=None)"
   ]
  },
  {
   "cell_type": "code",
   "execution_count": 109,
   "metadata": {
    "collapsed": false
   },
   "outputs": [
    {
     "name": "stdout",
     "output_type": "stream",
     "text": [
      "1000 loops, best of 3: 1.1 ms per loop\n"
     ]
    }
   ],
   "source": [
    "%timeit ptbl = pd.read_csv('multispec_equispec.11.dat', delim_whitespace=True, header=None)"
   ]
  },
  {
   "cell_type": "code",
   "execution_count": 111,
   "metadata": {
    "collapsed": false
   },
   "outputs": [
    {
     "name": "stdout",
     "output_type": "stream",
     "text": [
      "1000 loops, best of 3: 1.31 ms per loop\n"
     ]
    }
   ],
   "source": [
    "%timeit tbl = Table.read('multispec_equispec.11.dat', format='ascii.no_header', delimiter=' ')"
   ]
  },
  {
   "cell_type": "code",
   "execution_count": 115,
   "metadata": {
    "collapsed": false
   },
   "outputs": [
    {
     "data": {
      "text/html": [
       "&lt;Table length=1024&gt;\n",
       "<table id=\"table4496046344\">\n",
       "<thead><tr><th>col1</th><th>col2</th></tr></thead>\n",
       "<thead><tr><th>float64</th><th>float64</th></tr></thead>\n",
       "<tr><td>14740.2663918</td><td>0.8220932</td></tr>\n",
       "<tr><td>14743.8622868</td><td>-1.856567</td></tr>\n",
       "<tr><td>14747.4581818</td><td>-2.0807</td></tr>\n",
       "<tr><td>14751.0540767</td><td>-2.75078</td></tr>\n",
       "<tr><td>14754.6499717</td><td>-1.882897</td></tr>\n",
       "<tr><td>14758.2458667</td><td>-1.653645</td></tr>\n",
       "<tr><td>14761.8417616</td><td>-2.496639</td></tr>\n",
       "<tr><td>14765.4376566</td><td>-2.216392</td></tr>\n",
       "<tr><td>14769.0335516</td><td>-1.711144</td></tr>\n",
       "<tr><td>14772.6294465</td><td>-2.086175</td></tr>\n",
       "<tr><td>...</td><td>...</td></tr>\n",
       "<tr><td>18386.5038862</td><td>6.753047</td></tr>\n",
       "<tr><td>18390.0997811</td><td>6.417622</td></tr>\n",
       "<tr><td>18393.6956761</td><td>6.072701</td></tr>\n",
       "<tr><td>18397.2915711</td><td>5.728085</td></tr>\n",
       "<tr><td>18400.887466</td><td>4.878081</td></tr>\n",
       "<tr><td>18404.483361</td><td>3.940828</td></tr>\n",
       "<tr><td>18408.0792559</td><td>4.006176</td></tr>\n",
       "<tr><td>18411.6751509</td><td>5.273661</td></tr>\n",
       "<tr><td>18415.2710459</td><td>6.572258</td></tr>\n",
       "<tr><td>18418.8669408</td><td>1.604531</td></tr>\n",
       "</table>"
      ],
      "text/plain": [
       "<Table length=1024>\n",
       "     col1        col2  \n",
       "   float64     float64 \n",
       "------------- ---------\n",
       "14740.2663918 0.8220932\n",
       "14743.8622868 -1.856567\n",
       "14747.4581818   -2.0807\n",
       "14751.0540767  -2.75078\n",
       "14754.6499717 -1.882897\n",
       "14758.2458667 -1.653645\n",
       "14761.8417616 -2.496639\n",
       "14765.4376566 -2.216392\n",
       "14769.0335516 -1.711144\n",
       "14772.6294465 -2.086175\n",
       "          ...       ...\n",
       "18386.5038862  6.753047\n",
       "18390.0997811  6.417622\n",
       "18393.6956761  6.072701\n",
       "18397.2915711  5.728085\n",
       " 18400.887466  4.878081\n",
       " 18404.483361  3.940828\n",
       "18408.0792559  4.006176\n",
       "18411.6751509  5.273661\n",
       "18415.2710459  6.572258\n",
       "18418.8669408  1.604531"
      ]
     },
     "execution_count": 115,
     "metadata": {},
     "output_type": "execute_result"
    }
   ],
   "source": [
    "tbl."
   ]
  }
 ],
 "metadata": {
  "kernelspec": {
   "display_name": "Python 3",
   "language": "python",
   "name": "python3"
  },
  "language_info": {
   "codemirror_mode": {
    "name": "ipython",
    "version": 3
   },
   "file_extension": ".py",
   "mimetype": "text/x-python",
   "name": "python",
   "nbconvert_exporter": "python",
   "pygments_lexer": "ipython3",
   "version": "3.5.1"
  }
 },
 "nbformat": 4,
 "nbformat_minor": 0
}
