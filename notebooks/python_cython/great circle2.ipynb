{
 "metadata": {
  "name": "",
  "signature": "sha256:2c273bafdaba0655d8a118d8e531cf26041e984277b8c35f3843adb5290dcc0c"
 },
 "nbformat": 3,
 "nbformat_minor": 0,
 "worksheets": [
  {
   "cells": [
    {
     "cell_type": "markdown",
     "metadata": {},
     "source": [
      "**Another Cython experiment**"
     ]
    },
    {
     "cell_type": "code",
     "collapsed": false,
     "input": [
      "%load_ext cythonmagic"
     ],
     "language": "python",
     "metadata": {},
     "outputs": [],
     "prompt_number": 2
    },
    {
     "cell_type": "code",
     "collapsed": false,
     "input": [
      "import math\n",
      "\n",
      "def py_great_circle(lon1, lat1, lon2, lat2):\n",
      "    radius = 6371 #km\n",
      "    x = math.pi/180.0\n",
      "\n",
      "    a = (90.0-lat1)*(x)\n",
      "    b = (90.0-lat2)*(x)\n",
      "    theta = (lon2-lon1)*(x)\n",
      "    c = math.acos((math.cos(a)*math.cos(b)) +\n",
      "                  (math.sin(a)*math.sin(b)*math.cos(theta)))\n",
      "    return radius*c\n"
     ],
     "language": "python",
     "metadata": {},
     "outputs": [],
     "prompt_number": 3
    },
    {
     "cell_type": "code",
     "collapsed": false,
     "input": [
      "%timeit py_great_circle(-72.345, 34.323, -61.823, 54.826)"
     ],
     "language": "python",
     "metadata": {},
     "outputs": [
      {
       "output_type": "stream",
       "stream": "stdout",
       "text": [
        "1000000 loops, best of 3: 1.07 \u00b5s per loop\n"
       ]
      }
     ],
     "prompt_number": 4
    },
    {
     "cell_type": "code",
     "collapsed": false,
     "input": [
      "%%cython\n",
      "import math\n",
      "\n",
      "def great_circle(lon1, lat1, lon2, lat2):\n",
      "    cdef float radius = 6371 #km\n",
      "    cdef float x = math.pi/180.0\n",
      "    \n",
      "    cdef float a, b, c, theta\n",
      "    \n",
      "    a = (90.0-lat1)*(x)\n",
      "    b = (90.0-lat2)*(x)\n",
      "    theta = (lon2-lon1)*(x)\n",
      "    c = math.acos((math.cos(a)*math.cos(b)) +\n",
      "                  (math.sin(a)*math.sin(b)*math.cos(theta)))\n",
      "    return radius*c\n"
     ],
     "language": "python",
     "metadata": {},
     "outputs": [],
     "prompt_number": 6
    },
    {
     "cell_type": "code",
     "collapsed": false,
     "input": [
      "%timeit great_circle(-72.345, 34.323, -61.823, 54.826)"
     ],
     "language": "python",
     "metadata": {},
     "outputs": [
      {
       "output_type": "stream",
       "stream": "stdout",
       "text": [
        "1000000 loops, best of 3: 249 ns per loop\n"
       ]
      }
     ],
     "prompt_number": 10
    },
    {
     "cell_type": "code",
     "collapsed": false,
     "input": [
      "%%cython\n",
      "\n",
      "cdef extern from \"math.h\":\n",
      "    float cosf(float theta)\n",
      "    float sinf(float theta)\n",
      "    float acosf(float theta)\n",
      "\n",
      "def great_circle(lon1, lat1, lon2, lat2):\n",
      "    cdef float radius = 6371 #km\n",
      "    cdef float pi = 3.14159265\n",
      "    cdef float x = pi/180.0\n",
      "    \n",
      "    cdef float a, b, c, theta\n",
      "    \n",
      "    a = (90.0-lat1)*(x)\n",
      "    b = (90.0-lat2)*(x)\n",
      "    theta = (lon2-lon1)*(x)\n",
      "    c = acosf((cosf(a)* cosf(b)) +\n",
      "                  (sinf(a)*sinf(b)*cosf(theta)))\n",
      "    return radius*c"
     ],
     "language": "python",
     "metadata": {},
     "outputs": [],
     "prompt_number": 9
    },
    {
     "cell_type": "code",
     "collapsed": false,
     "input": [],
     "language": "python",
     "metadata": {},
     "outputs": []
    }
   ],
   "metadata": {}
  }
 ]
}