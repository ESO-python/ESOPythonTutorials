{
 "metadata": {
  "astropy-tutorials": {
   "author": "Lia R. Corrales <lia@astro.columbia.edu>",
   "date": "January 2014",
   "description": "astropy.utils.data to download the file, astropy.io.fits to open and view the file, matplotlib for making both 1D and 2D histograms of the data.",
   "link_name": "Viewing and manipulating data from FITS tables",
   "name": "",
   "published": true
  },
  "name": "",
  "signature": "sha256:9e0497be4b203e31064ce5428d54a3390ac6ecfb4de53d0c6262c2a17ecbdf4f"
 },
 "nbformat": 3,
 "nbformat_minor": 0,
 "worksheets": [
  {
   "cells": [
    {
     "cell_type": "code",
     "collapsed": false,
     "input": [
      "import numpy as np\n",
      "\n",
      "# Set up matplotlib and use a nicer set of plot parameters\n",
      "%config InlineBackend.rc = {}\n",
      "import matplotlib\n",
      "matplotlib.rc_file(\"templates/matplotlibrc\")\n",
      "import matplotlib.pyplot as plt\n",
      "%matplotlib inline"
     ],
     "language": "python",
     "metadata": {},
     "outputs": [],
     "prompt_number": 15
    },
    {
     "cell_type": "heading",
     "level": 1,
     "metadata": {},
     "source": [
      "Viewing and manipulating data from FITS tables"
     ]
    },
    {
     "cell_type": "code",
     "collapsed": false,
     "input": [
      "from astropy.io import fits\n",
      "##OR \n",
      "#import pyfits as fits"
     ],
     "language": "python",
     "metadata": {},
     "outputs": [],
     "prompt_number": 16
    },
    {
     "cell_type": "heading",
     "level": 2,
     "metadata": {},
     "source": [
      "Opening the FITS file and viewing table contents"
     ]
    },
    {
     "cell_type": "markdown",
     "metadata": {},
     "source": [
      "We open the table and list its content."
     ]
    },
    {
     "cell_type": "code",
     "collapsed": false,
     "input": [
      "SDSS_tab = fits.open('templates/SDSS_galaxy_tab.fits')"
     ],
     "language": "python",
     "metadata": {},
     "outputs": [],
     "prompt_number": 17
    },
    {
     "cell_type": "code",
     "collapsed": false,
     "input": [
      "SDSS_tab.info()"
     ],
     "language": "python",
     "metadata": {},
     "outputs": [
      {
       "output_type": "stream",
       "stream": "stdout",
       "text": [
        "Filename: templates/SDSS_galaxy_tab.fits\n",
        "No.    Name         Type      Cards   Dimensions   Format\n",
        "0    PRIMARY     PrimaryHDU      16   (452,)       uint8   \n",
        "1    /scratch/bernd/sample_data/SDSS_galaxy_data/SDSS_galaxy_tab.fits#1  BinTableHDU     16   868491R x 2C   [E, E]   \n"
       ]
      }
     ],
     "prompt_number": 18
    },
    {
     "cell_type": "markdown",
     "metadata": {},
     "source": [
      "I'm interested in reading EVENTS, which contains information about each X-ray photon that hit the detector."
     ]
    },
    {
     "cell_type": "markdown",
     "metadata": {},
     "source": [
      "To find out what information the table contains, I will print the column names."
     ]
    },
    {
     "cell_type": "code",
     "collapsed": false,
     "input": [
      "print(SDSS_tab[1].columns)"
     ],
     "language": "python",
     "metadata": {},
     "outputs": [
      {
       "output_type": "stream",
       "stream": "stdout",
       "text": [
        "ColDefs(\n",
        "    name = 'tot_mass'; format = 'E'\n",
        "    name = 'sSFR'; format = 'E'\n",
        ")\n"
       ]
      }
     ],
     "prompt_number": 19
    },
    {
     "cell_type": "markdown",
     "metadata": {},
     "source": [
      "Now I'll load the data into a separate variable."
     ]
    },
    {
     "cell_type": "code",
     "collapsed": false,
     "input": [
      "SDSS_data = SDSS_tab[1].data"
     ],
     "language": "python",
     "metadata": {},
     "outputs": [],
     "prompt_number": 20
    },
    {
     "cell_type": "markdown",
     "metadata": {},
     "source": [
      "We can extract data from the table by referencing the column name."
     ]
    },
    {
     "cell_type": "markdown",
     "metadata": {},
     "source": [
      "For example, I'll make a histogram for the galaxy stellar masses of SDSS."
     ]
    },
    {
     "cell_type": "code",
     "collapsed": false,
     "input": [
      "bins = numpy.arange(8,12,0.1)\n",
      "mass_hist = plt.hist(SDSS_data['tot_mass'], bins=bins)"
     ],
     "language": "python",
     "metadata": {},
     "outputs": [
      {
       "metadata": {},
       "output_type": "display_data",
       "png": "[encoded data removed]",
       "text": [
        "<matplotlib.figure.Figure at 0x7f41ad4d88d0>"
       ]
      }
     ],
     "prompt_number": 21
    },
    {
     "cell_type": "heading",
     "level": 2,
     "metadata": {},
     "source": [
      "Making a 2-D histogram with some table data"
     ]
    },
    {
     "cell_type": "markdown",
     "metadata": {},
     "source": [
      "Next, we create a 2d plot of the specific SFR against the stellar mass for SDSS"
     ]
    },
    {
     "cell_type": "heading",
     "level": 3,
     "metadata": {},
     "source": [
      "Use numpy to make a 2-D histogram and imshow to display it"
     ]
    },
    {
     "cell_type": "code",
     "collapsed": false,
     "input": [
      "mass = SDSS_data['tot_mass']\n",
      "sSFR = SDSS_data['sSFR']\n",
      "\n",
      "select_good = (mass>6.0) & (mass<12.0) & (sSFR>-80)\n",
      "NBINS = (100,50)\n",
      "\n",
      "mdensity, yedges, xedges = np.histogram2d(sSFR[select_good],mass[select_good], NBINS, range=[[-13,-9],[9.0,12.0]])\n",
      "\n",
      "extent = [xedges[0], xedges[-1], yedges[0], yedges[-1]]\n",
      "\n",
      "plt.imshow(mdensity, extent=extent, interpolation='nearest', origin='lower')\n",
      "\n",
      "plt.xlabel(r'log(stellar mass/[M${}_\\odot$]) ')\n",
      "plt.ylabel(r'log(sSFR/[M${}_\\odot$Gyr${}^{-1}$]')\n"
     ],
     "language": "python",
     "metadata": {},
     "outputs": [
      {
       "metadata": {},
       "output_type": "pyout",
       "prompt_number": 22,
       "text": [
        "<matplotlib.text.Text at 0x7f41ac65c190>"
       ]
      },
      {
       "metadata": {},
       "output_type": "display_data",
       "png": "[encoded data removed]",
       "text": [
        "<matplotlib.figure.Figure at 0x7f41ac7a4d50>"
       ]
      }
     ],
     "prompt_number": 22
    },
    {
     "cell_type": "heading",
     "level": 2,
     "metadata": {},
     "source": [
      "Close the FITS file"
     ]
    },
    {
     "cell_type": "code",
     "collapsed": false,
     "input": [
      "SDSS_tab.close()"
     ],
     "language": "python",
     "metadata": {},
     "outputs": [],
     "prompt_number": 23
    },
    {
     "cell_type": "heading",
     "level": 1,
     "metadata": {},
     "source": [
      "Creating a FITS table from scratch"
     ]
    },
    {
     "cell_type": "markdown",
     "metadata": {},
     "source": [
      "First, we create a short arrays that contain data to be stored."
     ]
    },
    {
     "cell_type": "code",
     "collapsed": false,
     "input": [
      "objects = ['SDSS J1230+3291','SDSS 1109+3019']\n",
      "mag = [15.6,numpy.nan]\n",
      "z = [0.1,0.04]\n",
      "flag = [0,-100]"
     ],
     "language": "python",
     "metadata": {},
     "outputs": [],
     "prompt_number": 24
    },
    {
     "cell_type": "markdown",
     "metadata": {},
     "source": [
      "Now, we create the columns for the table."
     ]
    },
    {
     "cell_type": "code",
     "collapsed": false,
     "input": [
      "columns=[]\n",
      "columns.append(fits.Column(name='Object',format='15A',unit='',array=objects))\n",
      "columns.append(fits.Column(name='mag',format='E',unit='mag',array=mag))\n",
      "columns.append(fits.Column(name='z',format='E',array=z))\n",
      "columns.append(fits.Column(name='flag',format='I',null=-100,array=flag))\n"
     ],
     "language": "python",
     "metadata": {},
     "outputs": [],
     "prompt_number": 25
    },
    {
     "cell_type": "raw",
     "metadata": {},
     "source": [
      "Format definition to be used as follows:\n",
      "FITS format code         Description                     8-bit bytes\n",
      "\n",
      "L                        logical (Boolean)               1\n",
      "X                        bit                             *\n",
      "B                        Unsigned byte                   1\n",
      "I                        16-bit integer                  2\n",
      "J                        32-bit integer                  4\n",
      "K                        64-bit integer                  8\n",
      "A                        character                       1\n",
      "E                        single precision floating point 4\n",
      "D                        double precision floating point 8\n",
      "C                        single precision complex        8\n",
      "M                        double precision complex        16\n",
      "P                        array descriptor                8\n",
      "Q                        array descriptor                16"
     ]
    },
    {
     "cell_type": "markdown",
     "metadata": {},
     "source": [
      "Next, we prepare and store the FITS file."
     ]
    },
    {
     "cell_type": "code",
     "collapsed": false,
     "input": [
      "## before astropy v0.4\n",
      "table = fits.new_table(columns)\n",
      "## after astropy v0.4\n",
      "##table = fits.BinTableHDU.from_columns(columns)\n",
      "\n",
      "hdulist = fits.HDUList([fits.PrimaryHDU(),table])"
     ],
     "language": "python",
     "metadata": {},
     "outputs": [],
     "prompt_number": 26
    },
    {
     "cell_type": "code",
     "collapsed": false,
     "input": [
      "hdulist.writeto('test_table.fits',clobber=True)"
     ],
     "language": "python",
     "metadata": {},
     "outputs": [
      {
       "output_type": "stream",
       "stream": "stderr",
       "text": [
        "WARNING:astropy:Overwriting existing file 'test_table.fits'.\n"
       ]
      },
      {
       "output_type": "stream",
       "stream": "stdout",
       "text": [
        "WARNING: Overwriting existing file 'test_table.fits'. [astropy.io.fits.file]\n"
       ]
      }
     ],
     "prompt_number": 27
    },
    {
     "cell_type": "markdown",
     "metadata": {},
     "source": [
      "Now, we reopen the file to update some information."
     ]
    },
    {
     "cell_type": "code",
     "collapsed": false,
     "input": [
      "HDU_update = fits.open('test_table.fits',mode='update')\n",
      "tab_data=HDU_update[1].data\n",
      "tab_header = HDU_update[1].header\n",
      "tab_data['object'][1] = 'SDSS J0012-0010'\n",
      "tab_data['mag'][1] = 15.0\n",
      "tab_data['z'][1] = 0.06\n",
      "tab_data['flag'][1] = 0\n",
      "## ADD comment entries for each column that can be read  by topcat\n",
      "tab_header['TCOMM1'] = 'Object names'\n",
      "tab_header['TCOMM2'] = 'Object magnitudes'\n",
      "tab_header['TCOMM3'] = 'Object redshift'\n",
      "tab_header['TCOMM4'] = 'Flag'\n",
      "HDU_update.flush()\n",
      "\n",
      "\n"
     ],
     "language": "python",
     "metadata": {},
     "outputs": [],
     "prompt_number": 28
    },
    {
     "cell_type": "code",
     "collapsed": false,
     "input": [],
     "language": "python",
     "metadata": {},
     "outputs": [],
     "prompt_number": 28
    }
   ],
   "metadata": {}
  }
 ]
}